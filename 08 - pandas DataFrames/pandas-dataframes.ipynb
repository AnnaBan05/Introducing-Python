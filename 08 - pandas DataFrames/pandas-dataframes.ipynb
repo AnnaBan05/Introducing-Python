{
 "cells": [
  {
   "cell_type": "markdown",
   "id": "b4fe44d2",
   "metadata": {},
   "source": [
    "<img src=\"https://pandas.pydata.org/static/img/pandas.svg\" width=200px>\n",
    "\n",
    "# pandas DataFrames\n",
    "---\n",
    "\n",
    "[Watch a walk-through of this lesson on YouTube](https://youtu.be/OJP-L_M1vEs)\n",
    "\n"
   ]
  },
  {
   "cell_type": "markdown",
   "id": "f9392fde",
   "metadata": {},
   "source": [
    "## Questions:\n",
    "- How do I read in data from a file?\n",
    "- How can I work with data in tabular format (tables)?\n",
    "- How can I do basic descriptive statistics on tabular data?\n",
    "\n",
    "## Learning Objectives:\n",
    "- Select individual values from a Pandas dataframe\n",
    "- Select entire rows or entire columns from a dataframe\n",
    "- Select a subset of both rows and columns from a dataframe in a single operation\n",
    "- Select a subset of a dataframe by a single Boolean criterion\n",
    "- Obtain descriptive statistics for subsets of data within a table\n",
    "- Use the split-apply-combine paradigm to work with data\n",
    "---"
   ]
  },
  {
   "cell_type": "markdown",
   "id": "5bc0b97d",
   "metadata": {},
   "source": [
    "## What is pandas?\n",
    "\n",
    "Bad news first: there are no cute, black-and-white bears here. [pandas](https://pandas.pydata.org/docs/) (whose official name starts with a lower-case \"p\") is a Python *library* for working with data in a tabular format, such as is found in file formats like CSV, Microsoft Excel, and Google Sheets. Unlike Excel or Sheets, pandas is not a point-and click graphical interface for working with these files — everything is done through Python code. But compared to other formats for working with data that we have seen in this workshop, such as lists and dictionaries, pandas may seem more familiar, and it definitely lends itself more naturally to large data sets. Indeed, pandas' mission statement is, \"...to be the fundamental high-level building block for doing practical, real world data analysis in Python\". \n",
    "\n",
    "The primary units of pandas data storage you will work with are [DataFrames](https://pandas.pydata.org/pandas-docs/stable/getting_started/intro_tutorials/01_table_oriented.html#min-tut-01-tableoriented) (essentially, tables of data organized as rows and columns). DataFrames are actually collections of pandas [Series](https://pandas.pydata.org/pandas-docs/stable/user_guide/dsintro.html) objects, which can be thought of as individual rows or columns (or vectors, or 1D arrays). \n",
    "\n",
    "Among the things that make pandas so attractive are the powerful interface to access individual records of the table, proper handling of missing values, and relational-databases operations between DataFrames. As well, pandas functions and methods are written to work intuitively and efficiently with data organized in tables. Most operations are *vectorized*, which means that they will automatically apply to all values in a DataFrame or Series without the need to write `for` loops to execute the same operation on a set of cells.\n",
    "\n",
    "pandas is built on top of the [NumPy](https://numpy.org) library. Although we haven't discussed NumPy in this workshop, it is a powerful and widely used Python library for working with numerical data. However, it's worth noting for your future reference that most of the methods defined for NumPy Arrays also apply to Pandas Series/DataFrames."
   ]
  },
  {
   "cell_type": "markdown",
   "id": "28364a5f",
   "metadata": {},
   "source": [
    "## About Python Libraries\n",
    "\n",
    "pandas is an example of a Python library. A **library** is a collection of files (called *modules*) that contains functions for use by other programs. Libraries provide ways of extending Python's functionality in different ways. They may also contain data values (e.g., numerical constants), entire sample data sets, and other things. A library's contents are supposed to be related, although there's no actual way to enforce that.\n",
    "\n",
    "The Python [standard library](https://docs.python.org/3/library/) is an extensive suite of modules that comes with Python itself. Everything we've done so far in this workshop has been part of the standard library. Many additional libraries are available; CoCalc has a large number of extra libraries already installed.\n",
    "\n",
    "To use a library in a particular Jupyter notebook or other Python program, we must import it using the `import` statement, like this:\n",
    "\n",
    "~~~python\n",
    "import pandas\n",
    "~~~\n",
    "\n",
    "Once a library is imported, we can use functions and methods from it. But, for functions we have to tell Python that the function can be found in a particular library we imported. For example, pandas has a function to import data from CSV (comma-separated value) files, called `read_csv`. To run this command, we would need to type:\n",
    "\n",
    "~~~python\n",
    "pandas.read_csv()\n",
    "~~~\n",
    "\n",
    "Since some package names are long, and adding the name to every function can result in a lot of typing, Python also allows us to assign an *alias* — a shorter name — to a library when we import it. For example, the convention for pandas is to give it the alias `pd` like this:\n",
    "\n",
    "~~~python\n",
    "import pandas as pd\n",
    "~~~\n",
    "\n",
    "Then to read a CSV file we could use:\n",
    "\n",
    "~~~python\n",
    "pd.read_csv()\n",
    "~~~\n",
    "\n",
    "In the cell below, import pandas with the alias pd:"
   ]
  },
  {
   "cell_type": "code",
   "execution_count": 1,
   "id": "c8535f09",
   "metadata": {},
   "outputs": [],
   "source": [
    "import pandas as pd"
   ]
  },
  {
   "cell_type": "markdown",
   "id": "432fc30e",
   "metadata": {},
   "source": [
    "## Importing data with pandas\n",
    "\n",
    "As noted, we can read a CSV file and use it to create a pandas DataFrame, with the funciton `pd.read_csv()`. [CSV](https://en.wikipedia.org/wiki/Comma-separated_values) is a text format used for storing tabular data, in which each line of the file corresponds to a row in the table, and columns are separated with commas (\"CSV\" stands for \"comma-separated values\"). Often the first row of a CSV file will be the *header*, containing labels for each column. \n",
    "\n",
    "The Gapminder data is in CSV format, so let's load in one of the Gapminder datasets with the command below. Note that when we read in a DataFrame, we need to assign it to a variable name so that we can reference it later. A convention when working with pandas is to call the DataFrame `df`. This works fine if you only have one DataFrame to work with, although if you are working with multiple DataFrames it is a good idea to give them more meaningful names.\n",
    "\n",
    "The Gapminder data are stored in a subfolder called `data`, so as the argument to `pd.read_csv()` below we give the folder name folled by a slash, then the file name:\n",
    "\n",
    "~~~python\n",
    "df = pd.read_csv('data/gapminder_gdp_europe.csv')\n",
    "~~~"
   ]
  },
  {
   "cell_type": "code",
   "execution_count": 2,
   "id": "c5a3113e",
   "metadata": {},
   "outputs": [],
   "source": [
    "df = pd.read_csv('data/gapminder_gdp_europe.csv')"
   ]
  },
  {
   "cell_type": "markdown",
   "id": "526f1678",
   "metadata": {},
   "source": [
    "We can view the contents of the DataFrame `df` by simply typing its name and running the cell. Note that, unlike most of the examples we've used in previous lessons, we *don't* use the `print()` function. Although it works, the result is not nicely formatted the way the output is if we just use the name of the data frame.\n",
    "\n",
    "That is, run this command: `df` — not `print(df)` — in the cell below."
   ]
  },
  {
   "cell_type": "code",
   "execution_count": 3,
   "id": "3ee896a5",
   "metadata": {},
   "outputs": [
    {
     "data": {
      "application/vnd.microsoft.datawrangler.viewer.v0+json": {
       "columns": [
        {
         "name": "index",
         "rawType": "int64",
         "type": "integer"
        },
        {
         "name": "country",
         "rawType": "object",
         "type": "string"
        },
        {
         "name": "gdpPercap_1952",
         "rawType": "float64",
         "type": "float"
        },
        {
         "name": "gdpPercap_1957",
         "rawType": "float64",
         "type": "float"
        },
        {
         "name": "gdpPercap_1962",
         "rawType": "float64",
         "type": "float"
        },
        {
         "name": "gdpPercap_1967",
         "rawType": "float64",
         "type": "float"
        },
        {
         "name": "gdpPercap_1972",
         "rawType": "float64",
         "type": "float"
        },
        {
         "name": "gdpPercap_1977",
         "rawType": "float64",
         "type": "float"
        },
        {
         "name": "gdpPercap_1982",
         "rawType": "float64",
         "type": "float"
        },
        {
         "name": "gdpPercap_1987",
         "rawType": "float64",
         "type": "float"
        },
        {
         "name": "gdpPercap_1992",
         "rawType": "float64",
         "type": "float"
        },
        {
         "name": "gdpPercap_1997",
         "rawType": "float64",
         "type": "float"
        },
        {
         "name": "gdpPercap_2002",
         "rawType": "float64",
         "type": "float"
        },
        {
         "name": "gdpPercap_2007",
         "rawType": "float64",
         "type": "float"
        }
       ],
       "ref": "d9f02543-9235-4de6-987e-8f8f13b1d976",
       "rows": [
        [
         "0",
         "Albania",
         "1601.056136",
         "1942.284244",
         "2312.888958",
         "2760.196931",
         "3313.422188",
         "3533.00391",
         "3630.880722",
         "3738.932735",
         "2497.437901",
         "3193.054604",
         "4604.211737",
         "5937.029526"
        ],
        [
         "1",
         "Austria",
         "6137.076492",
         "8842.59803",
         "10750.72111",
         "12834.6024",
         "16661.6256",
         "19749.4223",
         "21597.08362",
         "23687.82607",
         "27042.01868",
         "29095.92066",
         "32417.60769",
         "36126.4927"
        ],
        [
         "2",
         "Belgium",
         "8343.105127",
         "9714.960623",
         "10991.20676",
         "13149.04119",
         "16672.14356",
         "19117.97448",
         "20979.84589",
         "22525.56308",
         "25575.57069",
         "27561.19663",
         "30485.88375",
         "33692.60508"
        ],
        [
         "3",
         "Bosnia and Herzegovina",
         "973.5331948",
         "1353.989176",
         "1709.683679",
         "2172.352423",
         "2860.16975",
         "3528.481305",
         "4126.613157",
         "4314.114757",
         "2546.781445",
         "4766.355904",
         "6018.975239",
         "7446.298803"
        ],
        [
         "4",
         "Bulgaria",
         "2444.286648",
         "3008.670727",
         "4254.337839",
         "5577.0028",
         "6597.494398",
         "7612.240438",
         "8224.191647",
         "8239.854824",
         "6302.623438",
         "5970.38876",
         "7696.777725",
         "10680.79282"
        ],
        [
         "5",
         "Croatia",
         "3119.23652",
         "4338.231617",
         "5477.890018",
         "6960.297861",
         "9164.090127",
         "11305.38517",
         "13221.82184",
         "13822.58394",
         "8447.794873",
         "9875.604515",
         "11628.38895",
         "14619.22272"
        ],
        [
         "6",
         "Czech Republic",
         "6876.14025",
         "8256.343918",
         "10136.86713",
         "11399.44489",
         "13108.4536",
         "14800.16062",
         "15377.22855",
         "16310.4434",
         "14297.02122",
         "16048.51424",
         "17596.21022",
         "22833.30851"
        ],
        [
         "7",
         "Denmark",
         "9692.385245",
         "11099.65935",
         "13583.31351",
         "15937.21123",
         "18866.20721",
         "20422.9015",
         "21688.04048",
         "25116.17581",
         "26406.73985",
         "29804.34567",
         "32166.50006",
         "35278.41874"
        ],
        [
         "8",
         "Finland",
         "6424.519071",
         "7545.415386",
         "9371.842561",
         "10921.63626",
         "14358.8759",
         "15605.42283",
         "18533.15761",
         "21141.01223",
         "20647.16499",
         "23723.9502",
         "28204.59057",
         "33207.0844"
        ],
        [
         "9",
         "France",
         "7029.809327",
         "8662.834898",
         "10560.48553",
         "12999.91766",
         "16107.19171",
         "18292.63514",
         "20293.89746",
         "22066.44214",
         "24703.79615",
         "25889.78487",
         "28926.03234",
         "30470.0167"
        ],
        [
         "10",
         "Germany",
         "7144.114393",
         "10187.82665",
         "12902.46291",
         "14745.62561",
         "18016.18027",
         "20512.92123",
         "22031.53274",
         "24639.18566",
         "26505.30317",
         "27788.88416",
         "30035.80198",
         "32170.37442"
        ],
        [
         "11",
         "Greece",
         "3530.690067",
         "4916.299889",
         "6017.190733",
         "8513.097016",
         "12724.82957",
         "14195.52428",
         "15268.42089",
         "16120.52839",
         "17541.49634",
         "18747.69814",
         "22514.2548",
         "27538.41188"
        ],
        [
         "12",
         "Hungary",
         "5263.673816",
         "6040.180011",
         "7550.359877",
         "9326.64467",
         "10168.65611",
         "11674.83737",
         "12545.99066",
         "12986.47998",
         "10535.62855",
         "11712.7768",
         "14843.93556",
         "18008.94444"
        ],
        [
         "13",
         "Iceland",
         "7267.688428",
         "9244.001412",
         "10350.15906",
         "13319.89568",
         "15798.06362",
         "19654.96247",
         "23269.6075",
         "26923.20628",
         "25144.39201",
         "28061.09966",
         "31163.20196",
         "36180.78919"
        ],
        [
         "14",
         "Ireland",
         "5210.280328",
         "5599.077872",
         "6631.597314",
         "7655.568963",
         "9530.772896",
         "11150.98113",
         "12618.32141",
         "13872.86652",
         "17558.81555",
         "24521.94713",
         "34077.04939",
         "40675.99635"
        ],
        [
         "15",
         "Italy",
         "4931.404155",
         "6248.656232",
         "8243.58234",
         "10022.40131",
         "12269.27378",
         "14255.98475",
         "16537.4835",
         "19207.23482",
         "22013.64486",
         "24675.02446",
         "27968.09817",
         "28569.7197"
        ],
        [
         "16",
         "Montenegro",
         "2647.585601",
         "3682.259903",
         "4649.593785",
         "5907.850937",
         "7778.414017",
         "9595.929905",
         "11222.58762",
         "11732.51017",
         "7003.339037",
         "6465.613349",
         "6557.194282",
         "9253.896111"
        ],
        [
         "17",
         "Netherlands",
         "8941.571858",
         "11276.19344",
         "12790.84956",
         "15363.25136",
         "18794.74567",
         "21209.0592",
         "21399.46046",
         "23651.32361",
         "26790.94961",
         "30246.13063",
         "33724.75778",
         "36797.93332"
        ],
        [
         "18",
         "Norway",
         "10095.42172",
         "11653.97304",
         "13450.40151",
         "16361.87647",
         "18965.05551",
         "23311.34939",
         "26298.63531",
         "31540.9748",
         "33965.66115",
         "41283.16433",
         "44683.97525",
         "49357.19017"
        ],
        [
         "19",
         "Poland",
         "4029.329699",
         "4734.253019",
         "5338.752143",
         "6557.152776",
         "8006.506993",
         "9508.141454",
         "8451.531004",
         "9082.351172",
         "7738.881247",
         "10159.58368",
         "12002.23908",
         "15389.92468"
        ],
        [
         "20",
         "Portugal",
         "3068.319867",
         "3774.571743",
         "4727.954889",
         "6361.517993",
         "9022.247417",
         "10172.48572",
         "11753.84291",
         "13039.30876",
         "16207.26663",
         "17641.03156",
         "19970.90787",
         "20509.64777"
        ],
        [
         "21",
         "Romania",
         "3144.613186",
         "3943.370225",
         "4734.997586",
         "6470.866545",
         "8011.414402",
         "9356.39724",
         "9605.314053",
         "9696.273295",
         "6598.409903",
         "7346.547557",
         "7885.360081",
         "10808.47561"
        ],
        [
         "22",
         "Serbia",
         "3581.459448",
         "4981.090891",
         "6289.629157",
         "7991.707066",
         "10522.06749",
         "12980.66956",
         "15181.0927",
         "15870.87851",
         "9325.068238",
         "7914.320304",
         "7236.075251",
         "9786.534714"
        ],
        [
         "23",
         "Slovak Republic",
         "5074.659104",
         "6093.26298",
         "7481.107598",
         "8412.902397",
         "9674.167626",
         "10922.66404",
         "11348.54585",
         "12037.26758",
         "9498.467723",
         "12126.23065",
         "13638.77837",
         "18678.31435"
        ],
        [
         "24",
         "Slovenia",
         "4215.041741",
         "5862.276629",
         "7402.303395",
         "9405.489397",
         "12383.4862",
         "15277.03017",
         "17866.72175",
         "18678.53492",
         "14214.71681",
         "17161.10735",
         "20660.01936",
         "25768.25759"
        ],
        [
         "25",
         "Spain",
         "3834.034742",
         "4564.80241",
         "5693.843879",
         "7993.512294",
         "10638.75131",
         "13236.92117",
         "13926.16997",
         "15764.98313",
         "18603.06452",
         "20445.29896",
         "24835.47166",
         "28821.0637"
        ],
        [
         "26",
         "Sweden",
         "8527.844662",
         "9911.878226",
         "12329.44192",
         "15258.29697",
         "17832.02464",
         "18855.72521",
         "20667.38125",
         "23586.92927",
         "23880.01683",
         "25266.59499",
         "29341.63093",
         "33859.74835"
        ],
        [
         "27",
         "Switzerland",
         "14734.23275",
         "17909.48973",
         "20431.0927",
         "22966.14432",
         "27195.11304",
         "26982.29052",
         "28397.71512",
         "30281.70459",
         "31871.5303",
         "32135.32301",
         "34480.95771",
         "37506.41907"
        ],
        [
         "28",
         "Turkey",
         "1969.10098",
         "2218.754257",
         "2322.869908",
         "2826.356387",
         "3450.69638",
         "4269.122326",
         "4241.356344",
         "5089.043686",
         "5678.348271",
         "6601.429915",
         "6508.085718",
         "8458.276384"
        ],
        [
         "29",
         "United Kingdom",
         "9979.508487",
         "11283.17795",
         "12477.17707",
         "14142.85089",
         "15895.11641",
         "17428.74846",
         "18232.42452",
         "21664.78767",
         "22705.09254",
         "26074.53136",
         "29478.99919",
         "33203.26128"
        ]
       ],
       "shape": {
        "columns": 13,
        "rows": 30
       }
      },
      "text/html": [
       "<div>\n",
       "<style scoped>\n",
       "    .dataframe tbody tr th:only-of-type {\n",
       "        vertical-align: middle;\n",
       "    }\n",
       "\n",
       "    .dataframe tbody tr th {\n",
       "        vertical-align: top;\n",
       "    }\n",
       "\n",
       "    .dataframe thead th {\n",
       "        text-align: right;\n",
       "    }\n",
       "</style>\n",
       "<table border=\"1\" class=\"dataframe\">\n",
       "  <thead>\n",
       "    <tr style=\"text-align: right;\">\n",
       "      <th></th>\n",
       "      <th>country</th>\n",
       "      <th>gdpPercap_1952</th>\n",
       "      <th>gdpPercap_1957</th>\n",
       "      <th>gdpPercap_1962</th>\n",
       "      <th>gdpPercap_1967</th>\n",
       "      <th>gdpPercap_1972</th>\n",
       "      <th>gdpPercap_1977</th>\n",
       "      <th>gdpPercap_1982</th>\n",
       "      <th>gdpPercap_1987</th>\n",
       "      <th>gdpPercap_1992</th>\n",
       "      <th>gdpPercap_1997</th>\n",
       "      <th>gdpPercap_2002</th>\n",
       "      <th>gdpPercap_2007</th>\n",
       "    </tr>\n",
       "  </thead>\n",
       "  <tbody>\n",
       "    <tr>\n",
       "      <th>0</th>\n",
       "      <td>Albania</td>\n",
       "      <td>1601.056136</td>\n",
       "      <td>1942.284244</td>\n",
       "      <td>2312.888958</td>\n",
       "      <td>2760.196931</td>\n",
       "      <td>3313.422188</td>\n",
       "      <td>3533.003910</td>\n",
       "      <td>3630.880722</td>\n",
       "      <td>3738.932735</td>\n",
       "      <td>2497.437901</td>\n",
       "      <td>3193.054604</td>\n",
       "      <td>4604.211737</td>\n",
       "      <td>5937.029526</td>\n",
       "    </tr>\n",
       "    <tr>\n",
       "      <th>1</th>\n",
       "      <td>Austria</td>\n",
       "      <td>6137.076492</td>\n",
       "      <td>8842.598030</td>\n",
       "      <td>10750.721110</td>\n",
       "      <td>12834.602400</td>\n",
       "      <td>16661.625600</td>\n",
       "      <td>19749.422300</td>\n",
       "      <td>21597.083620</td>\n",
       "      <td>23687.826070</td>\n",
       "      <td>27042.018680</td>\n",
       "      <td>29095.920660</td>\n",
       "      <td>32417.607690</td>\n",
       "      <td>36126.492700</td>\n",
       "    </tr>\n",
       "    <tr>\n",
       "      <th>2</th>\n",
       "      <td>Belgium</td>\n",
       "      <td>8343.105127</td>\n",
       "      <td>9714.960623</td>\n",
       "      <td>10991.206760</td>\n",
       "      <td>13149.041190</td>\n",
       "      <td>16672.143560</td>\n",
       "      <td>19117.974480</td>\n",
       "      <td>20979.845890</td>\n",
       "      <td>22525.563080</td>\n",
       "      <td>25575.570690</td>\n",
       "      <td>27561.196630</td>\n",
       "      <td>30485.883750</td>\n",
       "      <td>33692.605080</td>\n",
       "    </tr>\n",
       "    <tr>\n",
       "      <th>3</th>\n",
       "      <td>Bosnia and Herzegovina</td>\n",
       "      <td>973.533195</td>\n",
       "      <td>1353.989176</td>\n",
       "      <td>1709.683679</td>\n",
       "      <td>2172.352423</td>\n",
       "      <td>2860.169750</td>\n",
       "      <td>3528.481305</td>\n",
       "      <td>4126.613157</td>\n",
       "      <td>4314.114757</td>\n",
       "      <td>2546.781445</td>\n",
       "      <td>4766.355904</td>\n",
       "      <td>6018.975239</td>\n",
       "      <td>7446.298803</td>\n",
       "    </tr>\n",
       "    <tr>\n",
       "      <th>4</th>\n",
       "      <td>Bulgaria</td>\n",
       "      <td>2444.286648</td>\n",
       "      <td>3008.670727</td>\n",
       "      <td>4254.337839</td>\n",
       "      <td>5577.002800</td>\n",
       "      <td>6597.494398</td>\n",
       "      <td>7612.240438</td>\n",
       "      <td>8224.191647</td>\n",
       "      <td>8239.854824</td>\n",
       "      <td>6302.623438</td>\n",
       "      <td>5970.388760</td>\n",
       "      <td>7696.777725</td>\n",
       "      <td>10680.792820</td>\n",
       "    </tr>\n",
       "    <tr>\n",
       "      <th>5</th>\n",
       "      <td>Croatia</td>\n",
       "      <td>3119.236520</td>\n",
       "      <td>4338.231617</td>\n",
       "      <td>5477.890018</td>\n",
       "      <td>6960.297861</td>\n",
       "      <td>9164.090127</td>\n",
       "      <td>11305.385170</td>\n",
       "      <td>13221.821840</td>\n",
       "      <td>13822.583940</td>\n",
       "      <td>8447.794873</td>\n",
       "      <td>9875.604515</td>\n",
       "      <td>11628.388950</td>\n",
       "      <td>14619.222720</td>\n",
       "    </tr>\n",
       "    <tr>\n",
       "      <th>6</th>\n",
       "      <td>Czech Republic</td>\n",
       "      <td>6876.140250</td>\n",
       "      <td>8256.343918</td>\n",
       "      <td>10136.867130</td>\n",
       "      <td>11399.444890</td>\n",
       "      <td>13108.453600</td>\n",
       "      <td>14800.160620</td>\n",
       "      <td>15377.228550</td>\n",
       "      <td>16310.443400</td>\n",
       "      <td>14297.021220</td>\n",
       "      <td>16048.514240</td>\n",
       "      <td>17596.210220</td>\n",
       "      <td>22833.308510</td>\n",
       "    </tr>\n",
       "    <tr>\n",
       "      <th>7</th>\n",
       "      <td>Denmark</td>\n",
       "      <td>9692.385245</td>\n",
       "      <td>11099.659350</td>\n",
       "      <td>13583.313510</td>\n",
       "      <td>15937.211230</td>\n",
       "      <td>18866.207210</td>\n",
       "      <td>20422.901500</td>\n",
       "      <td>21688.040480</td>\n",
       "      <td>25116.175810</td>\n",
       "      <td>26406.739850</td>\n",
       "      <td>29804.345670</td>\n",
       "      <td>32166.500060</td>\n",
       "      <td>35278.418740</td>\n",
       "    </tr>\n",
       "    <tr>\n",
       "      <th>8</th>\n",
       "      <td>Finland</td>\n",
       "      <td>6424.519071</td>\n",
       "      <td>7545.415386</td>\n",
       "      <td>9371.842561</td>\n",
       "      <td>10921.636260</td>\n",
       "      <td>14358.875900</td>\n",
       "      <td>15605.422830</td>\n",
       "      <td>18533.157610</td>\n",
       "      <td>21141.012230</td>\n",
       "      <td>20647.164990</td>\n",
       "      <td>23723.950200</td>\n",
       "      <td>28204.590570</td>\n",
       "      <td>33207.084400</td>\n",
       "    </tr>\n",
       "    <tr>\n",
       "      <th>9</th>\n",
       "      <td>France</td>\n",
       "      <td>7029.809327</td>\n",
       "      <td>8662.834898</td>\n",
       "      <td>10560.485530</td>\n",
       "      <td>12999.917660</td>\n",
       "      <td>16107.191710</td>\n",
       "      <td>18292.635140</td>\n",
       "      <td>20293.897460</td>\n",
       "      <td>22066.442140</td>\n",
       "      <td>24703.796150</td>\n",
       "      <td>25889.784870</td>\n",
       "      <td>28926.032340</td>\n",
       "      <td>30470.016700</td>\n",
       "    </tr>\n",
       "    <tr>\n",
       "      <th>10</th>\n",
       "      <td>Germany</td>\n",
       "      <td>7144.114393</td>\n",
       "      <td>10187.826650</td>\n",
       "      <td>12902.462910</td>\n",
       "      <td>14745.625610</td>\n",
       "      <td>18016.180270</td>\n",
       "      <td>20512.921230</td>\n",
       "      <td>22031.532740</td>\n",
       "      <td>24639.185660</td>\n",
       "      <td>26505.303170</td>\n",
       "      <td>27788.884160</td>\n",
       "      <td>30035.801980</td>\n",
       "      <td>32170.374420</td>\n",
       "    </tr>\n",
       "    <tr>\n",
       "      <th>11</th>\n",
       "      <td>Greece</td>\n",
       "      <td>3530.690067</td>\n",
       "      <td>4916.299889</td>\n",
       "      <td>6017.190733</td>\n",
       "      <td>8513.097016</td>\n",
       "      <td>12724.829570</td>\n",
       "      <td>14195.524280</td>\n",
       "      <td>15268.420890</td>\n",
       "      <td>16120.528390</td>\n",
       "      <td>17541.496340</td>\n",
       "      <td>18747.698140</td>\n",
       "      <td>22514.254800</td>\n",
       "      <td>27538.411880</td>\n",
       "    </tr>\n",
       "    <tr>\n",
       "      <th>12</th>\n",
       "      <td>Hungary</td>\n",
       "      <td>5263.673816</td>\n",
       "      <td>6040.180011</td>\n",
       "      <td>7550.359877</td>\n",
       "      <td>9326.644670</td>\n",
       "      <td>10168.656110</td>\n",
       "      <td>11674.837370</td>\n",
       "      <td>12545.990660</td>\n",
       "      <td>12986.479980</td>\n",
       "      <td>10535.628550</td>\n",
       "      <td>11712.776800</td>\n",
       "      <td>14843.935560</td>\n",
       "      <td>18008.944440</td>\n",
       "    </tr>\n",
       "    <tr>\n",
       "      <th>13</th>\n",
       "      <td>Iceland</td>\n",
       "      <td>7267.688428</td>\n",
       "      <td>9244.001412</td>\n",
       "      <td>10350.159060</td>\n",
       "      <td>13319.895680</td>\n",
       "      <td>15798.063620</td>\n",
       "      <td>19654.962470</td>\n",
       "      <td>23269.607500</td>\n",
       "      <td>26923.206280</td>\n",
       "      <td>25144.392010</td>\n",
       "      <td>28061.099660</td>\n",
       "      <td>31163.201960</td>\n",
       "      <td>36180.789190</td>\n",
       "    </tr>\n",
       "    <tr>\n",
       "      <th>14</th>\n",
       "      <td>Ireland</td>\n",
       "      <td>5210.280328</td>\n",
       "      <td>5599.077872</td>\n",
       "      <td>6631.597314</td>\n",
       "      <td>7655.568963</td>\n",
       "      <td>9530.772896</td>\n",
       "      <td>11150.981130</td>\n",
       "      <td>12618.321410</td>\n",
       "      <td>13872.866520</td>\n",
       "      <td>17558.815550</td>\n",
       "      <td>24521.947130</td>\n",
       "      <td>34077.049390</td>\n",
       "      <td>40675.996350</td>\n",
       "    </tr>\n",
       "    <tr>\n",
       "      <th>15</th>\n",
       "      <td>Italy</td>\n",
       "      <td>4931.404155</td>\n",
       "      <td>6248.656232</td>\n",
       "      <td>8243.582340</td>\n",
       "      <td>10022.401310</td>\n",
       "      <td>12269.273780</td>\n",
       "      <td>14255.984750</td>\n",
       "      <td>16537.483500</td>\n",
       "      <td>19207.234820</td>\n",
       "      <td>22013.644860</td>\n",
       "      <td>24675.024460</td>\n",
       "      <td>27968.098170</td>\n",
       "      <td>28569.719700</td>\n",
       "    </tr>\n",
       "    <tr>\n",
       "      <th>16</th>\n",
       "      <td>Montenegro</td>\n",
       "      <td>2647.585601</td>\n",
       "      <td>3682.259903</td>\n",
       "      <td>4649.593785</td>\n",
       "      <td>5907.850937</td>\n",
       "      <td>7778.414017</td>\n",
       "      <td>9595.929905</td>\n",
       "      <td>11222.587620</td>\n",
       "      <td>11732.510170</td>\n",
       "      <td>7003.339037</td>\n",
       "      <td>6465.613349</td>\n",
       "      <td>6557.194282</td>\n",
       "      <td>9253.896111</td>\n",
       "    </tr>\n",
       "    <tr>\n",
       "      <th>17</th>\n",
       "      <td>Netherlands</td>\n",
       "      <td>8941.571858</td>\n",
       "      <td>11276.193440</td>\n",
       "      <td>12790.849560</td>\n",
       "      <td>15363.251360</td>\n",
       "      <td>18794.745670</td>\n",
       "      <td>21209.059200</td>\n",
       "      <td>21399.460460</td>\n",
       "      <td>23651.323610</td>\n",
       "      <td>26790.949610</td>\n",
       "      <td>30246.130630</td>\n",
       "      <td>33724.757780</td>\n",
       "      <td>36797.933320</td>\n",
       "    </tr>\n",
       "    <tr>\n",
       "      <th>18</th>\n",
       "      <td>Norway</td>\n",
       "      <td>10095.421720</td>\n",
       "      <td>11653.973040</td>\n",
       "      <td>13450.401510</td>\n",
       "      <td>16361.876470</td>\n",
       "      <td>18965.055510</td>\n",
       "      <td>23311.349390</td>\n",
       "      <td>26298.635310</td>\n",
       "      <td>31540.974800</td>\n",
       "      <td>33965.661150</td>\n",
       "      <td>41283.164330</td>\n",
       "      <td>44683.975250</td>\n",
       "      <td>49357.190170</td>\n",
       "    </tr>\n",
       "    <tr>\n",
       "      <th>19</th>\n",
       "      <td>Poland</td>\n",
       "      <td>4029.329699</td>\n",
       "      <td>4734.253019</td>\n",
       "      <td>5338.752143</td>\n",
       "      <td>6557.152776</td>\n",
       "      <td>8006.506993</td>\n",
       "      <td>9508.141454</td>\n",
       "      <td>8451.531004</td>\n",
       "      <td>9082.351172</td>\n",
       "      <td>7738.881247</td>\n",
       "      <td>10159.583680</td>\n",
       "      <td>12002.239080</td>\n",
       "      <td>15389.924680</td>\n",
       "    </tr>\n",
       "    <tr>\n",
       "      <th>20</th>\n",
       "      <td>Portugal</td>\n",
       "      <td>3068.319867</td>\n",
       "      <td>3774.571743</td>\n",
       "      <td>4727.954889</td>\n",
       "      <td>6361.517993</td>\n",
       "      <td>9022.247417</td>\n",
       "      <td>10172.485720</td>\n",
       "      <td>11753.842910</td>\n",
       "      <td>13039.308760</td>\n",
       "      <td>16207.266630</td>\n",
       "      <td>17641.031560</td>\n",
       "      <td>19970.907870</td>\n",
       "      <td>20509.647770</td>\n",
       "    </tr>\n",
       "    <tr>\n",
       "      <th>21</th>\n",
       "      <td>Romania</td>\n",
       "      <td>3144.613186</td>\n",
       "      <td>3943.370225</td>\n",
       "      <td>4734.997586</td>\n",
       "      <td>6470.866545</td>\n",
       "      <td>8011.414402</td>\n",
       "      <td>9356.397240</td>\n",
       "      <td>9605.314053</td>\n",
       "      <td>9696.273295</td>\n",
       "      <td>6598.409903</td>\n",
       "      <td>7346.547557</td>\n",
       "      <td>7885.360081</td>\n",
       "      <td>10808.475610</td>\n",
       "    </tr>\n",
       "    <tr>\n",
       "      <th>22</th>\n",
       "      <td>Serbia</td>\n",
       "      <td>3581.459448</td>\n",
       "      <td>4981.090891</td>\n",
       "      <td>6289.629157</td>\n",
       "      <td>7991.707066</td>\n",
       "      <td>10522.067490</td>\n",
       "      <td>12980.669560</td>\n",
       "      <td>15181.092700</td>\n",
       "      <td>15870.878510</td>\n",
       "      <td>9325.068238</td>\n",
       "      <td>7914.320304</td>\n",
       "      <td>7236.075251</td>\n",
       "      <td>9786.534714</td>\n",
       "    </tr>\n",
       "    <tr>\n",
       "      <th>23</th>\n",
       "      <td>Slovak Republic</td>\n",
       "      <td>5074.659104</td>\n",
       "      <td>6093.262980</td>\n",
       "      <td>7481.107598</td>\n",
       "      <td>8412.902397</td>\n",
       "      <td>9674.167626</td>\n",
       "      <td>10922.664040</td>\n",
       "      <td>11348.545850</td>\n",
       "      <td>12037.267580</td>\n",
       "      <td>9498.467723</td>\n",
       "      <td>12126.230650</td>\n",
       "      <td>13638.778370</td>\n",
       "      <td>18678.314350</td>\n",
       "    </tr>\n",
       "    <tr>\n",
       "      <th>24</th>\n",
       "      <td>Slovenia</td>\n",
       "      <td>4215.041741</td>\n",
       "      <td>5862.276629</td>\n",
       "      <td>7402.303395</td>\n",
       "      <td>9405.489397</td>\n",
       "      <td>12383.486200</td>\n",
       "      <td>15277.030170</td>\n",
       "      <td>17866.721750</td>\n",
       "      <td>18678.534920</td>\n",
       "      <td>14214.716810</td>\n",
       "      <td>17161.107350</td>\n",
       "      <td>20660.019360</td>\n",
       "      <td>25768.257590</td>\n",
       "    </tr>\n",
       "    <tr>\n",
       "      <th>25</th>\n",
       "      <td>Spain</td>\n",
       "      <td>3834.034742</td>\n",
       "      <td>4564.802410</td>\n",
       "      <td>5693.843879</td>\n",
       "      <td>7993.512294</td>\n",
       "      <td>10638.751310</td>\n",
       "      <td>13236.921170</td>\n",
       "      <td>13926.169970</td>\n",
       "      <td>15764.983130</td>\n",
       "      <td>18603.064520</td>\n",
       "      <td>20445.298960</td>\n",
       "      <td>24835.471660</td>\n",
       "      <td>28821.063700</td>\n",
       "    </tr>\n",
       "    <tr>\n",
       "      <th>26</th>\n",
       "      <td>Sweden</td>\n",
       "      <td>8527.844662</td>\n",
       "      <td>9911.878226</td>\n",
       "      <td>12329.441920</td>\n",
       "      <td>15258.296970</td>\n",
       "      <td>17832.024640</td>\n",
       "      <td>18855.725210</td>\n",
       "      <td>20667.381250</td>\n",
       "      <td>23586.929270</td>\n",
       "      <td>23880.016830</td>\n",
       "      <td>25266.594990</td>\n",
       "      <td>29341.630930</td>\n",
       "      <td>33859.748350</td>\n",
       "    </tr>\n",
       "    <tr>\n",
       "      <th>27</th>\n",
       "      <td>Switzerland</td>\n",
       "      <td>14734.232750</td>\n",
       "      <td>17909.489730</td>\n",
       "      <td>20431.092700</td>\n",
       "      <td>22966.144320</td>\n",
       "      <td>27195.113040</td>\n",
       "      <td>26982.290520</td>\n",
       "      <td>28397.715120</td>\n",
       "      <td>30281.704590</td>\n",
       "      <td>31871.530300</td>\n",
       "      <td>32135.323010</td>\n",
       "      <td>34480.957710</td>\n",
       "      <td>37506.419070</td>\n",
       "    </tr>\n",
       "    <tr>\n",
       "      <th>28</th>\n",
       "      <td>Turkey</td>\n",
       "      <td>1969.100980</td>\n",
       "      <td>2218.754257</td>\n",
       "      <td>2322.869908</td>\n",
       "      <td>2826.356387</td>\n",
       "      <td>3450.696380</td>\n",
       "      <td>4269.122326</td>\n",
       "      <td>4241.356344</td>\n",
       "      <td>5089.043686</td>\n",
       "      <td>5678.348271</td>\n",
       "      <td>6601.429915</td>\n",
       "      <td>6508.085718</td>\n",
       "      <td>8458.276384</td>\n",
       "    </tr>\n",
       "    <tr>\n",
       "      <th>29</th>\n",
       "      <td>United Kingdom</td>\n",
       "      <td>9979.508487</td>\n",
       "      <td>11283.177950</td>\n",
       "      <td>12477.177070</td>\n",
       "      <td>14142.850890</td>\n",
       "      <td>15895.116410</td>\n",
       "      <td>17428.748460</td>\n",
       "      <td>18232.424520</td>\n",
       "      <td>21664.787670</td>\n",
       "      <td>22705.092540</td>\n",
       "      <td>26074.531360</td>\n",
       "      <td>29478.999190</td>\n",
       "      <td>33203.261280</td>\n",
       "    </tr>\n",
       "  </tbody>\n",
       "</table>\n",
       "</div>"
      ],
      "text/plain": [
       "                   country  gdpPercap_1952  gdpPercap_1957  gdpPercap_1962  \\\n",
       "0                  Albania     1601.056136     1942.284244     2312.888958   \n",
       "1                  Austria     6137.076492     8842.598030    10750.721110   \n",
       "2                  Belgium     8343.105127     9714.960623    10991.206760   \n",
       "3   Bosnia and Herzegovina      973.533195     1353.989176     1709.683679   \n",
       "4                 Bulgaria     2444.286648     3008.670727     4254.337839   \n",
       "5                  Croatia     3119.236520     4338.231617     5477.890018   \n",
       "6           Czech Republic     6876.140250     8256.343918    10136.867130   \n",
       "7                  Denmark     9692.385245    11099.659350    13583.313510   \n",
       "8                  Finland     6424.519071     7545.415386     9371.842561   \n",
       "9                   France     7029.809327     8662.834898    10560.485530   \n",
       "10                 Germany     7144.114393    10187.826650    12902.462910   \n",
       "11                  Greece     3530.690067     4916.299889     6017.190733   \n",
       "12                 Hungary     5263.673816     6040.180011     7550.359877   \n",
       "13                 Iceland     7267.688428     9244.001412    10350.159060   \n",
       "14                 Ireland     5210.280328     5599.077872     6631.597314   \n",
       "15                   Italy     4931.404155     6248.656232     8243.582340   \n",
       "16              Montenegro     2647.585601     3682.259903     4649.593785   \n",
       "17             Netherlands     8941.571858    11276.193440    12790.849560   \n",
       "18                  Norway    10095.421720    11653.973040    13450.401510   \n",
       "19                  Poland     4029.329699     4734.253019     5338.752143   \n",
       "20                Portugal     3068.319867     3774.571743     4727.954889   \n",
       "21                 Romania     3144.613186     3943.370225     4734.997586   \n",
       "22                  Serbia     3581.459448     4981.090891     6289.629157   \n",
       "23         Slovak Republic     5074.659104     6093.262980     7481.107598   \n",
       "24                Slovenia     4215.041741     5862.276629     7402.303395   \n",
       "25                   Spain     3834.034742     4564.802410     5693.843879   \n",
       "26                  Sweden     8527.844662     9911.878226    12329.441920   \n",
       "27             Switzerland    14734.232750    17909.489730    20431.092700   \n",
       "28                  Turkey     1969.100980     2218.754257     2322.869908   \n",
       "29          United Kingdom     9979.508487    11283.177950    12477.177070   \n",
       "\n",
       "    gdpPercap_1967  gdpPercap_1972  gdpPercap_1977  gdpPercap_1982  \\\n",
       "0      2760.196931     3313.422188     3533.003910     3630.880722   \n",
       "1     12834.602400    16661.625600    19749.422300    21597.083620   \n",
       "2     13149.041190    16672.143560    19117.974480    20979.845890   \n",
       "3      2172.352423     2860.169750     3528.481305     4126.613157   \n",
       "4      5577.002800     6597.494398     7612.240438     8224.191647   \n",
       "5      6960.297861     9164.090127    11305.385170    13221.821840   \n",
       "6     11399.444890    13108.453600    14800.160620    15377.228550   \n",
       "7     15937.211230    18866.207210    20422.901500    21688.040480   \n",
       "8     10921.636260    14358.875900    15605.422830    18533.157610   \n",
       "9     12999.917660    16107.191710    18292.635140    20293.897460   \n",
       "10    14745.625610    18016.180270    20512.921230    22031.532740   \n",
       "11     8513.097016    12724.829570    14195.524280    15268.420890   \n",
       "12     9326.644670    10168.656110    11674.837370    12545.990660   \n",
       "13    13319.895680    15798.063620    19654.962470    23269.607500   \n",
       "14     7655.568963     9530.772896    11150.981130    12618.321410   \n",
       "15    10022.401310    12269.273780    14255.984750    16537.483500   \n",
       "16     5907.850937     7778.414017     9595.929905    11222.587620   \n",
       "17    15363.251360    18794.745670    21209.059200    21399.460460   \n",
       "18    16361.876470    18965.055510    23311.349390    26298.635310   \n",
       "19     6557.152776     8006.506993     9508.141454     8451.531004   \n",
       "20     6361.517993     9022.247417    10172.485720    11753.842910   \n",
       "21     6470.866545     8011.414402     9356.397240     9605.314053   \n",
       "22     7991.707066    10522.067490    12980.669560    15181.092700   \n",
       "23     8412.902397     9674.167626    10922.664040    11348.545850   \n",
       "24     9405.489397    12383.486200    15277.030170    17866.721750   \n",
       "25     7993.512294    10638.751310    13236.921170    13926.169970   \n",
       "26    15258.296970    17832.024640    18855.725210    20667.381250   \n",
       "27    22966.144320    27195.113040    26982.290520    28397.715120   \n",
       "28     2826.356387     3450.696380     4269.122326     4241.356344   \n",
       "29    14142.850890    15895.116410    17428.748460    18232.424520   \n",
       "\n",
       "    gdpPercap_1987  gdpPercap_1992  gdpPercap_1997  gdpPercap_2002  \\\n",
       "0      3738.932735     2497.437901     3193.054604     4604.211737   \n",
       "1     23687.826070    27042.018680    29095.920660    32417.607690   \n",
       "2     22525.563080    25575.570690    27561.196630    30485.883750   \n",
       "3      4314.114757     2546.781445     4766.355904     6018.975239   \n",
       "4      8239.854824     6302.623438     5970.388760     7696.777725   \n",
       "5     13822.583940     8447.794873     9875.604515    11628.388950   \n",
       "6     16310.443400    14297.021220    16048.514240    17596.210220   \n",
       "7     25116.175810    26406.739850    29804.345670    32166.500060   \n",
       "8     21141.012230    20647.164990    23723.950200    28204.590570   \n",
       "9     22066.442140    24703.796150    25889.784870    28926.032340   \n",
       "10    24639.185660    26505.303170    27788.884160    30035.801980   \n",
       "11    16120.528390    17541.496340    18747.698140    22514.254800   \n",
       "12    12986.479980    10535.628550    11712.776800    14843.935560   \n",
       "13    26923.206280    25144.392010    28061.099660    31163.201960   \n",
       "14    13872.866520    17558.815550    24521.947130    34077.049390   \n",
       "15    19207.234820    22013.644860    24675.024460    27968.098170   \n",
       "16    11732.510170     7003.339037     6465.613349     6557.194282   \n",
       "17    23651.323610    26790.949610    30246.130630    33724.757780   \n",
       "18    31540.974800    33965.661150    41283.164330    44683.975250   \n",
       "19     9082.351172     7738.881247    10159.583680    12002.239080   \n",
       "20    13039.308760    16207.266630    17641.031560    19970.907870   \n",
       "21     9696.273295     6598.409903     7346.547557     7885.360081   \n",
       "22    15870.878510     9325.068238     7914.320304     7236.075251   \n",
       "23    12037.267580     9498.467723    12126.230650    13638.778370   \n",
       "24    18678.534920    14214.716810    17161.107350    20660.019360   \n",
       "25    15764.983130    18603.064520    20445.298960    24835.471660   \n",
       "26    23586.929270    23880.016830    25266.594990    29341.630930   \n",
       "27    30281.704590    31871.530300    32135.323010    34480.957710   \n",
       "28     5089.043686     5678.348271     6601.429915     6508.085718   \n",
       "29    21664.787670    22705.092540    26074.531360    29478.999190   \n",
       "\n",
       "    gdpPercap_2007  \n",
       "0      5937.029526  \n",
       "1     36126.492700  \n",
       "2     33692.605080  \n",
       "3      7446.298803  \n",
       "4     10680.792820  \n",
       "5     14619.222720  \n",
       "6     22833.308510  \n",
       "7     35278.418740  \n",
       "8     33207.084400  \n",
       "9     30470.016700  \n",
       "10    32170.374420  \n",
       "11    27538.411880  \n",
       "12    18008.944440  \n",
       "13    36180.789190  \n",
       "14    40675.996350  \n",
       "15    28569.719700  \n",
       "16     9253.896111  \n",
       "17    36797.933320  \n",
       "18    49357.190170  \n",
       "19    15389.924680  \n",
       "20    20509.647770  \n",
       "21    10808.475610  \n",
       "22     9786.534714  \n",
       "23    18678.314350  \n",
       "24    25768.257590  \n",
       "25    28821.063700  \n",
       "26    33859.748350  \n",
       "27    37506.419070  \n",
       "28     8458.276384  \n",
       "29    33203.261280  "
      ]
     },
     "execution_count": 3,
     "metadata": {},
     "output_type": "execute_result"
    }
   ],
   "source": [
    "df"
   ]
  },
  {
   "cell_type": "markdown",
   "id": "345a2637",
   "metadata": {},
   "source": [
    "You'll see that the rows are numbered in boldface, starting with 0 as is the norm in Python. This boldfaced, leftmost column is called the **index** of the DataFrame, and provides one way of accessing data by rows. Across the top, you'll see that the column labels are also in boldface. pandas is pretty smart about automatically detecting when the first row of a CSV file contains header information (column names)."
   ]
  },
  {
   "cell_type": "markdown",
   "id": "1071ecf1",
   "metadata": {},
   "source": [
    "## Heads or Tails?\n",
    "\n",
    "We might want to \"peek\" at the DataFrame without printing out the entire thing, especially if it's big. We can see the first 5 rows of a DataFrame with the `.head()` method:\n",
    "\n",
    "~~~python\n",
    "df.head()\n",
    "~~~"
   ]
  },
  {
   "cell_type": "code",
   "execution_count": 4,
   "id": "1afe365c",
   "metadata": {},
   "outputs": [
    {
     "data": {
      "application/vnd.microsoft.datawrangler.viewer.v0+json": {
       "columns": [
        {
         "name": "index",
         "rawType": "int64",
         "type": "integer"
        },
        {
         "name": "country",
         "rawType": "object",
         "type": "string"
        },
        {
         "name": "gdpPercap_1952",
         "rawType": "float64",
         "type": "float"
        },
        {
         "name": "gdpPercap_1957",
         "rawType": "float64",
         "type": "float"
        },
        {
         "name": "gdpPercap_1962",
         "rawType": "float64",
         "type": "float"
        },
        {
         "name": "gdpPercap_1967",
         "rawType": "float64",
         "type": "float"
        },
        {
         "name": "gdpPercap_1972",
         "rawType": "float64",
         "type": "float"
        },
        {
         "name": "gdpPercap_1977",
         "rawType": "float64",
         "type": "float"
        },
        {
         "name": "gdpPercap_1982",
         "rawType": "float64",
         "type": "float"
        },
        {
         "name": "gdpPercap_1987",
         "rawType": "float64",
         "type": "float"
        },
        {
         "name": "gdpPercap_1992",
         "rawType": "float64",
         "type": "float"
        },
        {
         "name": "gdpPercap_1997",
         "rawType": "float64",
         "type": "float"
        },
        {
         "name": "gdpPercap_2002",
         "rawType": "float64",
         "type": "float"
        },
        {
         "name": "gdpPercap_2007",
         "rawType": "float64",
         "type": "float"
        }
       ],
       "ref": "4fea57d9-7f16-4225-9574-28aad54a1842",
       "rows": [
        [
         "0",
         "Albania",
         "1601.056136",
         "1942.284244",
         "2312.888958",
         "2760.196931",
         "3313.422188",
         "3533.00391",
         "3630.880722",
         "3738.932735",
         "2497.437901",
         "3193.054604",
         "4604.211737",
         "5937.029526"
        ],
        [
         "1",
         "Austria",
         "6137.076492",
         "8842.59803",
         "10750.72111",
         "12834.6024",
         "16661.6256",
         "19749.4223",
         "21597.08362",
         "23687.82607",
         "27042.01868",
         "29095.92066",
         "32417.60769",
         "36126.4927"
        ],
        [
         "2",
         "Belgium",
         "8343.105127",
         "9714.960623",
         "10991.20676",
         "13149.04119",
         "16672.14356",
         "19117.97448",
         "20979.84589",
         "22525.56308",
         "25575.57069",
         "27561.19663",
         "30485.88375",
         "33692.60508"
        ],
        [
         "3",
         "Bosnia and Herzegovina",
         "973.5331948",
         "1353.989176",
         "1709.683679",
         "2172.352423",
         "2860.16975",
         "3528.481305",
         "4126.613157",
         "4314.114757",
         "2546.781445",
         "4766.355904",
         "6018.975239",
         "7446.298803"
        ],
        [
         "4",
         "Bulgaria",
         "2444.286648",
         "3008.670727",
         "4254.337839",
         "5577.0028",
         "6597.494398",
         "7612.240438",
         "8224.191647",
         "8239.854824",
         "6302.623438",
         "5970.38876",
         "7696.777725",
         "10680.79282"
        ]
       ],
       "shape": {
        "columns": 13,
        "rows": 5
       }
      },
      "text/html": [
       "<div>\n",
       "<style scoped>\n",
       "    .dataframe tbody tr th:only-of-type {\n",
       "        vertical-align: middle;\n",
       "    }\n",
       "\n",
       "    .dataframe tbody tr th {\n",
       "        vertical-align: top;\n",
       "    }\n",
       "\n",
       "    .dataframe thead th {\n",
       "        text-align: right;\n",
       "    }\n",
       "</style>\n",
       "<table border=\"1\" class=\"dataframe\">\n",
       "  <thead>\n",
       "    <tr style=\"text-align: right;\">\n",
       "      <th></th>\n",
       "      <th>country</th>\n",
       "      <th>gdpPercap_1952</th>\n",
       "      <th>gdpPercap_1957</th>\n",
       "      <th>gdpPercap_1962</th>\n",
       "      <th>gdpPercap_1967</th>\n",
       "      <th>gdpPercap_1972</th>\n",
       "      <th>gdpPercap_1977</th>\n",
       "      <th>gdpPercap_1982</th>\n",
       "      <th>gdpPercap_1987</th>\n",
       "      <th>gdpPercap_1992</th>\n",
       "      <th>gdpPercap_1997</th>\n",
       "      <th>gdpPercap_2002</th>\n",
       "      <th>gdpPercap_2007</th>\n",
       "    </tr>\n",
       "  </thead>\n",
       "  <tbody>\n",
       "    <tr>\n",
       "      <th>0</th>\n",
       "      <td>Albania</td>\n",
       "      <td>1601.056136</td>\n",
       "      <td>1942.284244</td>\n",
       "      <td>2312.888958</td>\n",
       "      <td>2760.196931</td>\n",
       "      <td>3313.422188</td>\n",
       "      <td>3533.003910</td>\n",
       "      <td>3630.880722</td>\n",
       "      <td>3738.932735</td>\n",
       "      <td>2497.437901</td>\n",
       "      <td>3193.054604</td>\n",
       "      <td>4604.211737</td>\n",
       "      <td>5937.029526</td>\n",
       "    </tr>\n",
       "    <tr>\n",
       "      <th>1</th>\n",
       "      <td>Austria</td>\n",
       "      <td>6137.076492</td>\n",
       "      <td>8842.598030</td>\n",
       "      <td>10750.721110</td>\n",
       "      <td>12834.602400</td>\n",
       "      <td>16661.625600</td>\n",
       "      <td>19749.422300</td>\n",
       "      <td>21597.083620</td>\n",
       "      <td>23687.826070</td>\n",
       "      <td>27042.018680</td>\n",
       "      <td>29095.920660</td>\n",
       "      <td>32417.607690</td>\n",
       "      <td>36126.492700</td>\n",
       "    </tr>\n",
       "    <tr>\n",
       "      <th>2</th>\n",
       "      <td>Belgium</td>\n",
       "      <td>8343.105127</td>\n",
       "      <td>9714.960623</td>\n",
       "      <td>10991.206760</td>\n",
       "      <td>13149.041190</td>\n",
       "      <td>16672.143560</td>\n",
       "      <td>19117.974480</td>\n",
       "      <td>20979.845890</td>\n",
       "      <td>22525.563080</td>\n",
       "      <td>25575.570690</td>\n",
       "      <td>27561.196630</td>\n",
       "      <td>30485.883750</td>\n",
       "      <td>33692.605080</td>\n",
       "    </tr>\n",
       "    <tr>\n",
       "      <th>3</th>\n",
       "      <td>Bosnia and Herzegovina</td>\n",
       "      <td>973.533195</td>\n",
       "      <td>1353.989176</td>\n",
       "      <td>1709.683679</td>\n",
       "      <td>2172.352423</td>\n",
       "      <td>2860.169750</td>\n",
       "      <td>3528.481305</td>\n",
       "      <td>4126.613157</td>\n",
       "      <td>4314.114757</td>\n",
       "      <td>2546.781445</td>\n",
       "      <td>4766.355904</td>\n",
       "      <td>6018.975239</td>\n",
       "      <td>7446.298803</td>\n",
       "    </tr>\n",
       "    <tr>\n",
       "      <th>4</th>\n",
       "      <td>Bulgaria</td>\n",
       "      <td>2444.286648</td>\n",
       "      <td>3008.670727</td>\n",
       "      <td>4254.337839</td>\n",
       "      <td>5577.002800</td>\n",
       "      <td>6597.494398</td>\n",
       "      <td>7612.240438</td>\n",
       "      <td>8224.191647</td>\n",
       "      <td>8239.854824</td>\n",
       "      <td>6302.623438</td>\n",
       "      <td>5970.388760</td>\n",
       "      <td>7696.777725</td>\n",
       "      <td>10680.792820</td>\n",
       "    </tr>\n",
       "  </tbody>\n",
       "</table>\n",
       "</div>"
      ],
      "text/plain": [
       "                  country  gdpPercap_1952  gdpPercap_1957  gdpPercap_1962  \\\n",
       "0                 Albania     1601.056136     1942.284244     2312.888958   \n",
       "1                 Austria     6137.076492     8842.598030    10750.721110   \n",
       "2                 Belgium     8343.105127     9714.960623    10991.206760   \n",
       "3  Bosnia and Herzegovina      973.533195     1353.989176     1709.683679   \n",
       "4                Bulgaria     2444.286648     3008.670727     4254.337839   \n",
       "\n",
       "   gdpPercap_1967  gdpPercap_1972  gdpPercap_1977  gdpPercap_1982  \\\n",
       "0     2760.196931     3313.422188     3533.003910     3630.880722   \n",
       "1    12834.602400    16661.625600    19749.422300    21597.083620   \n",
       "2    13149.041190    16672.143560    19117.974480    20979.845890   \n",
       "3     2172.352423     2860.169750     3528.481305     4126.613157   \n",
       "4     5577.002800     6597.494398     7612.240438     8224.191647   \n",
       "\n",
       "   gdpPercap_1987  gdpPercap_1992  gdpPercap_1997  gdpPercap_2002  \\\n",
       "0     3738.932735     2497.437901     3193.054604     4604.211737   \n",
       "1    23687.826070    27042.018680    29095.920660    32417.607690   \n",
       "2    22525.563080    25575.570690    27561.196630    30485.883750   \n",
       "3     4314.114757     2546.781445     4766.355904     6018.975239   \n",
       "4     8239.854824     6302.623438     5970.388760     7696.777725   \n",
       "\n",
       "   gdpPercap_2007  \n",
       "0     5937.029526  \n",
       "1    36126.492700  \n",
       "2    33692.605080  \n",
       "3     7446.298803  \n",
       "4    10680.792820  "
      ]
     },
     "execution_count": 4,
     "metadata": {},
     "output_type": "execute_result"
    }
   ],
   "source": [
    "df.head()"
   ]
  },
  {
   "cell_type": "markdown",
   "id": "6f7e6edf",
   "metadata": {},
   "source": [
    "...or the last 5 rows with `.tail()`:"
   ]
  },
  {
   "cell_type": "code",
   "execution_count": 5,
   "id": "0e5b4fea",
   "metadata": {},
   "outputs": [
    {
     "data": {
      "application/vnd.microsoft.datawrangler.viewer.v0+json": {
       "columns": [
        {
         "name": "index",
         "rawType": "int64",
         "type": "integer"
        },
        {
         "name": "country",
         "rawType": "object",
         "type": "string"
        },
        {
         "name": "gdpPercap_1952",
         "rawType": "float64",
         "type": "float"
        },
        {
         "name": "gdpPercap_1957",
         "rawType": "float64",
         "type": "float"
        },
        {
         "name": "gdpPercap_1962",
         "rawType": "float64",
         "type": "float"
        },
        {
         "name": "gdpPercap_1967",
         "rawType": "float64",
         "type": "float"
        },
        {
         "name": "gdpPercap_1972",
         "rawType": "float64",
         "type": "float"
        },
        {
         "name": "gdpPercap_1977",
         "rawType": "float64",
         "type": "float"
        },
        {
         "name": "gdpPercap_1982",
         "rawType": "float64",
         "type": "float"
        },
        {
         "name": "gdpPercap_1987",
         "rawType": "float64",
         "type": "float"
        },
        {
         "name": "gdpPercap_1992",
         "rawType": "float64",
         "type": "float"
        },
        {
         "name": "gdpPercap_1997",
         "rawType": "float64",
         "type": "float"
        },
        {
         "name": "gdpPercap_2002",
         "rawType": "float64",
         "type": "float"
        },
        {
         "name": "gdpPercap_2007",
         "rawType": "float64",
         "type": "float"
        }
       ],
       "ref": "dd375ecb-3632-4c50-924d-5aaa2c83e381",
       "rows": [
        [
         "25",
         "Spain",
         "3834.034742",
         "4564.80241",
         "5693.843879",
         "7993.512294",
         "10638.75131",
         "13236.92117",
         "13926.16997",
         "15764.98313",
         "18603.06452",
         "20445.29896",
         "24835.47166",
         "28821.0637"
        ],
        [
         "26",
         "Sweden",
         "8527.844662",
         "9911.878226",
         "12329.44192",
         "15258.29697",
         "17832.02464",
         "18855.72521",
         "20667.38125",
         "23586.92927",
         "23880.01683",
         "25266.59499",
         "29341.63093",
         "33859.74835"
        ],
        [
         "27",
         "Switzerland",
         "14734.23275",
         "17909.48973",
         "20431.0927",
         "22966.14432",
         "27195.11304",
         "26982.29052",
         "28397.71512",
         "30281.70459",
         "31871.5303",
         "32135.32301",
         "34480.95771",
         "37506.41907"
        ],
        [
         "28",
         "Turkey",
         "1969.10098",
         "2218.754257",
         "2322.869908",
         "2826.356387",
         "3450.69638",
         "4269.122326",
         "4241.356344",
         "5089.043686",
         "5678.348271",
         "6601.429915",
         "6508.085718",
         "8458.276384"
        ],
        [
         "29",
         "United Kingdom",
         "9979.508487",
         "11283.17795",
         "12477.17707",
         "14142.85089",
         "15895.11641",
         "17428.74846",
         "18232.42452",
         "21664.78767",
         "22705.09254",
         "26074.53136",
         "29478.99919",
         "33203.26128"
        ]
       ],
       "shape": {
        "columns": 13,
        "rows": 5
       }
      },
      "text/html": [
       "<div>\n",
       "<style scoped>\n",
       "    .dataframe tbody tr th:only-of-type {\n",
       "        vertical-align: middle;\n",
       "    }\n",
       "\n",
       "    .dataframe tbody tr th {\n",
       "        vertical-align: top;\n",
       "    }\n",
       "\n",
       "    .dataframe thead th {\n",
       "        text-align: right;\n",
       "    }\n",
       "</style>\n",
       "<table border=\"1\" class=\"dataframe\">\n",
       "  <thead>\n",
       "    <tr style=\"text-align: right;\">\n",
       "      <th></th>\n",
       "      <th>country</th>\n",
       "      <th>gdpPercap_1952</th>\n",
       "      <th>gdpPercap_1957</th>\n",
       "      <th>gdpPercap_1962</th>\n",
       "      <th>gdpPercap_1967</th>\n",
       "      <th>gdpPercap_1972</th>\n",
       "      <th>gdpPercap_1977</th>\n",
       "      <th>gdpPercap_1982</th>\n",
       "      <th>gdpPercap_1987</th>\n",
       "      <th>gdpPercap_1992</th>\n",
       "      <th>gdpPercap_1997</th>\n",
       "      <th>gdpPercap_2002</th>\n",
       "      <th>gdpPercap_2007</th>\n",
       "    </tr>\n",
       "  </thead>\n",
       "  <tbody>\n",
       "    <tr>\n",
       "      <th>25</th>\n",
       "      <td>Spain</td>\n",
       "      <td>3834.034742</td>\n",
       "      <td>4564.802410</td>\n",
       "      <td>5693.843879</td>\n",
       "      <td>7993.512294</td>\n",
       "      <td>10638.75131</td>\n",
       "      <td>13236.921170</td>\n",
       "      <td>13926.169970</td>\n",
       "      <td>15764.983130</td>\n",
       "      <td>18603.064520</td>\n",
       "      <td>20445.298960</td>\n",
       "      <td>24835.471660</td>\n",
       "      <td>28821.063700</td>\n",
       "    </tr>\n",
       "    <tr>\n",
       "      <th>26</th>\n",
       "      <td>Sweden</td>\n",
       "      <td>8527.844662</td>\n",
       "      <td>9911.878226</td>\n",
       "      <td>12329.441920</td>\n",
       "      <td>15258.296970</td>\n",
       "      <td>17832.02464</td>\n",
       "      <td>18855.725210</td>\n",
       "      <td>20667.381250</td>\n",
       "      <td>23586.929270</td>\n",
       "      <td>23880.016830</td>\n",
       "      <td>25266.594990</td>\n",
       "      <td>29341.630930</td>\n",
       "      <td>33859.748350</td>\n",
       "    </tr>\n",
       "    <tr>\n",
       "      <th>27</th>\n",
       "      <td>Switzerland</td>\n",
       "      <td>14734.232750</td>\n",
       "      <td>17909.489730</td>\n",
       "      <td>20431.092700</td>\n",
       "      <td>22966.144320</td>\n",
       "      <td>27195.11304</td>\n",
       "      <td>26982.290520</td>\n",
       "      <td>28397.715120</td>\n",
       "      <td>30281.704590</td>\n",
       "      <td>31871.530300</td>\n",
       "      <td>32135.323010</td>\n",
       "      <td>34480.957710</td>\n",
       "      <td>37506.419070</td>\n",
       "    </tr>\n",
       "    <tr>\n",
       "      <th>28</th>\n",
       "      <td>Turkey</td>\n",
       "      <td>1969.100980</td>\n",
       "      <td>2218.754257</td>\n",
       "      <td>2322.869908</td>\n",
       "      <td>2826.356387</td>\n",
       "      <td>3450.69638</td>\n",
       "      <td>4269.122326</td>\n",
       "      <td>4241.356344</td>\n",
       "      <td>5089.043686</td>\n",
       "      <td>5678.348271</td>\n",
       "      <td>6601.429915</td>\n",
       "      <td>6508.085718</td>\n",
       "      <td>8458.276384</td>\n",
       "    </tr>\n",
       "    <tr>\n",
       "      <th>29</th>\n",
       "      <td>United Kingdom</td>\n",
       "      <td>9979.508487</td>\n",
       "      <td>11283.177950</td>\n",
       "      <td>12477.177070</td>\n",
       "      <td>14142.850890</td>\n",
       "      <td>15895.11641</td>\n",
       "      <td>17428.748460</td>\n",
       "      <td>18232.424520</td>\n",
       "      <td>21664.787670</td>\n",
       "      <td>22705.092540</td>\n",
       "      <td>26074.531360</td>\n",
       "      <td>29478.999190</td>\n",
       "      <td>33203.261280</td>\n",
       "    </tr>\n",
       "  </tbody>\n",
       "</table>\n",
       "</div>"
      ],
      "text/plain": [
       "           country  gdpPercap_1952  gdpPercap_1957  gdpPercap_1962  \\\n",
       "25           Spain     3834.034742     4564.802410     5693.843879   \n",
       "26          Sweden     8527.844662     9911.878226    12329.441920   \n",
       "27     Switzerland    14734.232750    17909.489730    20431.092700   \n",
       "28          Turkey     1969.100980     2218.754257     2322.869908   \n",
       "29  United Kingdom     9979.508487    11283.177950    12477.177070   \n",
       "\n",
       "    gdpPercap_1967  gdpPercap_1972  gdpPercap_1977  gdpPercap_1982  \\\n",
       "25     7993.512294     10638.75131    13236.921170    13926.169970   \n",
       "26    15258.296970     17832.02464    18855.725210    20667.381250   \n",
       "27    22966.144320     27195.11304    26982.290520    28397.715120   \n",
       "28     2826.356387      3450.69638     4269.122326     4241.356344   \n",
       "29    14142.850890     15895.11641    17428.748460    18232.424520   \n",
       "\n",
       "    gdpPercap_1987  gdpPercap_1992  gdpPercap_1997  gdpPercap_2002  \\\n",
       "25    15764.983130    18603.064520    20445.298960    24835.471660   \n",
       "26    23586.929270    23880.016830    25266.594990    29341.630930   \n",
       "27    30281.704590    31871.530300    32135.323010    34480.957710   \n",
       "28     5089.043686     5678.348271     6601.429915     6508.085718   \n",
       "29    21664.787670    22705.092540    26074.531360    29478.999190   \n",
       "\n",
       "    gdpPercap_2007  \n",
       "25    28821.063700  \n",
       "26    33859.748350  \n",
       "27    37506.419070  \n",
       "28     8458.276384  \n",
       "29    33203.261280  "
      ]
     },
     "execution_count": 5,
     "metadata": {},
     "output_type": "execute_result"
    }
   ],
   "source": [
    "df.tail()"
   ]
  },
  {
   "cell_type": "markdown",
   "id": "5a224865",
   "metadata": {},
   "source": [
    "We can also see a random sample of rows from the DataFrame with `.sample()`, giving it a numerical argument to indicate the number of rows we want to see:\n",
    "\n",
    "~~~python\n",
    "df.sample(10)\n",
    "~~~"
   ]
  },
  {
   "cell_type": "code",
   "execution_count": 6,
   "id": "ec232369",
   "metadata": {},
   "outputs": [
    {
     "data": {
      "application/vnd.microsoft.datawrangler.viewer.v0+json": {
       "columns": [
        {
         "name": "index",
         "rawType": "int64",
         "type": "integer"
        },
        {
         "name": "country",
         "rawType": "object",
         "type": "string"
        },
        {
         "name": "gdpPercap_1952",
         "rawType": "float64",
         "type": "float"
        },
        {
         "name": "gdpPercap_1957",
         "rawType": "float64",
         "type": "float"
        },
        {
         "name": "gdpPercap_1962",
         "rawType": "float64",
         "type": "float"
        },
        {
         "name": "gdpPercap_1967",
         "rawType": "float64",
         "type": "float"
        },
        {
         "name": "gdpPercap_1972",
         "rawType": "float64",
         "type": "float"
        },
        {
         "name": "gdpPercap_1977",
         "rawType": "float64",
         "type": "float"
        },
        {
         "name": "gdpPercap_1982",
         "rawType": "float64",
         "type": "float"
        },
        {
         "name": "gdpPercap_1987",
         "rawType": "float64",
         "type": "float"
        },
        {
         "name": "gdpPercap_1992",
         "rawType": "float64",
         "type": "float"
        },
        {
         "name": "gdpPercap_1997",
         "rawType": "float64",
         "type": "float"
        },
        {
         "name": "gdpPercap_2002",
         "rawType": "float64",
         "type": "float"
        },
        {
         "name": "gdpPercap_2007",
         "rawType": "float64",
         "type": "float"
        }
       ],
       "ref": "177421a7-196a-4a56-a1cd-1db5146d089d",
       "rows": [
        [
         "10",
         "Germany",
         "7144.114393",
         "10187.82665",
         "12902.46291",
         "14745.62561",
         "18016.18027",
         "20512.92123",
         "22031.53274",
         "24639.18566",
         "26505.30317",
         "27788.88416",
         "30035.80198",
         "32170.37442"
        ],
        [
         "12",
         "Hungary",
         "5263.673816",
         "6040.180011",
         "7550.359877",
         "9326.64467",
         "10168.65611",
         "11674.83737",
         "12545.99066",
         "12986.47998",
         "10535.62855",
         "11712.7768",
         "14843.93556",
         "18008.94444"
        ],
        [
         "3",
         "Bosnia and Herzegovina",
         "973.5331948",
         "1353.989176",
         "1709.683679",
         "2172.352423",
         "2860.16975",
         "3528.481305",
         "4126.613157",
         "4314.114757",
         "2546.781445",
         "4766.355904",
         "6018.975239",
         "7446.298803"
        ],
        [
         "25",
         "Spain",
         "3834.034742",
         "4564.80241",
         "5693.843879",
         "7993.512294",
         "10638.75131",
         "13236.92117",
         "13926.16997",
         "15764.98313",
         "18603.06452",
         "20445.29896",
         "24835.47166",
         "28821.0637"
        ],
        [
         "17",
         "Netherlands",
         "8941.571858",
         "11276.19344",
         "12790.84956",
         "15363.25136",
         "18794.74567",
         "21209.0592",
         "21399.46046",
         "23651.32361",
         "26790.94961",
         "30246.13063",
         "33724.75778",
         "36797.93332"
        ],
        [
         "4",
         "Bulgaria",
         "2444.286648",
         "3008.670727",
         "4254.337839",
         "5577.0028",
         "6597.494398",
         "7612.240438",
         "8224.191647",
         "8239.854824",
         "6302.623438",
         "5970.38876",
         "7696.777725",
         "10680.79282"
        ],
        [
         "11",
         "Greece",
         "3530.690067",
         "4916.299889",
         "6017.190733",
         "8513.097016",
         "12724.82957",
         "14195.52428",
         "15268.42089",
         "16120.52839",
         "17541.49634",
         "18747.69814",
         "22514.2548",
         "27538.41188"
        ],
        [
         "27",
         "Switzerland",
         "14734.23275",
         "17909.48973",
         "20431.0927",
         "22966.14432",
         "27195.11304",
         "26982.29052",
         "28397.71512",
         "30281.70459",
         "31871.5303",
         "32135.32301",
         "34480.95771",
         "37506.41907"
        ],
        [
         "0",
         "Albania",
         "1601.056136",
         "1942.284244",
         "2312.888958",
         "2760.196931",
         "3313.422188",
         "3533.00391",
         "3630.880722",
         "3738.932735",
         "2497.437901",
         "3193.054604",
         "4604.211737",
         "5937.029526"
        ],
        [
         "8",
         "Finland",
         "6424.519071",
         "7545.415386",
         "9371.842561",
         "10921.63626",
         "14358.8759",
         "15605.42283",
         "18533.15761",
         "21141.01223",
         "20647.16499",
         "23723.9502",
         "28204.59057",
         "33207.0844"
        ]
       ],
       "shape": {
        "columns": 13,
        "rows": 10
       }
      },
      "text/html": [
       "<div>\n",
       "<style scoped>\n",
       "    .dataframe tbody tr th:only-of-type {\n",
       "        vertical-align: middle;\n",
       "    }\n",
       "\n",
       "    .dataframe tbody tr th {\n",
       "        vertical-align: top;\n",
       "    }\n",
       "\n",
       "    .dataframe thead th {\n",
       "        text-align: right;\n",
       "    }\n",
       "</style>\n",
       "<table border=\"1\" class=\"dataframe\">\n",
       "  <thead>\n",
       "    <tr style=\"text-align: right;\">\n",
       "      <th></th>\n",
       "      <th>country</th>\n",
       "      <th>gdpPercap_1952</th>\n",
       "      <th>gdpPercap_1957</th>\n",
       "      <th>gdpPercap_1962</th>\n",
       "      <th>gdpPercap_1967</th>\n",
       "      <th>gdpPercap_1972</th>\n",
       "      <th>gdpPercap_1977</th>\n",
       "      <th>gdpPercap_1982</th>\n",
       "      <th>gdpPercap_1987</th>\n",
       "      <th>gdpPercap_1992</th>\n",
       "      <th>gdpPercap_1997</th>\n",
       "      <th>gdpPercap_2002</th>\n",
       "      <th>gdpPercap_2007</th>\n",
       "    </tr>\n",
       "  </thead>\n",
       "  <tbody>\n",
       "    <tr>\n",
       "      <th>10</th>\n",
       "      <td>Germany</td>\n",
       "      <td>7144.114393</td>\n",
       "      <td>10187.826650</td>\n",
       "      <td>12902.462910</td>\n",
       "      <td>14745.625610</td>\n",
       "      <td>18016.180270</td>\n",
       "      <td>20512.921230</td>\n",
       "      <td>22031.532740</td>\n",
       "      <td>24639.185660</td>\n",
       "      <td>26505.303170</td>\n",
       "      <td>27788.884160</td>\n",
       "      <td>30035.801980</td>\n",
       "      <td>32170.374420</td>\n",
       "    </tr>\n",
       "    <tr>\n",
       "      <th>12</th>\n",
       "      <td>Hungary</td>\n",
       "      <td>5263.673816</td>\n",
       "      <td>6040.180011</td>\n",
       "      <td>7550.359877</td>\n",
       "      <td>9326.644670</td>\n",
       "      <td>10168.656110</td>\n",
       "      <td>11674.837370</td>\n",
       "      <td>12545.990660</td>\n",
       "      <td>12986.479980</td>\n",
       "      <td>10535.628550</td>\n",
       "      <td>11712.776800</td>\n",
       "      <td>14843.935560</td>\n",
       "      <td>18008.944440</td>\n",
       "    </tr>\n",
       "    <tr>\n",
       "      <th>3</th>\n",
       "      <td>Bosnia and Herzegovina</td>\n",
       "      <td>973.533195</td>\n",
       "      <td>1353.989176</td>\n",
       "      <td>1709.683679</td>\n",
       "      <td>2172.352423</td>\n",
       "      <td>2860.169750</td>\n",
       "      <td>3528.481305</td>\n",
       "      <td>4126.613157</td>\n",
       "      <td>4314.114757</td>\n",
       "      <td>2546.781445</td>\n",
       "      <td>4766.355904</td>\n",
       "      <td>6018.975239</td>\n",
       "      <td>7446.298803</td>\n",
       "    </tr>\n",
       "    <tr>\n",
       "      <th>25</th>\n",
       "      <td>Spain</td>\n",
       "      <td>3834.034742</td>\n",
       "      <td>4564.802410</td>\n",
       "      <td>5693.843879</td>\n",
       "      <td>7993.512294</td>\n",
       "      <td>10638.751310</td>\n",
       "      <td>13236.921170</td>\n",
       "      <td>13926.169970</td>\n",
       "      <td>15764.983130</td>\n",
       "      <td>18603.064520</td>\n",
       "      <td>20445.298960</td>\n",
       "      <td>24835.471660</td>\n",
       "      <td>28821.063700</td>\n",
       "    </tr>\n",
       "    <tr>\n",
       "      <th>17</th>\n",
       "      <td>Netherlands</td>\n",
       "      <td>8941.571858</td>\n",
       "      <td>11276.193440</td>\n",
       "      <td>12790.849560</td>\n",
       "      <td>15363.251360</td>\n",
       "      <td>18794.745670</td>\n",
       "      <td>21209.059200</td>\n",
       "      <td>21399.460460</td>\n",
       "      <td>23651.323610</td>\n",
       "      <td>26790.949610</td>\n",
       "      <td>30246.130630</td>\n",
       "      <td>33724.757780</td>\n",
       "      <td>36797.933320</td>\n",
       "    </tr>\n",
       "    <tr>\n",
       "      <th>4</th>\n",
       "      <td>Bulgaria</td>\n",
       "      <td>2444.286648</td>\n",
       "      <td>3008.670727</td>\n",
       "      <td>4254.337839</td>\n",
       "      <td>5577.002800</td>\n",
       "      <td>6597.494398</td>\n",
       "      <td>7612.240438</td>\n",
       "      <td>8224.191647</td>\n",
       "      <td>8239.854824</td>\n",
       "      <td>6302.623438</td>\n",
       "      <td>5970.388760</td>\n",
       "      <td>7696.777725</td>\n",
       "      <td>10680.792820</td>\n",
       "    </tr>\n",
       "    <tr>\n",
       "      <th>11</th>\n",
       "      <td>Greece</td>\n",
       "      <td>3530.690067</td>\n",
       "      <td>4916.299889</td>\n",
       "      <td>6017.190733</td>\n",
       "      <td>8513.097016</td>\n",
       "      <td>12724.829570</td>\n",
       "      <td>14195.524280</td>\n",
       "      <td>15268.420890</td>\n",
       "      <td>16120.528390</td>\n",
       "      <td>17541.496340</td>\n",
       "      <td>18747.698140</td>\n",
       "      <td>22514.254800</td>\n",
       "      <td>27538.411880</td>\n",
       "    </tr>\n",
       "    <tr>\n",
       "      <th>27</th>\n",
       "      <td>Switzerland</td>\n",
       "      <td>14734.232750</td>\n",
       "      <td>17909.489730</td>\n",
       "      <td>20431.092700</td>\n",
       "      <td>22966.144320</td>\n",
       "      <td>27195.113040</td>\n",
       "      <td>26982.290520</td>\n",
       "      <td>28397.715120</td>\n",
       "      <td>30281.704590</td>\n",
       "      <td>31871.530300</td>\n",
       "      <td>32135.323010</td>\n",
       "      <td>34480.957710</td>\n",
       "      <td>37506.419070</td>\n",
       "    </tr>\n",
       "    <tr>\n",
       "      <th>0</th>\n",
       "      <td>Albania</td>\n",
       "      <td>1601.056136</td>\n",
       "      <td>1942.284244</td>\n",
       "      <td>2312.888958</td>\n",
       "      <td>2760.196931</td>\n",
       "      <td>3313.422188</td>\n",
       "      <td>3533.003910</td>\n",
       "      <td>3630.880722</td>\n",
       "      <td>3738.932735</td>\n",
       "      <td>2497.437901</td>\n",
       "      <td>3193.054604</td>\n",
       "      <td>4604.211737</td>\n",
       "      <td>5937.029526</td>\n",
       "    </tr>\n",
       "    <tr>\n",
       "      <th>8</th>\n",
       "      <td>Finland</td>\n",
       "      <td>6424.519071</td>\n",
       "      <td>7545.415386</td>\n",
       "      <td>9371.842561</td>\n",
       "      <td>10921.636260</td>\n",
       "      <td>14358.875900</td>\n",
       "      <td>15605.422830</td>\n",
       "      <td>18533.157610</td>\n",
       "      <td>21141.012230</td>\n",
       "      <td>20647.164990</td>\n",
       "      <td>23723.950200</td>\n",
       "      <td>28204.590570</td>\n",
       "      <td>33207.084400</td>\n",
       "    </tr>\n",
       "  </tbody>\n",
       "</table>\n",
       "</div>"
      ],
      "text/plain": [
       "                   country  gdpPercap_1952  gdpPercap_1957  gdpPercap_1962  \\\n",
       "10                 Germany     7144.114393    10187.826650    12902.462910   \n",
       "12                 Hungary     5263.673816     6040.180011     7550.359877   \n",
       "3   Bosnia and Herzegovina      973.533195     1353.989176     1709.683679   \n",
       "25                   Spain     3834.034742     4564.802410     5693.843879   \n",
       "17             Netherlands     8941.571858    11276.193440    12790.849560   \n",
       "4                 Bulgaria     2444.286648     3008.670727     4254.337839   \n",
       "11                  Greece     3530.690067     4916.299889     6017.190733   \n",
       "27             Switzerland    14734.232750    17909.489730    20431.092700   \n",
       "0                  Albania     1601.056136     1942.284244     2312.888958   \n",
       "8                  Finland     6424.519071     7545.415386     9371.842561   \n",
       "\n",
       "    gdpPercap_1967  gdpPercap_1972  gdpPercap_1977  gdpPercap_1982  \\\n",
       "10    14745.625610    18016.180270    20512.921230    22031.532740   \n",
       "12     9326.644670    10168.656110    11674.837370    12545.990660   \n",
       "3      2172.352423     2860.169750     3528.481305     4126.613157   \n",
       "25     7993.512294    10638.751310    13236.921170    13926.169970   \n",
       "17    15363.251360    18794.745670    21209.059200    21399.460460   \n",
       "4      5577.002800     6597.494398     7612.240438     8224.191647   \n",
       "11     8513.097016    12724.829570    14195.524280    15268.420890   \n",
       "27    22966.144320    27195.113040    26982.290520    28397.715120   \n",
       "0      2760.196931     3313.422188     3533.003910     3630.880722   \n",
       "8     10921.636260    14358.875900    15605.422830    18533.157610   \n",
       "\n",
       "    gdpPercap_1987  gdpPercap_1992  gdpPercap_1997  gdpPercap_2002  \\\n",
       "10    24639.185660    26505.303170    27788.884160    30035.801980   \n",
       "12    12986.479980    10535.628550    11712.776800    14843.935560   \n",
       "3      4314.114757     2546.781445     4766.355904     6018.975239   \n",
       "25    15764.983130    18603.064520    20445.298960    24835.471660   \n",
       "17    23651.323610    26790.949610    30246.130630    33724.757780   \n",
       "4      8239.854824     6302.623438     5970.388760     7696.777725   \n",
       "11    16120.528390    17541.496340    18747.698140    22514.254800   \n",
       "27    30281.704590    31871.530300    32135.323010    34480.957710   \n",
       "0      3738.932735     2497.437901     3193.054604     4604.211737   \n",
       "8     21141.012230    20647.164990    23723.950200    28204.590570   \n",
       "\n",
       "    gdpPercap_2007  \n",
       "10    32170.374420  \n",
       "12    18008.944440  \n",
       "3      7446.298803  \n",
       "25    28821.063700  \n",
       "17    36797.933320  \n",
       "4     10680.792820  \n",
       "11    27538.411880  \n",
       "27    37506.419070  \n",
       "0      5937.029526  \n",
       "8     33207.084400  "
      ]
     },
     "execution_count": 6,
     "metadata": {},
     "output_type": "execute_result"
    }
   ],
   "source": [
    "df.sample(10)"
   ]
  },
  {
   "cell_type": "markdown",
   "id": "7d7811b3",
   "metadata": {},
   "source": [
    "Note that the `.head()` and `.tail()` methods also optionally take a numerical argument, if you want to view a different number of rows from the default of 5."
   ]
  },
  {
   "cell_type": "markdown",
   "id": "e56bee7c-6c17-4e82-83ae-e3d87928640c",
   "metadata": {
    "tags": []
   },
   "source": [
    "## Accessing values in a DataFrame\n",
    "\n",
    "One thing we often want to do is access a single cell in a DataFrame, or a range of cells. Each cell is uniquely defined by a combination of its row and column locations. "
   ]
  },
  {
   "cell_type": "markdown",
   "id": "2853b936-2d36-4f90-9e65-b9f85177a1a8",
   "metadata": {},
   "source": [
    "### Select a column using `[]`\n",
    "\n",
    "If we want to select an entire column of a pandas DataFrame, we just give the name of the DataFrame followed by the column name in square brackets:\n",
    "\n",
    "~~~python\n",
    "df['gdpPercap_1992']\n",
    "~~~"
   ]
  },
  {
   "cell_type": "code",
   "execution_count": 7,
   "id": "f156ffa8-6616-4403-846c-a608c8b87ac7",
   "metadata": {},
   "outputs": [
    {
     "data": {
      "application/vnd.microsoft.datawrangler.viewer.v0+json": {
       "columns": [
        {
         "name": "index",
         "rawType": "int64",
         "type": "integer"
        },
        {
         "name": "gdpPercap_1992",
         "rawType": "float64",
         "type": "float"
        }
       ],
       "ref": "bbee785f-70ec-419e-b02a-302428170066",
       "rows": [
        [
         "0",
         "2497.437901"
        ],
        [
         "1",
         "27042.01868"
        ],
        [
         "2",
         "25575.57069"
        ],
        [
         "3",
         "2546.781445"
        ],
        [
         "4",
         "6302.623438"
        ],
        [
         "5",
         "8447.794873"
        ],
        [
         "6",
         "14297.02122"
        ],
        [
         "7",
         "26406.73985"
        ],
        [
         "8",
         "20647.16499"
        ],
        [
         "9",
         "24703.79615"
        ],
        [
         "10",
         "26505.30317"
        ],
        [
         "11",
         "17541.49634"
        ],
        [
         "12",
         "10535.62855"
        ],
        [
         "13",
         "25144.39201"
        ],
        [
         "14",
         "17558.81555"
        ],
        [
         "15",
         "22013.64486"
        ],
        [
         "16",
         "7003.339037"
        ],
        [
         "17",
         "26790.94961"
        ],
        [
         "18",
         "33965.66115"
        ],
        [
         "19",
         "7738.881247"
        ],
        [
         "20",
         "16207.26663"
        ],
        [
         "21",
         "6598.409903"
        ],
        [
         "22",
         "9325.068238"
        ],
        [
         "23",
         "9498.467723"
        ],
        [
         "24",
         "14214.71681"
        ],
        [
         "25",
         "18603.06452"
        ],
        [
         "26",
         "23880.01683"
        ],
        [
         "27",
         "31871.5303"
        ],
        [
         "28",
         "5678.348271"
        ],
        [
         "29",
         "22705.09254"
        ]
       ],
       "shape": {
        "columns": 1,
        "rows": 30
       }
      },
      "text/plain": [
       "0      2497.437901\n",
       "1     27042.018680\n",
       "2     25575.570690\n",
       "3      2546.781445\n",
       "4      6302.623438\n",
       "5      8447.794873\n",
       "6     14297.021220\n",
       "7     26406.739850\n",
       "8     20647.164990\n",
       "9     24703.796150\n",
       "10    26505.303170\n",
       "11    17541.496340\n",
       "12    10535.628550\n",
       "13    25144.392010\n",
       "14    17558.815550\n",
       "15    22013.644860\n",
       "16     7003.339037\n",
       "17    26790.949610\n",
       "18    33965.661150\n",
       "19     7738.881247\n",
       "20    16207.266630\n",
       "21     6598.409903\n",
       "22     9325.068238\n",
       "23     9498.467723\n",
       "24    14214.716810\n",
       "25    18603.064520\n",
       "26    23880.016830\n",
       "27    31871.530300\n",
       "28     5678.348271\n",
       "29    22705.092540\n",
       "Name: gdpPercap_1992, dtype: float64"
      ]
     },
     "execution_count": 7,
     "metadata": {},
     "output_type": "execute_result"
    }
   ],
   "source": [
    "df['gdpPercap_1992']"
   ]
  },
  {
   "cell_type": "markdown",
   "id": "c2ea75f6-4806-47e0-a1fe-f0ad4c4e0770",
   "metadata": {},
   "source": [
    "Note that if we ask for a single column the result is a pandas Series, but if we ask for two or more columns, the result is a DataFrame. Pay close attention to the syntax below — if we're asking for more than one column, we need to provide a *list* of columns inside the square brackets (so there are *two* sets of nested square brackets in the code below):\n",
    "\n",
    "~~~python\n",
    "df[['gdpPercap_1982', 'gdpPercap_1992']]\n",
    "~~~"
   ]
  },
  {
   "cell_type": "code",
   "execution_count": 8,
   "id": "9666ba69-1d3b-43cf-8f51-85939fa30215",
   "metadata": {},
   "outputs": [
    {
     "data": {
      "application/vnd.microsoft.datawrangler.viewer.v0+json": {
       "columns": [
        {
         "name": "index",
         "rawType": "int64",
         "type": "integer"
        },
        {
         "name": "gdpPercap_1982",
         "rawType": "float64",
         "type": "float"
        },
        {
         "name": "gdpPercap_1992",
         "rawType": "float64",
         "type": "float"
        }
       ],
       "ref": "fb02ca37-0252-4835-98a3-223e537971b4",
       "rows": [
        [
         "0",
         "3630.880722",
         "2497.437901"
        ],
        [
         "1",
         "21597.08362",
         "27042.01868"
        ],
        [
         "2",
         "20979.84589",
         "25575.57069"
        ],
        [
         "3",
         "4126.613157",
         "2546.781445"
        ],
        [
         "4",
         "8224.191647",
         "6302.623438"
        ],
        [
         "5",
         "13221.82184",
         "8447.794873"
        ],
        [
         "6",
         "15377.22855",
         "14297.02122"
        ],
        [
         "7",
         "21688.04048",
         "26406.73985"
        ],
        [
         "8",
         "18533.15761",
         "20647.16499"
        ],
        [
         "9",
         "20293.89746",
         "24703.79615"
        ],
        [
         "10",
         "22031.53274",
         "26505.30317"
        ],
        [
         "11",
         "15268.42089",
         "17541.49634"
        ],
        [
         "12",
         "12545.99066",
         "10535.62855"
        ],
        [
         "13",
         "23269.6075",
         "25144.39201"
        ],
        [
         "14",
         "12618.32141",
         "17558.81555"
        ],
        [
         "15",
         "16537.4835",
         "22013.64486"
        ],
        [
         "16",
         "11222.58762",
         "7003.339037"
        ],
        [
         "17",
         "21399.46046",
         "26790.94961"
        ],
        [
         "18",
         "26298.63531",
         "33965.66115"
        ],
        [
         "19",
         "8451.531004",
         "7738.881247"
        ],
        [
         "20",
         "11753.84291",
         "16207.26663"
        ],
        [
         "21",
         "9605.314053",
         "6598.409903"
        ],
        [
         "22",
         "15181.0927",
         "9325.068238"
        ],
        [
         "23",
         "11348.54585",
         "9498.467723"
        ],
        [
         "24",
         "17866.72175",
         "14214.71681"
        ],
        [
         "25",
         "13926.16997",
         "18603.06452"
        ],
        [
         "26",
         "20667.38125",
         "23880.01683"
        ],
        [
         "27",
         "28397.71512",
         "31871.5303"
        ],
        [
         "28",
         "4241.356344",
         "5678.348271"
        ],
        [
         "29",
         "18232.42452",
         "22705.09254"
        ]
       ],
       "shape": {
        "columns": 2,
        "rows": 30
       }
      },
      "text/html": [
       "<div>\n",
       "<style scoped>\n",
       "    .dataframe tbody tr th:only-of-type {\n",
       "        vertical-align: middle;\n",
       "    }\n",
       "\n",
       "    .dataframe tbody tr th {\n",
       "        vertical-align: top;\n",
       "    }\n",
       "\n",
       "    .dataframe thead th {\n",
       "        text-align: right;\n",
       "    }\n",
       "</style>\n",
       "<table border=\"1\" class=\"dataframe\">\n",
       "  <thead>\n",
       "    <tr style=\"text-align: right;\">\n",
       "      <th></th>\n",
       "      <th>gdpPercap_1982</th>\n",
       "      <th>gdpPercap_1992</th>\n",
       "    </tr>\n",
       "  </thead>\n",
       "  <tbody>\n",
       "    <tr>\n",
       "      <th>0</th>\n",
       "      <td>3630.880722</td>\n",
       "      <td>2497.437901</td>\n",
       "    </tr>\n",
       "    <tr>\n",
       "      <th>1</th>\n",
       "      <td>21597.083620</td>\n",
       "      <td>27042.018680</td>\n",
       "    </tr>\n",
       "    <tr>\n",
       "      <th>2</th>\n",
       "      <td>20979.845890</td>\n",
       "      <td>25575.570690</td>\n",
       "    </tr>\n",
       "    <tr>\n",
       "      <th>3</th>\n",
       "      <td>4126.613157</td>\n",
       "      <td>2546.781445</td>\n",
       "    </tr>\n",
       "    <tr>\n",
       "      <th>4</th>\n",
       "      <td>8224.191647</td>\n",
       "      <td>6302.623438</td>\n",
       "    </tr>\n",
       "    <tr>\n",
       "      <th>5</th>\n",
       "      <td>13221.821840</td>\n",
       "      <td>8447.794873</td>\n",
       "    </tr>\n",
       "    <tr>\n",
       "      <th>6</th>\n",
       "      <td>15377.228550</td>\n",
       "      <td>14297.021220</td>\n",
       "    </tr>\n",
       "    <tr>\n",
       "      <th>7</th>\n",
       "      <td>21688.040480</td>\n",
       "      <td>26406.739850</td>\n",
       "    </tr>\n",
       "    <tr>\n",
       "      <th>8</th>\n",
       "      <td>18533.157610</td>\n",
       "      <td>20647.164990</td>\n",
       "    </tr>\n",
       "    <tr>\n",
       "      <th>9</th>\n",
       "      <td>20293.897460</td>\n",
       "      <td>24703.796150</td>\n",
       "    </tr>\n",
       "    <tr>\n",
       "      <th>10</th>\n",
       "      <td>22031.532740</td>\n",
       "      <td>26505.303170</td>\n",
       "    </tr>\n",
       "    <tr>\n",
       "      <th>11</th>\n",
       "      <td>15268.420890</td>\n",
       "      <td>17541.496340</td>\n",
       "    </tr>\n",
       "    <tr>\n",
       "      <th>12</th>\n",
       "      <td>12545.990660</td>\n",
       "      <td>10535.628550</td>\n",
       "    </tr>\n",
       "    <tr>\n",
       "      <th>13</th>\n",
       "      <td>23269.607500</td>\n",
       "      <td>25144.392010</td>\n",
       "    </tr>\n",
       "    <tr>\n",
       "      <th>14</th>\n",
       "      <td>12618.321410</td>\n",
       "      <td>17558.815550</td>\n",
       "    </tr>\n",
       "    <tr>\n",
       "      <th>15</th>\n",
       "      <td>16537.483500</td>\n",
       "      <td>22013.644860</td>\n",
       "    </tr>\n",
       "    <tr>\n",
       "      <th>16</th>\n",
       "      <td>11222.587620</td>\n",
       "      <td>7003.339037</td>\n",
       "    </tr>\n",
       "    <tr>\n",
       "      <th>17</th>\n",
       "      <td>21399.460460</td>\n",
       "      <td>26790.949610</td>\n",
       "    </tr>\n",
       "    <tr>\n",
       "      <th>18</th>\n",
       "      <td>26298.635310</td>\n",
       "      <td>33965.661150</td>\n",
       "    </tr>\n",
       "    <tr>\n",
       "      <th>19</th>\n",
       "      <td>8451.531004</td>\n",
       "      <td>7738.881247</td>\n",
       "    </tr>\n",
       "    <tr>\n",
       "      <th>20</th>\n",
       "      <td>11753.842910</td>\n",
       "      <td>16207.266630</td>\n",
       "    </tr>\n",
       "    <tr>\n",
       "      <th>21</th>\n",
       "      <td>9605.314053</td>\n",
       "      <td>6598.409903</td>\n",
       "    </tr>\n",
       "    <tr>\n",
       "      <th>22</th>\n",
       "      <td>15181.092700</td>\n",
       "      <td>9325.068238</td>\n",
       "    </tr>\n",
       "    <tr>\n",
       "      <th>23</th>\n",
       "      <td>11348.545850</td>\n",
       "      <td>9498.467723</td>\n",
       "    </tr>\n",
       "    <tr>\n",
       "      <th>24</th>\n",
       "      <td>17866.721750</td>\n",
       "      <td>14214.716810</td>\n",
       "    </tr>\n",
       "    <tr>\n",
       "      <th>25</th>\n",
       "      <td>13926.169970</td>\n",
       "      <td>18603.064520</td>\n",
       "    </tr>\n",
       "    <tr>\n",
       "      <th>26</th>\n",
       "      <td>20667.381250</td>\n",
       "      <td>23880.016830</td>\n",
       "    </tr>\n",
       "    <tr>\n",
       "      <th>27</th>\n",
       "      <td>28397.715120</td>\n",
       "      <td>31871.530300</td>\n",
       "    </tr>\n",
       "    <tr>\n",
       "      <th>28</th>\n",
       "      <td>4241.356344</td>\n",
       "      <td>5678.348271</td>\n",
       "    </tr>\n",
       "    <tr>\n",
       "      <th>29</th>\n",
       "      <td>18232.424520</td>\n",
       "      <td>22705.092540</td>\n",
       "    </tr>\n",
       "  </tbody>\n",
       "</table>\n",
       "</div>"
      ],
      "text/plain": [
       "    gdpPercap_1982  gdpPercap_1992\n",
       "0      3630.880722     2497.437901\n",
       "1     21597.083620    27042.018680\n",
       "2     20979.845890    25575.570690\n",
       "3      4126.613157     2546.781445\n",
       "4      8224.191647     6302.623438\n",
       "5     13221.821840     8447.794873\n",
       "6     15377.228550    14297.021220\n",
       "7     21688.040480    26406.739850\n",
       "8     18533.157610    20647.164990\n",
       "9     20293.897460    24703.796150\n",
       "10    22031.532740    26505.303170\n",
       "11    15268.420890    17541.496340\n",
       "12    12545.990660    10535.628550\n",
       "13    23269.607500    25144.392010\n",
       "14    12618.321410    17558.815550\n",
       "15    16537.483500    22013.644860\n",
       "16    11222.587620     7003.339037\n",
       "17    21399.460460    26790.949610\n",
       "18    26298.635310    33965.661150\n",
       "19     8451.531004     7738.881247\n",
       "20    11753.842910    16207.266630\n",
       "21     9605.314053     6598.409903\n",
       "22    15181.092700     9325.068238\n",
       "23    11348.545850     9498.467723\n",
       "24    17866.721750    14214.716810\n",
       "25    13926.169970    18603.064520\n",
       "26    20667.381250    23880.016830\n",
       "27    28397.715120    31871.530300\n",
       "28     4241.356344     5678.348271\n",
       "29    18232.424520    22705.092540"
      ]
     },
     "execution_count": 8,
     "metadata": {},
     "output_type": "execute_result"
    }
   ],
   "source": [
    "df[['gdpPercap_1982','gdpPercap_1992']]"
   ]
  },
  {
   "cell_type": "markdown",
   "id": "552b122b-de4a-4331-a31f-ae218213645a",
   "metadata": {
    "jp-MarkdownHeadingCollapsed": true,
    "tags": []
   },
   "source": [
    "### Numerical indexing using `.iloc[]`\n",
    "\n",
    "Often we don't want to access an entire column, however, but just specific rows within a column (or range of columns). pandas provides two ways of accessing cell locations. One is using the numerical positions in the DataFrame, using the convention of [row, column] — with [0, 0] being the top left cell in the DataFrame. So for a pandas DataFrame with 3 rows and 3 columns, the indices of each cell are as shown:\n",
    "\n",
    "|   | col 0  | col 1  | col 2  | col 3  |\n",
    "|---|--------|--------|--------|--------|\n",
    "| 0 | [0, 0] | [0, 1] | [0, 2] | [0, 3] |\n",
    "| 1 | [1, 0] | [1, 1] | [1, 2] | [1, 3] |\n",
    "| 2 | [2, 0] | [2, 1] | [2, 2] | [2, 3] |\n",
    "| 3 | [3, 0] | [3, 1] | [3, 2] | [3, 3] |\n",
    "\n",
    "\n",
    "Numerical indexing of DataFrames is done with the `.iloc[]` method. For example, to access the GDP value for Austria in 1952 — which is located in the second row, third column of our current DataFrame, we would use:\n",
    "\n",
    "~~~python\n",
    "df.iloc[1, 2]\n",
    "~~~"
   ]
  },
  {
   "cell_type": "code",
   "execution_count": 9,
   "id": "f787f907",
   "metadata": {},
   "outputs": [
    {
     "data": {
      "text/plain": [
       "np.float64(8842.59803)"
      ]
     },
     "execution_count": 9,
     "metadata": {},
     "output_type": "execute_result"
    }
   ],
   "source": [
    "df.iloc[1, 2]"
   ]
  },
  {
   "cell_type": "markdown",
   "id": "fdfa7f4c",
   "metadata": {},
   "source": [
    "## Label-based indexing using `.loc[]`\n",
    "\n",
    "The other way to access a location in a DataFrame is by its index and column *labels*, using the `.loc[]` method. As noted earlier, in the DataFrame we imported, the indexes are currently numbers, which were created automatically when we imported the data. The `.loc[]` method doesn't work with numerical indexes (that's what `iloc` is for — and you can't mix, say, a numerical row index with a column label), but in the data set we imported, the first column of this CSV file is actually meant to be its index: while all other columns are data values (GDP, in type float), the first column identifies the country with which each row of data is associated. \n",
    "\n",
    "pandas has a method for setting an index column, `.set_index()`, where the argument (in the parentheses) would be the name of the column to use as the index. So here we want to run:\n",
    "\n",
    "~~~python\n",
    "df = df.set_index('country')\n",
    "~~~\n",
    "\n",
    "**Note** that we need to assign the result of this operation back to `df` (using `df = `), otherwise the change will not actually modify `df`.\n",
    "\n",
    "In the cell below, use the `.set_index()` method to set the index of `df` to `country`, and then view the DataFrame again to see how it has changed."
   ]
  },
  {
   "cell_type": "code",
   "execution_count": 10,
   "id": "7b4469e7",
   "metadata": {},
   "outputs": [],
   "source": [
    "df = df.set_index('country')"
   ]
  },
  {
   "cell_type": "markdown",
   "id": "e7746fbd",
   "metadata": {},
   "source": [
    "Alternatively, if we knew which column we wanted to use as the index before loading in the data file, we could have included the argument `index_col=` in the `pd.read_csv()` command:\n",
    "\n",
    "~~~python\n",
    "df = pd.read_csv('data/gapminder_gdp_europe.csv', index_col='country')\n",
    "~~~\n",
    "\n"
   ]
  },
  {
   "cell_type": "markdown",
   "id": "db963af7",
   "metadata": {},
   "source": [
    "Now that we have defined the index, we can access the 1952 GDP value for Austria by its index and column names:\n",
    "\n",
    "~~~python\n",
    "df.loc['Austria', 'gdpPercap_1952']\n",
    "~~~"
   ]
  },
  {
   "cell_type": "code",
   "execution_count": 11,
   "id": "2c4e1ee3",
   "metadata": {},
   "outputs": [
    {
     "data": {
      "text/plain": [
       "np.float64(6137.076492)"
      ]
     },
     "execution_count": 11,
     "metadata": {},
     "output_type": "execute_result"
    }
   ],
   "source": [
    "df = pd.read_csv('data/gapminder_gdp_europe.csv', index_col='country')\n",
    "df.loc['Austria', 'gdpPercap_1952']"
   ]
  },
  {
   "cell_type": "markdown",
   "id": "347d116b",
   "metadata": {},
   "source": [
    "## Use `:` on its own to mean all columns or all rows.\n",
    "\n",
    "Using Python's familiar slicing notation (which we've previously used for strings and lists), we can use `:` with `.iloc[]` or `.loc[]`, to specify a range in a DataFrame.\n",
    "\n",
    "For example, to see the GDP of Albania for every year (column) in the DataFrame, we would use:\n",
    "\n",
    "~~~python\n",
    "df.loc[\"Albania\", :]\n",
    "~~~"
   ]
  },
  {
   "cell_type": "code",
   "execution_count": 12,
   "id": "003a1e33",
   "metadata": {},
   "outputs": [
    {
     "data": {
      "application/vnd.microsoft.datawrangler.viewer.v0+json": {
       "columns": [
        {
         "name": "index",
         "rawType": "object",
         "type": "string"
        },
        {
         "name": "Albania",
         "rawType": "float64",
         "type": "float"
        }
       ],
       "ref": "c7c7d28c-eb2a-4ef6-97da-87cb1d6aacea",
       "rows": [
        [
         "gdpPercap_1952",
         "1601.056136"
        ],
        [
         "gdpPercap_1957",
         "1942.284244"
        ],
        [
         "gdpPercap_1962",
         "2312.888958"
        ],
        [
         "gdpPercap_1967",
         "2760.196931"
        ],
        [
         "gdpPercap_1972",
         "3313.422188"
        ],
        [
         "gdpPercap_1977",
         "3533.00391"
        ],
        [
         "gdpPercap_1982",
         "3630.880722"
        ],
        [
         "gdpPercap_1987",
         "3738.932735"
        ],
        [
         "gdpPercap_1992",
         "2497.437901"
        ],
        [
         "gdpPercap_1997",
         "3193.054604"
        ],
        [
         "gdpPercap_2002",
         "4604.211737"
        ],
        [
         "gdpPercap_2007",
         "5937.029526"
        ]
       ],
       "shape": {
        "columns": 1,
        "rows": 12
       }
      },
      "text/plain": [
       "gdpPercap_1952    1601.056136\n",
       "gdpPercap_1957    1942.284244\n",
       "gdpPercap_1962    2312.888958\n",
       "gdpPercap_1967    2760.196931\n",
       "gdpPercap_1972    3313.422188\n",
       "gdpPercap_1977    3533.003910\n",
       "gdpPercap_1982    3630.880722\n",
       "gdpPercap_1987    3738.932735\n",
       "gdpPercap_1992    2497.437901\n",
       "gdpPercap_1997    3193.054604\n",
       "gdpPercap_2002    4604.211737\n",
       "gdpPercap_2007    5937.029526\n",
       "Name: Albania, dtype: float64"
      ]
     },
     "execution_count": 12,
     "metadata": {},
     "output_type": "execute_result"
    }
   ],
   "source": [
    "df.loc['Albania', :]"
   ]
  },
  {
   "cell_type": "markdown",
   "id": "0d7e7e6d",
   "metadata": {},
   "source": [
    "Likewise, we could see the GDP for every country (row) in the year 1957 with:\n",
    "\n",
    "~~~python\n",
    "df.loc[:, 'gdpPercap_1957']\n",
    "~~~"
   ]
  },
  {
   "cell_type": "code",
   "execution_count": 13,
   "id": "bbbe26e6-9b81-47b2-8dd3-857f5b9c289e",
   "metadata": {
    "nteract": {
     "transient": {
      "deleting": false
     }
    },
    "tags": []
   },
   "outputs": [
    {
     "data": {
      "application/vnd.microsoft.datawrangler.viewer.v0+json": {
       "columns": [
        {
         "name": "country",
         "rawType": "object",
         "type": "string"
        },
        {
         "name": "gdpPercap_1957",
         "rawType": "float64",
         "type": "float"
        }
       ],
       "ref": "b456910a-c04c-4c5e-a9ae-37db3019910d",
       "rows": [
        [
         "Albania",
         "1942.284244"
        ],
        [
         "Austria",
         "8842.59803"
        ],
        [
         "Belgium",
         "9714.960623"
        ],
        [
         "Bosnia and Herzegovina",
         "1353.989176"
        ],
        [
         "Bulgaria",
         "3008.670727"
        ],
        [
         "Croatia",
         "4338.231617"
        ],
        [
         "Czech Republic",
         "8256.343918"
        ],
        [
         "Denmark",
         "11099.65935"
        ],
        [
         "Finland",
         "7545.415386"
        ],
        [
         "France",
         "8662.834898"
        ],
        [
         "Germany",
         "10187.82665"
        ],
        [
         "Greece",
         "4916.299889"
        ],
        [
         "Hungary",
         "6040.180011"
        ],
        [
         "Iceland",
         "9244.001412"
        ],
        [
         "Ireland",
         "5599.077872"
        ],
        [
         "Italy",
         "6248.656232"
        ],
        [
         "Montenegro",
         "3682.259903"
        ],
        [
         "Netherlands",
         "11276.19344"
        ],
        [
         "Norway",
         "11653.97304"
        ],
        [
         "Poland",
         "4734.253019"
        ],
        [
         "Portugal",
         "3774.571743"
        ],
        [
         "Romania",
         "3943.370225"
        ],
        [
         "Serbia",
         "4981.090891"
        ],
        [
         "Slovak Republic",
         "6093.26298"
        ],
        [
         "Slovenia",
         "5862.276629"
        ],
        [
         "Spain",
         "4564.80241"
        ],
        [
         "Sweden",
         "9911.878226"
        ],
        [
         "Switzerland",
         "17909.48973"
        ],
        [
         "Turkey",
         "2218.754257"
        ],
        [
         "United Kingdom",
         "11283.17795"
        ]
       ],
       "shape": {
        "columns": 1,
        "rows": 30
       }
      },
      "text/plain": [
       "country\n",
       "Albania                    1942.284244\n",
       "Austria                    8842.598030\n",
       "Belgium                    9714.960623\n",
       "Bosnia and Herzegovina     1353.989176\n",
       "Bulgaria                   3008.670727\n",
       "Croatia                    4338.231617\n",
       "Czech Republic             8256.343918\n",
       "Denmark                   11099.659350\n",
       "Finland                    7545.415386\n",
       "France                     8662.834898\n",
       "Germany                   10187.826650\n",
       "Greece                     4916.299889\n",
       "Hungary                    6040.180011\n",
       "Iceland                    9244.001412\n",
       "Ireland                    5599.077872\n",
       "Italy                      6248.656232\n",
       "Montenegro                 3682.259903\n",
       "Netherlands               11276.193440\n",
       "Norway                    11653.973040\n",
       "Poland                     4734.253019\n",
       "Portugal                   3774.571743\n",
       "Romania                    3943.370225\n",
       "Serbia                     4981.090891\n",
       "Slovak Republic            6093.262980\n",
       "Slovenia                   5862.276629\n",
       "Spain                      4564.802410\n",
       "Sweden                     9911.878226\n",
       "Switzerland               17909.489730\n",
       "Turkey                     2218.754257\n",
       "United Kingdom            11283.177950\n",
       "Name: gdpPercap_1957, dtype: float64"
      ]
     },
     "execution_count": 13,
     "metadata": {},
     "output_type": "execute_result"
    }
   ],
   "source": [
    "df.loc[:, 'gdpPercap_1957']"
   ]
  },
  {
   "cell_type": "markdown",
   "id": "a7f8b81a",
   "metadata": {},
   "source": [
    "You can also just specify the row index; if you don't specify anything for the columns, pandas assumes you want all columns:\n",
    "\n",
    "~~~python\n",
    "df.loc[\"Albania\"]\n",
    "~~~"
   ]
  },
  {
   "cell_type": "code",
   "execution_count": 14,
   "id": "7f566a08",
   "metadata": {},
   "outputs": [
    {
     "data": {
      "application/vnd.microsoft.datawrangler.viewer.v0+json": {
       "columns": [
        {
         "name": "index",
         "rawType": "object",
         "type": "string"
        },
        {
         "name": "Albania",
         "rawType": "float64",
         "type": "float"
        }
       ],
       "ref": "39a3a333-f5fe-4289-a28c-d05c6d39f06a",
       "rows": [
        [
         "gdpPercap_1952",
         "1601.056136"
        ],
        [
         "gdpPercap_1957",
         "1942.284244"
        ],
        [
         "gdpPercap_1962",
         "2312.888958"
        ],
        [
         "gdpPercap_1967",
         "2760.196931"
        ],
        [
         "gdpPercap_1972",
         "3313.422188"
        ],
        [
         "gdpPercap_1977",
         "3533.00391"
        ],
        [
         "gdpPercap_1982",
         "3630.880722"
        ],
        [
         "gdpPercap_1987",
         "3738.932735"
        ],
        [
         "gdpPercap_1992",
         "2497.437901"
        ],
        [
         "gdpPercap_1997",
         "3193.054604"
        ],
        [
         "gdpPercap_2002",
         "4604.211737"
        ],
        [
         "gdpPercap_2007",
         "5937.029526"
        ]
       ],
       "shape": {
        "columns": 1,
        "rows": 12
       }
      },
      "text/plain": [
       "gdpPercap_1952    1601.056136\n",
       "gdpPercap_1957    1942.284244\n",
       "gdpPercap_1962    2312.888958\n",
       "gdpPercap_1967    2760.196931\n",
       "gdpPercap_1972    3313.422188\n",
       "gdpPercap_1977    3533.003910\n",
       "gdpPercap_1982    3630.880722\n",
       "gdpPercap_1987    3738.932735\n",
       "gdpPercap_1992    2497.437901\n",
       "gdpPercap_1997    3193.054604\n",
       "gdpPercap_2002    4604.211737\n",
       "gdpPercap_2007    5937.029526\n",
       "Name: Albania, dtype: float64"
      ]
     },
     "execution_count": 14,
     "metadata": {},
     "output_type": "execute_result"
    }
   ],
   "source": [
    "df.loc['Albania']"
   ]
  },
  {
   "cell_type": "markdown",
   "id": "78f636c3",
   "metadata": {},
   "source": [
    "However, since the syntax for `.iloc[]` and `.loc[]` is [rows, columns], you cannot omit a row index; you need to use `:` if you want all rows."
   ]
  },
  {
   "cell_type": "markdown",
   "id": "a871efab",
   "metadata": {},
   "source": [
    "## Slicing works on DataFrames\n",
    "\n",
    "Slicing using numerical indices works similarly for DataFrames as we previously saw for strings and lists, for example, the following code will print the third through fifth rows of the DataFrame, and the fifth through eighth columns (remember, Python indexing starts at 0, and slicing does not include the \"end\" index): \n",
    "\n",
    "~~~python\n",
    "df.iloc[2:5, 4:8]\n",
    "~~~"
   ]
  },
  {
   "cell_type": "code",
   "execution_count": 15,
   "id": "ee25b611",
   "metadata": {},
   "outputs": [
    {
     "data": {
      "application/vnd.microsoft.datawrangler.viewer.v0+json": {
       "columns": [
        {
         "name": "country",
         "rawType": "object",
         "type": "string"
        },
        {
         "name": "gdpPercap_1972",
         "rawType": "float64",
         "type": "float"
        },
        {
         "name": "gdpPercap_1977",
         "rawType": "float64",
         "type": "float"
        },
        {
         "name": "gdpPercap_1982",
         "rawType": "float64",
         "type": "float"
        },
        {
         "name": "gdpPercap_1987",
         "rawType": "float64",
         "type": "float"
        }
       ],
       "ref": "b9646431-a6f2-4e30-96ec-d5251127f4fc",
       "rows": [
        [
         "Belgium",
         "16672.14356",
         "19117.97448",
         "20979.84589",
         "22525.56308"
        ],
        [
         "Bosnia and Herzegovina",
         "2860.16975",
         "3528.481305",
         "4126.613157",
         "4314.114757"
        ],
        [
         "Bulgaria",
         "6597.494398",
         "7612.240438",
         "8224.191647",
         "8239.854824"
        ]
       ],
       "shape": {
        "columns": 4,
        "rows": 3
       }
      },
      "text/html": [
       "<div>\n",
       "<style scoped>\n",
       "    .dataframe tbody tr th:only-of-type {\n",
       "        vertical-align: middle;\n",
       "    }\n",
       "\n",
       "    .dataframe tbody tr th {\n",
       "        vertical-align: top;\n",
       "    }\n",
       "\n",
       "    .dataframe thead th {\n",
       "        text-align: right;\n",
       "    }\n",
       "</style>\n",
       "<table border=\"1\" class=\"dataframe\">\n",
       "  <thead>\n",
       "    <tr style=\"text-align: right;\">\n",
       "      <th></th>\n",
       "      <th>gdpPercap_1972</th>\n",
       "      <th>gdpPercap_1977</th>\n",
       "      <th>gdpPercap_1982</th>\n",
       "      <th>gdpPercap_1987</th>\n",
       "    </tr>\n",
       "    <tr>\n",
       "      <th>country</th>\n",
       "      <th></th>\n",
       "      <th></th>\n",
       "      <th></th>\n",
       "      <th></th>\n",
       "    </tr>\n",
       "  </thead>\n",
       "  <tbody>\n",
       "    <tr>\n",
       "      <th>Belgium</th>\n",
       "      <td>16672.143560</td>\n",
       "      <td>19117.974480</td>\n",
       "      <td>20979.845890</td>\n",
       "      <td>22525.563080</td>\n",
       "    </tr>\n",
       "    <tr>\n",
       "      <th>Bosnia and Herzegovina</th>\n",
       "      <td>2860.169750</td>\n",
       "      <td>3528.481305</td>\n",
       "      <td>4126.613157</td>\n",
       "      <td>4314.114757</td>\n",
       "    </tr>\n",
       "    <tr>\n",
       "      <th>Bulgaria</th>\n",
       "      <td>6597.494398</td>\n",
       "      <td>7612.240438</td>\n",
       "      <td>8224.191647</td>\n",
       "      <td>8239.854824</td>\n",
       "    </tr>\n",
       "  </tbody>\n",
       "</table>\n",
       "</div>"
      ],
      "text/plain": [
       "                        gdpPercap_1972  gdpPercap_1977  gdpPercap_1982  \\\n",
       "country                                                                  \n",
       "Belgium                   16672.143560    19117.974480    20979.845890   \n",
       "Bosnia and Herzegovina     2860.169750     3528.481305     4126.613157   \n",
       "Bulgaria                   6597.494398     7612.240438     8224.191647   \n",
       "\n",
       "                        gdpPercap_1987  \n",
       "country                                 \n",
       "Belgium                   22525.563080  \n",
       "Bosnia and Herzegovina     4314.114757  \n",
       "Bulgaria                   8239.854824  "
      ]
     },
     "execution_count": 15,
     "metadata": {},
     "output_type": "execute_result"
    }
   ],
   "source": [
    "df.iloc[2:5, 4:8]"
   ]
  },
  {
   "cell_type": "markdown",
   "id": "488e8bad",
   "metadata": {},
   "source": [
    "The code below will print from the sixth to second-last row of the DataFrame, and from the ninth to the last column:\n",
    "\n",
    "~~~python\n",
    "df.iloc[5:-1, 8:]\n",
    "~~~"
   ]
  },
  {
   "cell_type": "code",
   "execution_count": 16,
   "id": "87a0a875",
   "metadata": {},
   "outputs": [
    {
     "data": {
      "application/vnd.microsoft.datawrangler.viewer.v0+json": {
       "columns": [
        {
         "name": "country",
         "rawType": "object",
         "type": "string"
        },
        {
         "name": "gdpPercap_1992",
         "rawType": "float64",
         "type": "float"
        },
        {
         "name": "gdpPercap_1997",
         "rawType": "float64",
         "type": "float"
        },
        {
         "name": "gdpPercap_2002",
         "rawType": "float64",
         "type": "float"
        },
        {
         "name": "gdpPercap_2007",
         "rawType": "float64",
         "type": "float"
        }
       ],
       "ref": "5fba470e-da24-402f-a63f-0f43b9b9de64",
       "rows": [
        [
         "Croatia",
         "8447.794873",
         "9875.604515",
         "11628.38895",
         "14619.22272"
        ],
        [
         "Czech Republic",
         "14297.02122",
         "16048.51424",
         "17596.21022",
         "22833.30851"
        ],
        [
         "Denmark",
         "26406.73985",
         "29804.34567",
         "32166.50006",
         "35278.41874"
        ],
        [
         "Finland",
         "20647.16499",
         "23723.9502",
         "28204.59057",
         "33207.0844"
        ],
        [
         "France",
         "24703.79615",
         "25889.78487",
         "28926.03234",
         "30470.0167"
        ],
        [
         "Germany",
         "26505.30317",
         "27788.88416",
         "30035.80198",
         "32170.37442"
        ],
        [
         "Greece",
         "17541.49634",
         "18747.69814",
         "22514.2548",
         "27538.41188"
        ],
        [
         "Hungary",
         "10535.62855",
         "11712.7768",
         "14843.93556",
         "18008.94444"
        ],
        [
         "Iceland",
         "25144.39201",
         "28061.09966",
         "31163.20196",
         "36180.78919"
        ],
        [
         "Ireland",
         "17558.81555",
         "24521.94713",
         "34077.04939",
         "40675.99635"
        ],
        [
         "Italy",
         "22013.64486",
         "24675.02446",
         "27968.09817",
         "28569.7197"
        ],
        [
         "Montenegro",
         "7003.339037",
         "6465.613349",
         "6557.194282",
         "9253.896111"
        ],
        [
         "Netherlands",
         "26790.94961",
         "30246.13063",
         "33724.75778",
         "36797.93332"
        ],
        [
         "Norway",
         "33965.66115",
         "41283.16433",
         "44683.97525",
         "49357.19017"
        ],
        [
         "Poland",
         "7738.881247",
         "10159.58368",
         "12002.23908",
         "15389.92468"
        ],
        [
         "Portugal",
         "16207.26663",
         "17641.03156",
         "19970.90787",
         "20509.64777"
        ],
        [
         "Romania",
         "6598.409903",
         "7346.547557",
         "7885.360081",
         "10808.47561"
        ],
        [
         "Serbia",
         "9325.068238",
         "7914.320304",
         "7236.075251",
         "9786.534714"
        ],
        [
         "Slovak Republic",
         "9498.467723",
         "12126.23065",
         "13638.77837",
         "18678.31435"
        ],
        [
         "Slovenia",
         "14214.71681",
         "17161.10735",
         "20660.01936",
         "25768.25759"
        ],
        [
         "Spain",
         "18603.06452",
         "20445.29896",
         "24835.47166",
         "28821.0637"
        ],
        [
         "Sweden",
         "23880.01683",
         "25266.59499",
         "29341.63093",
         "33859.74835"
        ],
        [
         "Switzerland",
         "31871.5303",
         "32135.32301",
         "34480.95771",
         "37506.41907"
        ],
        [
         "Turkey",
         "5678.348271",
         "6601.429915",
         "6508.085718",
         "8458.276384"
        ]
       ],
       "shape": {
        "columns": 4,
        "rows": 24
       }
      },
      "text/html": [
       "<div>\n",
       "<style scoped>\n",
       "    .dataframe tbody tr th:only-of-type {\n",
       "        vertical-align: middle;\n",
       "    }\n",
       "\n",
       "    .dataframe tbody tr th {\n",
       "        vertical-align: top;\n",
       "    }\n",
       "\n",
       "    .dataframe thead th {\n",
       "        text-align: right;\n",
       "    }\n",
       "</style>\n",
       "<table border=\"1\" class=\"dataframe\">\n",
       "  <thead>\n",
       "    <tr style=\"text-align: right;\">\n",
       "      <th></th>\n",
       "      <th>gdpPercap_1992</th>\n",
       "      <th>gdpPercap_1997</th>\n",
       "      <th>gdpPercap_2002</th>\n",
       "      <th>gdpPercap_2007</th>\n",
       "    </tr>\n",
       "    <tr>\n",
       "      <th>country</th>\n",
       "      <th></th>\n",
       "      <th></th>\n",
       "      <th></th>\n",
       "      <th></th>\n",
       "    </tr>\n",
       "  </thead>\n",
       "  <tbody>\n",
       "    <tr>\n",
       "      <th>Croatia</th>\n",
       "      <td>8447.794873</td>\n",
       "      <td>9875.604515</td>\n",
       "      <td>11628.388950</td>\n",
       "      <td>14619.222720</td>\n",
       "    </tr>\n",
       "    <tr>\n",
       "      <th>Czech Republic</th>\n",
       "      <td>14297.021220</td>\n",
       "      <td>16048.514240</td>\n",
       "      <td>17596.210220</td>\n",
       "      <td>22833.308510</td>\n",
       "    </tr>\n",
       "    <tr>\n",
       "      <th>Denmark</th>\n",
       "      <td>26406.739850</td>\n",
       "      <td>29804.345670</td>\n",
       "      <td>32166.500060</td>\n",
       "      <td>35278.418740</td>\n",
       "    </tr>\n",
       "    <tr>\n",
       "      <th>Finland</th>\n",
       "      <td>20647.164990</td>\n",
       "      <td>23723.950200</td>\n",
       "      <td>28204.590570</td>\n",
       "      <td>33207.084400</td>\n",
       "    </tr>\n",
       "    <tr>\n",
       "      <th>France</th>\n",
       "      <td>24703.796150</td>\n",
       "      <td>25889.784870</td>\n",
       "      <td>28926.032340</td>\n",
       "      <td>30470.016700</td>\n",
       "    </tr>\n",
       "    <tr>\n",
       "      <th>Germany</th>\n",
       "      <td>26505.303170</td>\n",
       "      <td>27788.884160</td>\n",
       "      <td>30035.801980</td>\n",
       "      <td>32170.374420</td>\n",
       "    </tr>\n",
       "    <tr>\n",
       "      <th>Greece</th>\n",
       "      <td>17541.496340</td>\n",
       "      <td>18747.698140</td>\n",
       "      <td>22514.254800</td>\n",
       "      <td>27538.411880</td>\n",
       "    </tr>\n",
       "    <tr>\n",
       "      <th>Hungary</th>\n",
       "      <td>10535.628550</td>\n",
       "      <td>11712.776800</td>\n",
       "      <td>14843.935560</td>\n",
       "      <td>18008.944440</td>\n",
       "    </tr>\n",
       "    <tr>\n",
       "      <th>Iceland</th>\n",
       "      <td>25144.392010</td>\n",
       "      <td>28061.099660</td>\n",
       "      <td>31163.201960</td>\n",
       "      <td>36180.789190</td>\n",
       "    </tr>\n",
       "    <tr>\n",
       "      <th>Ireland</th>\n",
       "      <td>17558.815550</td>\n",
       "      <td>24521.947130</td>\n",
       "      <td>34077.049390</td>\n",
       "      <td>40675.996350</td>\n",
       "    </tr>\n",
       "    <tr>\n",
       "      <th>Italy</th>\n",
       "      <td>22013.644860</td>\n",
       "      <td>24675.024460</td>\n",
       "      <td>27968.098170</td>\n",
       "      <td>28569.719700</td>\n",
       "    </tr>\n",
       "    <tr>\n",
       "      <th>Montenegro</th>\n",
       "      <td>7003.339037</td>\n",
       "      <td>6465.613349</td>\n",
       "      <td>6557.194282</td>\n",
       "      <td>9253.896111</td>\n",
       "    </tr>\n",
       "    <tr>\n",
       "      <th>Netherlands</th>\n",
       "      <td>26790.949610</td>\n",
       "      <td>30246.130630</td>\n",
       "      <td>33724.757780</td>\n",
       "      <td>36797.933320</td>\n",
       "    </tr>\n",
       "    <tr>\n",
       "      <th>Norway</th>\n",
       "      <td>33965.661150</td>\n",
       "      <td>41283.164330</td>\n",
       "      <td>44683.975250</td>\n",
       "      <td>49357.190170</td>\n",
       "    </tr>\n",
       "    <tr>\n",
       "      <th>Poland</th>\n",
       "      <td>7738.881247</td>\n",
       "      <td>10159.583680</td>\n",
       "      <td>12002.239080</td>\n",
       "      <td>15389.924680</td>\n",
       "    </tr>\n",
       "    <tr>\n",
       "      <th>Portugal</th>\n",
       "      <td>16207.266630</td>\n",
       "      <td>17641.031560</td>\n",
       "      <td>19970.907870</td>\n",
       "      <td>20509.647770</td>\n",
       "    </tr>\n",
       "    <tr>\n",
       "      <th>Romania</th>\n",
       "      <td>6598.409903</td>\n",
       "      <td>7346.547557</td>\n",
       "      <td>7885.360081</td>\n",
       "      <td>10808.475610</td>\n",
       "    </tr>\n",
       "    <tr>\n",
       "      <th>Serbia</th>\n",
       "      <td>9325.068238</td>\n",
       "      <td>7914.320304</td>\n",
       "      <td>7236.075251</td>\n",
       "      <td>9786.534714</td>\n",
       "    </tr>\n",
       "    <tr>\n",
       "      <th>Slovak Republic</th>\n",
       "      <td>9498.467723</td>\n",
       "      <td>12126.230650</td>\n",
       "      <td>13638.778370</td>\n",
       "      <td>18678.314350</td>\n",
       "    </tr>\n",
       "    <tr>\n",
       "      <th>Slovenia</th>\n",
       "      <td>14214.716810</td>\n",
       "      <td>17161.107350</td>\n",
       "      <td>20660.019360</td>\n",
       "      <td>25768.257590</td>\n",
       "    </tr>\n",
       "    <tr>\n",
       "      <th>Spain</th>\n",
       "      <td>18603.064520</td>\n",
       "      <td>20445.298960</td>\n",
       "      <td>24835.471660</td>\n",
       "      <td>28821.063700</td>\n",
       "    </tr>\n",
       "    <tr>\n",
       "      <th>Sweden</th>\n",
       "      <td>23880.016830</td>\n",
       "      <td>25266.594990</td>\n",
       "      <td>29341.630930</td>\n",
       "      <td>33859.748350</td>\n",
       "    </tr>\n",
       "    <tr>\n",
       "      <th>Switzerland</th>\n",
       "      <td>31871.530300</td>\n",
       "      <td>32135.323010</td>\n",
       "      <td>34480.957710</td>\n",
       "      <td>37506.419070</td>\n",
       "    </tr>\n",
       "    <tr>\n",
       "      <th>Turkey</th>\n",
       "      <td>5678.348271</td>\n",
       "      <td>6601.429915</td>\n",
       "      <td>6508.085718</td>\n",
       "      <td>8458.276384</td>\n",
       "    </tr>\n",
       "  </tbody>\n",
       "</table>\n",
       "</div>"
      ],
      "text/plain": [
       "                 gdpPercap_1992  gdpPercap_1997  gdpPercap_2002  \\\n",
       "country                                                           \n",
       "Croatia             8447.794873     9875.604515    11628.388950   \n",
       "Czech Republic     14297.021220    16048.514240    17596.210220   \n",
       "Denmark            26406.739850    29804.345670    32166.500060   \n",
       "Finland            20647.164990    23723.950200    28204.590570   \n",
       "France             24703.796150    25889.784870    28926.032340   \n",
       "Germany            26505.303170    27788.884160    30035.801980   \n",
       "Greece             17541.496340    18747.698140    22514.254800   \n",
       "Hungary            10535.628550    11712.776800    14843.935560   \n",
       "Iceland            25144.392010    28061.099660    31163.201960   \n",
       "Ireland            17558.815550    24521.947130    34077.049390   \n",
       "Italy              22013.644860    24675.024460    27968.098170   \n",
       "Montenegro          7003.339037     6465.613349     6557.194282   \n",
       "Netherlands        26790.949610    30246.130630    33724.757780   \n",
       "Norway             33965.661150    41283.164330    44683.975250   \n",
       "Poland              7738.881247    10159.583680    12002.239080   \n",
       "Portugal           16207.266630    17641.031560    19970.907870   \n",
       "Romania             6598.409903     7346.547557     7885.360081   \n",
       "Serbia              9325.068238     7914.320304     7236.075251   \n",
       "Slovak Republic     9498.467723    12126.230650    13638.778370   \n",
       "Slovenia           14214.716810    17161.107350    20660.019360   \n",
       "Spain              18603.064520    20445.298960    24835.471660   \n",
       "Sweden             23880.016830    25266.594990    29341.630930   \n",
       "Switzerland        31871.530300    32135.323010    34480.957710   \n",
       "Turkey              5678.348271     6601.429915     6508.085718   \n",
       "\n",
       "                 gdpPercap_2007  \n",
       "country                          \n",
       "Croatia            14619.222720  \n",
       "Czech Republic     22833.308510  \n",
       "Denmark            35278.418740  \n",
       "Finland            33207.084400  \n",
       "France             30470.016700  \n",
       "Germany            32170.374420  \n",
       "Greece             27538.411880  \n",
       "Hungary            18008.944440  \n",
       "Iceland            36180.789190  \n",
       "Ireland            40675.996350  \n",
       "Italy              28569.719700  \n",
       "Montenegro          9253.896111  \n",
       "Netherlands        36797.933320  \n",
       "Norway             49357.190170  \n",
       "Poland             15389.924680  \n",
       "Portugal           20509.647770  \n",
       "Romania            10808.475610  \n",
       "Serbia              9786.534714  \n",
       "Slovak Republic    18678.314350  \n",
       "Slovenia           25768.257590  \n",
       "Spain              28821.063700  \n",
       "Sweden             33859.748350  \n",
       "Switzerland        37506.419070  \n",
       "Turkey              8458.276384  "
      ]
     },
     "execution_count": 16,
     "metadata": {},
     "output_type": "execute_result"
    }
   ],
   "source": [
    "df.iloc[5:-1, 8:]"
   ]
  },
  {
   "cell_type": "markdown",
   "id": "21fc0282",
   "metadata": {},
   "source": [
    "**Note** however, that when using label-based indexing with `.loc[]`, pandas' slicing behaviour is a bit different. Specifically, the output *includes* the last item in the range, whereas numerical indexing with `.iloc[]` does not. \n",
    "\n",
    "So, considering that the first three rows of the DataFrame correspond to the countries Albania, Austria, and Belgium, and that columns 6 and 7 are for the years 1982 and 1987 respectively, compare the output of:\n",
    "\n",
    "~~~python\n",
    "df.iloc[0:2, 6:7]\n",
    "~~~"
   ]
  },
  {
   "cell_type": "code",
   "execution_count": 17,
   "id": "3cf0509c",
   "metadata": {},
   "outputs": [
    {
     "data": {
      "application/vnd.microsoft.datawrangler.viewer.v0+json": {
       "columns": [
        {
         "name": "country",
         "rawType": "object",
         "type": "string"
        },
        {
         "name": "gdpPercap_1982",
         "rawType": "float64",
         "type": "float"
        }
       ],
       "ref": "23d57d51-0513-4f4a-b682-9414f2af29ce",
       "rows": [
        [
         "Albania",
         "3630.880722"
        ],
        [
         "Austria",
         "21597.08362"
        ]
       ],
       "shape": {
        "columns": 1,
        "rows": 2
       }
      },
      "text/html": [
       "<div>\n",
       "<style scoped>\n",
       "    .dataframe tbody tr th:only-of-type {\n",
       "        vertical-align: middle;\n",
       "    }\n",
       "\n",
       "    .dataframe tbody tr th {\n",
       "        vertical-align: top;\n",
       "    }\n",
       "\n",
       "    .dataframe thead th {\n",
       "        text-align: right;\n",
       "    }\n",
       "</style>\n",
       "<table border=\"1\" class=\"dataframe\">\n",
       "  <thead>\n",
       "    <tr style=\"text-align: right;\">\n",
       "      <th></th>\n",
       "      <th>gdpPercap_1982</th>\n",
       "    </tr>\n",
       "    <tr>\n",
       "      <th>country</th>\n",
       "      <th></th>\n",
       "    </tr>\n",
       "  </thead>\n",
       "  <tbody>\n",
       "    <tr>\n",
       "      <th>Albania</th>\n",
       "      <td>3630.880722</td>\n",
       "    </tr>\n",
       "    <tr>\n",
       "      <th>Austria</th>\n",
       "      <td>21597.083620</td>\n",
       "    </tr>\n",
       "  </tbody>\n",
       "</table>\n",
       "</div>"
      ],
      "text/plain": [
       "         gdpPercap_1982\n",
       "country                \n",
       "Albania     3630.880722\n",
       "Austria    21597.083620"
      ]
     },
     "execution_count": 17,
     "metadata": {},
     "output_type": "execute_result"
    }
   ],
   "source": [
    "df.iloc[0:2, 6:7]"
   ]
  },
  {
   "cell_type": "markdown",
   "id": "7053eebe",
   "metadata": {},
   "source": [
    "with:\n",
    "\n",
    "~~~python\n",
    "df.loc['Albania':'Belgium', 'gdpPercap_1982':'gdpPercap_1988']\n",
    "~~~"
   ]
  },
  {
   "cell_type": "code",
   "execution_count": 18,
   "id": "710c6adc",
   "metadata": {},
   "outputs": [
    {
     "data": {
      "application/vnd.microsoft.datawrangler.viewer.v0+json": {
       "columns": [
        {
         "name": "country",
         "rawType": "object",
         "type": "string"
        },
        {
         "name": "gdpPercap_1982",
         "rawType": "float64",
         "type": "float"
        },
        {
         "name": "gdpPercap_1987",
         "rawType": "float64",
         "type": "float"
        }
       ],
       "ref": "5b994492-aab4-4e27-8676-a142e086cf82",
       "rows": [
        [
         "Albania",
         "3630.880722",
         "3738.932735"
        ],
        [
         "Austria",
         "21597.08362",
         "23687.82607"
        ],
        [
         "Belgium",
         "20979.84589",
         "22525.56308"
        ]
       ],
       "shape": {
        "columns": 2,
        "rows": 3
       }
      },
      "text/html": [
       "<div>\n",
       "<style scoped>\n",
       "    .dataframe tbody tr th:only-of-type {\n",
       "        vertical-align: middle;\n",
       "    }\n",
       "\n",
       "    .dataframe tbody tr th {\n",
       "        vertical-align: top;\n",
       "    }\n",
       "\n",
       "    .dataframe thead th {\n",
       "        text-align: right;\n",
       "    }\n",
       "</style>\n",
       "<table border=\"1\" class=\"dataframe\">\n",
       "  <thead>\n",
       "    <tr style=\"text-align: right;\">\n",
       "      <th></th>\n",
       "      <th>gdpPercap_1982</th>\n",
       "      <th>gdpPercap_1987</th>\n",
       "    </tr>\n",
       "    <tr>\n",
       "      <th>country</th>\n",
       "      <th></th>\n",
       "      <th></th>\n",
       "    </tr>\n",
       "  </thead>\n",
       "  <tbody>\n",
       "    <tr>\n",
       "      <th>Albania</th>\n",
       "      <td>3630.880722</td>\n",
       "      <td>3738.932735</td>\n",
       "    </tr>\n",
       "    <tr>\n",
       "      <th>Austria</th>\n",
       "      <td>21597.083620</td>\n",
       "      <td>23687.826070</td>\n",
       "    </tr>\n",
       "    <tr>\n",
       "      <th>Belgium</th>\n",
       "      <td>20979.845890</td>\n",
       "      <td>22525.563080</td>\n",
       "    </tr>\n",
       "  </tbody>\n",
       "</table>\n",
       "</div>"
      ],
      "text/plain": [
       "         gdpPercap_1982  gdpPercap_1987\n",
       "country                                \n",
       "Albania     3630.880722     3738.932735\n",
       "Austria    21597.083620    23687.826070\n",
       "Belgium    20979.845890    22525.563080"
      ]
     },
     "execution_count": 18,
     "metadata": {},
     "output_type": "execute_result"
    }
   ],
   "source": [
    "df.loc['Albania':'Belgium', 'gdpPercap_1982':'gdpPercap_1988']"
   ]
  },
  {
   "cell_type": "markdown",
   "id": "189f599d",
   "metadata": {},
   "source": [
    "The \"inclusive\" label-based indexing with `.loc[]` is fairly intuitive, but it's important to remember that it works differently from numerical indexing."
   ]
  },
  {
   "cell_type": "markdown",
   "id": "d0736538",
   "metadata": {},
   "source": [
    "## Use lists to select non-contiguous sections of a DataFrame\n",
    "\n",
    "While slicing can be very useful, sometimes we might want to extract values that aren't next to each other in a DataFrame. For example, what if we only want values from two specific years (1992 and 2002), for Scandinavian countries (Denmark, Finland, Norway, and Sweden)? Neither these years nor countries are in adjacent columns/rows in the DataFrame. With `.loc[]`, we can use lists, rather than ranges separated by `:`, as selectors:\n",
    "\n",
    "~~~python\n",
    "df.loc[['Denmark', 'Finland', 'Norway', 'Sweden'], ['gdpPercap_1992', 'gdpPercap_2002']]\n",
    "~~~"
   ]
  },
  {
   "cell_type": "code",
   "execution_count": 19,
   "id": "1f9d389a",
   "metadata": {},
   "outputs": [
    {
     "data": {
      "application/vnd.microsoft.datawrangler.viewer.v0+json": {
       "columns": [
        {
         "name": "country",
         "rawType": "object",
         "type": "string"
        },
        {
         "name": "gdpPercap_1992",
         "rawType": "float64",
         "type": "float"
        },
        {
         "name": "gdpPercap_2002",
         "rawType": "float64",
         "type": "float"
        }
       ],
       "ref": "a2fc2e5f-4755-474d-ba5e-ae0f82fcddd3",
       "rows": [
        [
         "Denmark",
         "26406.73985",
         "32166.50006"
        ],
        [
         "Finland",
         "20647.16499",
         "28204.59057"
        ],
        [
         "Norway",
         "33965.66115",
         "44683.97525"
        ],
        [
         "Sweden",
         "23880.01683",
         "29341.63093"
        ]
       ],
       "shape": {
        "columns": 2,
        "rows": 4
       }
      },
      "text/html": [
       "<div>\n",
       "<style scoped>\n",
       "    .dataframe tbody tr th:only-of-type {\n",
       "        vertical-align: middle;\n",
       "    }\n",
       "\n",
       "    .dataframe tbody tr th {\n",
       "        vertical-align: top;\n",
       "    }\n",
       "\n",
       "    .dataframe thead th {\n",
       "        text-align: right;\n",
       "    }\n",
       "</style>\n",
       "<table border=\"1\" class=\"dataframe\">\n",
       "  <thead>\n",
       "    <tr style=\"text-align: right;\">\n",
       "      <th></th>\n",
       "      <th>gdpPercap_1992</th>\n",
       "      <th>gdpPercap_2002</th>\n",
       "    </tr>\n",
       "    <tr>\n",
       "      <th>country</th>\n",
       "      <th></th>\n",
       "      <th></th>\n",
       "    </tr>\n",
       "  </thead>\n",
       "  <tbody>\n",
       "    <tr>\n",
       "      <th>Denmark</th>\n",
       "      <td>26406.73985</td>\n",
       "      <td>32166.50006</td>\n",
       "    </tr>\n",
       "    <tr>\n",
       "      <th>Finland</th>\n",
       "      <td>20647.16499</td>\n",
       "      <td>28204.59057</td>\n",
       "    </tr>\n",
       "    <tr>\n",
       "      <th>Norway</th>\n",
       "      <td>33965.66115</td>\n",
       "      <td>44683.97525</td>\n",
       "    </tr>\n",
       "    <tr>\n",
       "      <th>Sweden</th>\n",
       "      <td>23880.01683</td>\n",
       "      <td>29341.63093</td>\n",
       "    </tr>\n",
       "  </tbody>\n",
       "</table>\n",
       "</div>"
      ],
      "text/plain": [
       "         gdpPercap_1992  gdpPercap_2002\n",
       "country                                \n",
       "Denmark     26406.73985     32166.50006\n",
       "Finland     20647.16499     28204.59057\n",
       "Norway      33965.66115     44683.97525\n",
       "Sweden      23880.01683     29341.63093"
      ]
     },
     "execution_count": 19,
     "metadata": {},
     "output_type": "execute_result"
    }
   ],
   "source": [
    "df.loc[['Denmark', 'Finland', 'Norway', 'Sweden'], ['gdpPercap_1992', 'gdpPercap_2002']]"
   ]
  },
  {
   "cell_type": "markdown",
   "id": "bfe33529",
   "metadata": {},
   "source": [
    "We can equivalently write the command over several lines to make it a bit easier to read:\n",
    "\n",
    "~~~python\n",
    "df.loc[['Denmark', 'Finland', 'Norway', 'Sweden'], \n",
    "       ['gdpPercap_1992', 'gdpPercap_2002']\n",
    "      ]\n",
    "~~~"
   ]
  },
  {
   "cell_type": "code",
   "execution_count": 20,
   "id": "cfbfa659",
   "metadata": {},
   "outputs": [
    {
     "data": {
      "application/vnd.microsoft.datawrangler.viewer.v0+json": {
       "columns": [
        {
         "name": "country",
         "rawType": "object",
         "type": "string"
        },
        {
         "name": "gdpPercap_1992",
         "rawType": "float64",
         "type": "float"
        },
        {
         "name": "gdpPercap_2002",
         "rawType": "float64",
         "type": "float"
        }
       ],
       "ref": "056a7d7f-2e22-4ed0-8f76-2c71ba66dbc0",
       "rows": [
        [
         "Denmark",
         "26406.73985",
         "32166.50006"
        ],
        [
         "Finland",
         "20647.16499",
         "28204.59057"
        ],
        [
         "Norway",
         "33965.66115",
         "44683.97525"
        ],
        [
         "Sweden",
         "23880.01683",
         "29341.63093"
        ]
       ],
       "shape": {
        "columns": 2,
        "rows": 4
       }
      },
      "text/html": [
       "<div>\n",
       "<style scoped>\n",
       "    .dataframe tbody tr th:only-of-type {\n",
       "        vertical-align: middle;\n",
       "    }\n",
       "\n",
       "    .dataframe tbody tr th {\n",
       "        vertical-align: top;\n",
       "    }\n",
       "\n",
       "    .dataframe thead th {\n",
       "        text-align: right;\n",
       "    }\n",
       "</style>\n",
       "<table border=\"1\" class=\"dataframe\">\n",
       "  <thead>\n",
       "    <tr style=\"text-align: right;\">\n",
       "      <th></th>\n",
       "      <th>gdpPercap_1992</th>\n",
       "      <th>gdpPercap_2002</th>\n",
       "    </tr>\n",
       "    <tr>\n",
       "      <th>country</th>\n",
       "      <th></th>\n",
       "      <th></th>\n",
       "    </tr>\n",
       "  </thead>\n",
       "  <tbody>\n",
       "    <tr>\n",
       "      <th>Denmark</th>\n",
       "      <td>26406.73985</td>\n",
       "      <td>32166.50006</td>\n",
       "    </tr>\n",
       "    <tr>\n",
       "      <th>Finland</th>\n",
       "      <td>20647.16499</td>\n",
       "      <td>28204.59057</td>\n",
       "    </tr>\n",
       "    <tr>\n",
       "      <th>Norway</th>\n",
       "      <td>33965.66115</td>\n",
       "      <td>44683.97525</td>\n",
       "    </tr>\n",
       "    <tr>\n",
       "      <th>Sweden</th>\n",
       "      <td>23880.01683</td>\n",
       "      <td>29341.63093</td>\n",
       "    </tr>\n",
       "  </tbody>\n",
       "</table>\n",
       "</div>"
      ],
      "text/plain": [
       "         gdpPercap_1992  gdpPercap_2002\n",
       "country                                \n",
       "Denmark     26406.73985     32166.50006\n",
       "Finland     20647.16499     28204.59057\n",
       "Norway      33965.66115     44683.97525\n",
       "Sweden      23880.01683     29341.63093"
      ]
     },
     "execution_count": 20,
     "metadata": {},
     "output_type": "execute_result"
    }
   ],
   "source": [
    "df.loc[['Denmark', 'Finland', 'Norway', 'Sweden'], \n",
    "       ['gdpPercap_1992', 'gdpPercap_2002']]"
   ]
  },
  {
   "cell_type": "markdown",
   "id": "1562c15b",
   "metadata": {},
   "source": [
    "We could also define those lists as variables, and pass the variables to `.loc[]`. This might be useful if you were going to use the lists more than once, as well as for clarity:\n",
    "\n",
    "~~~python\n",
    "scand_countries = ['Denmark', 'Finland', 'Iceland', 'Norway', 'Sweden']\n",
    "years = ['gdpPercap_1992', 'gdpPercap_2002']\n",
    "df.loc[scand_countries, years]\n",
    "~~~"
   ]
  },
  {
   "cell_type": "code",
   "execution_count": 21,
   "id": "c03fd757",
   "metadata": {},
   "outputs": [
    {
     "data": {
      "application/vnd.microsoft.datawrangler.viewer.v0+json": {
       "columns": [
        {
         "name": "country",
         "rawType": "object",
         "type": "string"
        },
        {
         "name": "gdpPercap_1992",
         "rawType": "float64",
         "type": "float"
        },
        {
         "name": "gdpPercap_2002",
         "rawType": "float64",
         "type": "float"
        }
       ],
       "ref": "a89f4aed-b5c2-467a-80d0-420404300513",
       "rows": [
        [
         "Denmark",
         "26406.73985",
         "32166.50006"
        ],
        [
         "Finland",
         "20647.16499",
         "28204.59057"
        ],
        [
         "Norway",
         "33965.66115",
         "44683.97525"
        ],
        [
         "Sweden",
         "23880.01683",
         "29341.63093"
        ]
       ],
       "shape": {
        "columns": 2,
        "rows": 4
       }
      },
      "text/html": [
       "<div>\n",
       "<style scoped>\n",
       "    .dataframe tbody tr th:only-of-type {\n",
       "        vertical-align: middle;\n",
       "    }\n",
       "\n",
       "    .dataframe tbody tr th {\n",
       "        vertical-align: top;\n",
       "    }\n",
       "\n",
       "    .dataframe thead th {\n",
       "        text-align: right;\n",
       "    }\n",
       "</style>\n",
       "<table border=\"1\" class=\"dataframe\">\n",
       "  <thead>\n",
       "    <tr style=\"text-align: right;\">\n",
       "      <th></th>\n",
       "      <th>gdpPercap_1992</th>\n",
       "      <th>gdpPercap_2002</th>\n",
       "    </tr>\n",
       "    <tr>\n",
       "      <th>country</th>\n",
       "      <th></th>\n",
       "      <th></th>\n",
       "    </tr>\n",
       "  </thead>\n",
       "  <tbody>\n",
       "    <tr>\n",
       "      <th>Denmark</th>\n",
       "      <td>26406.73985</td>\n",
       "      <td>32166.50006</td>\n",
       "    </tr>\n",
       "    <tr>\n",
       "      <th>Finland</th>\n",
       "      <td>20647.16499</td>\n",
       "      <td>28204.59057</td>\n",
       "    </tr>\n",
       "    <tr>\n",
       "      <th>Norway</th>\n",
       "      <td>33965.66115</td>\n",
       "      <td>44683.97525</td>\n",
       "    </tr>\n",
       "    <tr>\n",
       "      <th>Sweden</th>\n",
       "      <td>23880.01683</td>\n",
       "      <td>29341.63093</td>\n",
       "    </tr>\n",
       "  </tbody>\n",
       "</table>\n",
       "</div>"
      ],
      "text/plain": [
       "         gdpPercap_1992  gdpPercap_2002\n",
       "country                                \n",
       "Denmark     26406.73985     32166.50006\n",
       "Finland     20647.16499     28204.59057\n",
       "Norway      33965.66115     44683.97525\n",
       "Sweden      23880.01683     29341.63093"
      ]
     },
     "execution_count": 21,
     "metadata": {},
     "output_type": "execute_result"
    }
   ],
   "source": [
    "scand_countries = ['Denmark', 'Finland', 'Norway', 'Sweden']\n",
    "years = ['gdpPercap_1992', 'gdpPercap_2002']\n",
    "df.loc[scand_countries, years]"
   ]
  },
  {
   "cell_type": "markdown",
   "id": "ab187c19",
   "metadata": {},
   "source": [
    "We can take this a step further, and assign the output of a `.loc[]` selection like this to a new variable name. This makes a copy of the selected data, stored in a new DataFrame (or Series, if we only select one row or column) with its own name. This allows us to later reference and use that selection. \n",
    "\n",
    "~~~python\n",
    "scand_data = df.loc[scand_countries, years]\n",
    "~~~"
   ]
  },
  {
   "cell_type": "code",
   "execution_count": 22,
   "id": "7d019938",
   "metadata": {},
   "outputs": [],
   "source": [
    "scand_data = df.loc[scand_countries, years]"
   ]
  },
  {
   "cell_type": "markdown",
   "id": "2f72ee79",
   "metadata": {},
   "source": [
    "## It's easy to do simple math and statistics in DataFrames\n",
    "\n",
    "We prevoiusly learned about methods to get simple statistical values out of a Python list, like `.max()`, and `.min()`. pandas includes these and many more methods as well. For example, we can view the mean GDP for Italy across all years (columns) with:\n",
    "\n",
    "~~~python\n",
    "df.loc['Italy'].mean()\n",
    "~~~"
   ]
  },
  {
   "cell_type": "code",
   "execution_count": 23,
   "id": "6f8c07fd",
   "metadata": {},
   "outputs": [
    {
     "data": {
      "text/plain": [
       "np.float64(16245.20900641667)"
      ]
     },
     "execution_count": 23,
     "metadata": {},
     "output_type": "execute_result"
    }
   ],
   "source": [
    "df.loc['Italy'].mean()"
   ]
  },
  {
   "cell_type": "markdown",
   "id": "f79bcc64",
   "metadata": {},
   "source": [
    "Or the largest GDP in 1977 with:\n",
    "\n",
    "~~~python\n",
    "df.loc[:, 'gdpPercap_1977'].max()\n",
    "~~~"
   ]
  },
  {
   "cell_type": "code",
   "execution_count": 24,
   "id": "0730ae1d",
   "metadata": {},
   "outputs": [
    {
     "data": {
      "text/plain": [
       "np.float64(26982.29052)"
      ]
     },
     "execution_count": 24,
     "metadata": {},
     "output_type": "execute_result"
    }
   ],
   "source": [
    "df.loc[:, 'gdpPercap_1977'].max()"
   ]
  },
  {
   "cell_type": "markdown",
   "id": "de0ac82b",
   "metadata": {},
   "source": [
    "Another useful method is `.describe()`, which prints out a range of descriptive statistics for the range of data you specify. Without any slicing it provides information for each column:\n",
    "\n",
    "~~~python\n",
    "df.describe()\n",
    "~~~"
   ]
  },
  {
   "cell_type": "code",
   "execution_count": 25,
   "id": "3dbaedb7",
   "metadata": {},
   "outputs": [
    {
     "data": {
      "application/vnd.microsoft.datawrangler.viewer.v0+json": {
       "columns": [
        {
         "name": "index",
         "rawType": "object",
         "type": "string"
        },
        {
         "name": "gdpPercap_1952",
         "rawType": "float64",
         "type": "float"
        },
        {
         "name": "gdpPercap_1957",
         "rawType": "float64",
         "type": "float"
        },
        {
         "name": "gdpPercap_1962",
         "rawType": "float64",
         "type": "float"
        },
        {
         "name": "gdpPercap_1967",
         "rawType": "float64",
         "type": "float"
        },
        {
         "name": "gdpPercap_1972",
         "rawType": "float64",
         "type": "float"
        },
        {
         "name": "gdpPercap_1977",
         "rawType": "float64",
         "type": "float"
        },
        {
         "name": "gdpPercap_1982",
         "rawType": "float64",
         "type": "float"
        },
        {
         "name": "gdpPercap_1987",
         "rawType": "float64",
         "type": "float"
        },
        {
         "name": "gdpPercap_1992",
         "rawType": "float64",
         "type": "float"
        },
        {
         "name": "gdpPercap_1997",
         "rawType": "float64",
         "type": "float"
        },
        {
         "name": "gdpPercap_2002",
         "rawType": "float64",
         "type": "float"
        },
        {
         "name": "gdpPercap_2007",
         "rawType": "float64",
         "type": "float"
        }
       ],
       "ref": "ffd4140d-4977-4374-923f-6b90b3f7408f",
       "rows": [
        [
         "count",
         "30.0",
         "30.0",
         "30.0",
         "30.0",
         "30.0",
         "30.0",
         "30.0",
         "30.0",
         "30.0",
         "30.0",
         "30.0",
         "30.0"
        ],
        [
         "mean",
         "5661.0574347599995",
         "6963.012815933334",
         "8365.4868143",
         "10143.823756533335",
         "12479.57524646667",
         "14283.979109599995",
         "15617.896551233333",
         "17214.31072663333",
         "17061.5680842",
         "19076.781801600002",
         "21711.73242243333",
         "25054.481635933338"
        ],
        [
         "std",
         "3114.0604926553233",
         "3677.9501459764815",
         "4199.193906418378",
         "4724.983888650933",
         "5509.691410957364",
         "5874.464895969019",
         "6453.234826614652",
         "7482.957960039719",
         "9109.804361057026",
         "10065.45771619316",
         "11197.355516702492",
         "11800.339810888066"
        ],
        [
         "min",
         "973.5331948",
         "1353.989176",
         "1709.683679",
         "2172.352423",
         "2860.16975",
         "3528.481305",
         "3630.880722",
         "3738.932735",
         "2497.437901",
         "3193.054604",
         "4604.211737",
         "5937.029526"
        ],
        [
         "25%",
         "3241.13240625",
         "4394.87431525",
         "5373.53661175",
         "6657.93904725",
         "9057.7080945",
         "10360.0303",
         "11449.870115",
         "12274.57068",
         "8667.113214250001",
         "9946.59930625",
         "11721.8514825",
         "14811.89821"
        ],
        [
         "50%",
         "5142.469716",
         "6066.7214955",
         "7515.7337375",
         "9366.0670335",
         "12326.37999",
         "14225.754515",
         "15322.82472",
         "16215.485895",
         "17550.155945",
         "19596.49855",
         "23674.86323",
         "28054.06579"
        ],
        [
         "75%",
         "7236.79491925",
         "9597.22082025",
         "10931.0853475",
         "13277.1820575",
         "16523.0171275",
         "19052.4121625",
         "20901.72973",
         "23321.5877225",
         "25034.243045",
         "27189.5303125",
         "30373.3633075",
         "33817.9625325"
        ],
        [
         "max",
         "14734.23275",
         "17909.48973",
         "20431.0927",
         "22966.14432",
         "27195.11304",
         "26982.29052",
         "28397.71512",
         "31540.9748",
         "33965.66115",
         "41283.16433",
         "44683.97525",
         "49357.19017"
        ]
       ],
       "shape": {
        "columns": 12,
        "rows": 8
       }
      },
      "text/html": [
       "<div>\n",
       "<style scoped>\n",
       "    .dataframe tbody tr th:only-of-type {\n",
       "        vertical-align: middle;\n",
       "    }\n",
       "\n",
       "    .dataframe tbody tr th {\n",
       "        vertical-align: top;\n",
       "    }\n",
       "\n",
       "    .dataframe thead th {\n",
       "        text-align: right;\n",
       "    }\n",
       "</style>\n",
       "<table border=\"1\" class=\"dataframe\">\n",
       "  <thead>\n",
       "    <tr style=\"text-align: right;\">\n",
       "      <th></th>\n",
       "      <th>gdpPercap_1952</th>\n",
       "      <th>gdpPercap_1957</th>\n",
       "      <th>gdpPercap_1962</th>\n",
       "      <th>gdpPercap_1967</th>\n",
       "      <th>gdpPercap_1972</th>\n",
       "      <th>gdpPercap_1977</th>\n",
       "      <th>gdpPercap_1982</th>\n",
       "      <th>gdpPercap_1987</th>\n",
       "      <th>gdpPercap_1992</th>\n",
       "      <th>gdpPercap_1997</th>\n",
       "      <th>gdpPercap_2002</th>\n",
       "      <th>gdpPercap_2007</th>\n",
       "    </tr>\n",
       "  </thead>\n",
       "  <tbody>\n",
       "    <tr>\n",
       "      <th>count</th>\n",
       "      <td>30.000000</td>\n",
       "      <td>30.000000</td>\n",
       "      <td>30.000000</td>\n",
       "      <td>30.000000</td>\n",
       "      <td>30.000000</td>\n",
       "      <td>30.000000</td>\n",
       "      <td>30.000000</td>\n",
       "      <td>30.000000</td>\n",
       "      <td>30.000000</td>\n",
       "      <td>30.000000</td>\n",
       "      <td>30.000000</td>\n",
       "      <td>30.000000</td>\n",
       "    </tr>\n",
       "    <tr>\n",
       "      <th>mean</th>\n",
       "      <td>5661.057435</td>\n",
       "      <td>6963.012816</td>\n",
       "      <td>8365.486814</td>\n",
       "      <td>10143.823757</td>\n",
       "      <td>12479.575246</td>\n",
       "      <td>14283.979110</td>\n",
       "      <td>15617.896551</td>\n",
       "      <td>17214.310727</td>\n",
       "      <td>17061.568084</td>\n",
       "      <td>19076.781802</td>\n",
       "      <td>21711.732422</td>\n",
       "      <td>25054.481636</td>\n",
       "    </tr>\n",
       "    <tr>\n",
       "      <th>std</th>\n",
       "      <td>3114.060493</td>\n",
       "      <td>3677.950146</td>\n",
       "      <td>4199.193906</td>\n",
       "      <td>4724.983889</td>\n",
       "      <td>5509.691411</td>\n",
       "      <td>5874.464896</td>\n",
       "      <td>6453.234827</td>\n",
       "      <td>7482.957960</td>\n",
       "      <td>9109.804361</td>\n",
       "      <td>10065.457716</td>\n",
       "      <td>11197.355517</td>\n",
       "      <td>11800.339811</td>\n",
       "    </tr>\n",
       "    <tr>\n",
       "      <th>min</th>\n",
       "      <td>973.533195</td>\n",
       "      <td>1353.989176</td>\n",
       "      <td>1709.683679</td>\n",
       "      <td>2172.352423</td>\n",
       "      <td>2860.169750</td>\n",
       "      <td>3528.481305</td>\n",
       "      <td>3630.880722</td>\n",
       "      <td>3738.932735</td>\n",
       "      <td>2497.437901</td>\n",
       "      <td>3193.054604</td>\n",
       "      <td>4604.211737</td>\n",
       "      <td>5937.029526</td>\n",
       "    </tr>\n",
       "    <tr>\n",
       "      <th>25%</th>\n",
       "      <td>3241.132406</td>\n",
       "      <td>4394.874315</td>\n",
       "      <td>5373.536612</td>\n",
       "      <td>6657.939047</td>\n",
       "      <td>9057.708094</td>\n",
       "      <td>10360.030300</td>\n",
       "      <td>11449.870115</td>\n",
       "      <td>12274.570680</td>\n",
       "      <td>8667.113214</td>\n",
       "      <td>9946.599306</td>\n",
       "      <td>11721.851483</td>\n",
       "      <td>14811.898210</td>\n",
       "    </tr>\n",
       "    <tr>\n",
       "      <th>50%</th>\n",
       "      <td>5142.469716</td>\n",
       "      <td>6066.721495</td>\n",
       "      <td>7515.733737</td>\n",
       "      <td>9366.067033</td>\n",
       "      <td>12326.379990</td>\n",
       "      <td>14225.754515</td>\n",
       "      <td>15322.824720</td>\n",
       "      <td>16215.485895</td>\n",
       "      <td>17550.155945</td>\n",
       "      <td>19596.498550</td>\n",
       "      <td>23674.863230</td>\n",
       "      <td>28054.065790</td>\n",
       "    </tr>\n",
       "    <tr>\n",
       "      <th>75%</th>\n",
       "      <td>7236.794919</td>\n",
       "      <td>9597.220820</td>\n",
       "      <td>10931.085348</td>\n",
       "      <td>13277.182058</td>\n",
       "      <td>16523.017127</td>\n",
       "      <td>19052.412163</td>\n",
       "      <td>20901.729730</td>\n",
       "      <td>23321.587723</td>\n",
       "      <td>25034.243045</td>\n",
       "      <td>27189.530312</td>\n",
       "      <td>30373.363307</td>\n",
       "      <td>33817.962533</td>\n",
       "    </tr>\n",
       "    <tr>\n",
       "      <th>max</th>\n",
       "      <td>14734.232750</td>\n",
       "      <td>17909.489730</td>\n",
       "      <td>20431.092700</td>\n",
       "      <td>22966.144320</td>\n",
       "      <td>27195.113040</td>\n",
       "      <td>26982.290520</td>\n",
       "      <td>28397.715120</td>\n",
       "      <td>31540.974800</td>\n",
       "      <td>33965.661150</td>\n",
       "      <td>41283.164330</td>\n",
       "      <td>44683.975250</td>\n",
       "      <td>49357.190170</td>\n",
       "    </tr>\n",
       "  </tbody>\n",
       "</table>\n",
       "</div>"
      ],
      "text/plain": [
       "       gdpPercap_1952  gdpPercap_1957  gdpPercap_1962  gdpPercap_1967  \\\n",
       "count       30.000000       30.000000       30.000000       30.000000   \n",
       "mean      5661.057435     6963.012816     8365.486814    10143.823757   \n",
       "std       3114.060493     3677.950146     4199.193906     4724.983889   \n",
       "min        973.533195     1353.989176     1709.683679     2172.352423   \n",
       "25%       3241.132406     4394.874315     5373.536612     6657.939047   \n",
       "50%       5142.469716     6066.721495     7515.733737     9366.067033   \n",
       "75%       7236.794919     9597.220820    10931.085348    13277.182058   \n",
       "max      14734.232750    17909.489730    20431.092700    22966.144320   \n",
       "\n",
       "       gdpPercap_1972  gdpPercap_1977  gdpPercap_1982  gdpPercap_1987  \\\n",
       "count       30.000000       30.000000       30.000000       30.000000   \n",
       "mean     12479.575246    14283.979110    15617.896551    17214.310727   \n",
       "std       5509.691411     5874.464896     6453.234827     7482.957960   \n",
       "min       2860.169750     3528.481305     3630.880722     3738.932735   \n",
       "25%       9057.708094    10360.030300    11449.870115    12274.570680   \n",
       "50%      12326.379990    14225.754515    15322.824720    16215.485895   \n",
       "75%      16523.017127    19052.412163    20901.729730    23321.587723   \n",
       "max      27195.113040    26982.290520    28397.715120    31540.974800   \n",
       "\n",
       "       gdpPercap_1992  gdpPercap_1997  gdpPercap_2002  gdpPercap_2007  \n",
       "count       30.000000       30.000000       30.000000       30.000000  \n",
       "mean     17061.568084    19076.781802    21711.732422    25054.481636  \n",
       "std       9109.804361    10065.457716    11197.355517    11800.339811  \n",
       "min       2497.437901     3193.054604     4604.211737     5937.029526  \n",
       "25%       8667.113214     9946.599306    11721.851483    14811.898210  \n",
       "50%      17550.155945    19596.498550    23674.863230    28054.065790  \n",
       "75%      25034.243045    27189.530312    30373.363307    33817.962533  \n",
       "max      33965.661150    41283.164330    44683.975250    49357.190170  "
      ]
     },
     "execution_count": 25,
     "metadata": {},
     "output_type": "execute_result"
    }
   ],
   "source": [
    "df.describe()"
   ]
  },
  {
   "cell_type": "markdown",
   "id": "c680de2c",
   "metadata": {},
   "source": [
    "### Mini-Exercise\n",
    "In the cell below, use the `scand_countries` and `years` variables to view descriptive statistics for all Scandinavian countries in each year."
   ]
  },
  {
   "cell_type": "code",
   "execution_count": 26,
   "id": "1977cca3",
   "metadata": {},
   "outputs": [
    {
     "data": {
      "application/vnd.microsoft.datawrangler.viewer.v0+json": {
       "columns": [
        {
         "name": "index",
         "rawType": "object",
         "type": "string"
        },
        {
         "name": "gdpPercap_1952",
         "rawType": "float64",
         "type": "float"
        },
        {
         "name": "gdpPercap_1957",
         "rawType": "float64",
         "type": "float"
        },
        {
         "name": "gdpPercap_1962",
         "rawType": "float64",
         "type": "float"
        },
        {
         "name": "gdpPercap_1967",
         "rawType": "float64",
         "type": "float"
        },
        {
         "name": "gdpPercap_1972",
         "rawType": "float64",
         "type": "float"
        },
        {
         "name": "gdpPercap_1977",
         "rawType": "float64",
         "type": "float"
        },
        {
         "name": "gdpPercap_1982",
         "rawType": "float64",
         "type": "float"
        },
        {
         "name": "gdpPercap_1987",
         "rawType": "float64",
         "type": "float"
        },
        {
         "name": "gdpPercap_1992",
         "rawType": "float64",
         "type": "float"
        },
        {
         "name": "gdpPercap_1997",
         "rawType": "float64",
         "type": "float"
        },
        {
         "name": "gdpPercap_2002",
         "rawType": "float64",
         "type": "float"
        },
        {
         "name": "gdpPercap_2007",
         "rawType": "float64",
         "type": "float"
        }
       ],
       "ref": "ae049679-ef57-4301-8cf0-2ec1e9be7d22",
       "rows": [
        [
         "count",
         "4.0",
         "4.0",
         "4.0",
         "4.0",
         "4.0",
         "4.0",
         "4.0",
         "4.0",
         "4.0",
         "4.0",
         "4.0",
         "4.0"
        ],
        [
         "mean",
         "8685.0426745",
         "10052.7315005",
         "12183.74987525",
         "14619.7552325",
         "17505.540815",
         "19548.849732500003",
         "21796.803662500002",
         "25346.2730275",
         "26224.895705000003",
         "30019.5137975",
         "33599.1742025",
         "37925.610415"
        ],
        [
         "std",
         "1647.076833204978",
         "1822.6817360552168",
         "1957.143636984399",
         "2506.9567338901315",
         "2159.4511616521017",
         "3212.0298620451363",
         "3276.446151658647",
         "4442.476171827315",
         "5673.389752022227",
         "7940.203163694528",
         "7575.257459793961",
         "7669.949185945389"
        ],
        [
         "min",
         "6424.519071",
         "7545.415386",
         "9371.842561",
         "10921.63626",
         "14358.8759",
         "15605.42283",
         "18533.15761",
         "21141.01223",
         "20647.16499",
         "23723.9502",
         "28204.59057",
         "33207.0844"
        ],
        [
         "25%",
         "8002.013264249999",
         "9320.262516",
         "11590.04208025",
         "14174.1317925",
         "16963.737455",
         "18043.149615000002",
         "20133.82534",
         "22975.45001",
         "23071.80387",
         "24880.9337925",
         "29057.37084",
         "33696.582362500005"
        ],
        [
         "50%",
         "9110.1149535",
         "10505.768788000001",
         "12889.921715",
         "15597.7541",
         "18349.115925",
         "19639.313355",
         "21177.710865",
         "24351.55254",
         "25143.378340000003",
         "27535.47033",
         "30754.065495",
         "34569.083545"
        ],
        [
         "75%",
         "9793.14436375",
         "11238.2377725",
         "13483.629509999999",
         "16043.377540000001",
         "18890.919285",
         "21145.0134725",
         "22840.6891875",
         "26722.3755575",
         "28296.470175000002",
         "32674.050335",
         "35295.8688575",
         "38798.1115975"
        ],
        [
         "max",
         "10095.42172",
         "11653.97304",
         "13583.31351",
         "16361.87647",
         "18965.05551",
         "23311.34939",
         "26298.63531",
         "31540.9748",
         "33965.66115",
         "41283.16433",
         "44683.97525",
         "49357.19017"
        ]
       ],
       "shape": {
        "columns": 12,
        "rows": 8
       }
      },
      "text/html": [
       "<div>\n",
       "<style scoped>\n",
       "    .dataframe tbody tr th:only-of-type {\n",
       "        vertical-align: middle;\n",
       "    }\n",
       "\n",
       "    .dataframe tbody tr th {\n",
       "        vertical-align: top;\n",
       "    }\n",
       "\n",
       "    .dataframe thead th {\n",
       "        text-align: right;\n",
       "    }\n",
       "</style>\n",
       "<table border=\"1\" class=\"dataframe\">\n",
       "  <thead>\n",
       "    <tr style=\"text-align: right;\">\n",
       "      <th></th>\n",
       "      <th>gdpPercap_1952</th>\n",
       "      <th>gdpPercap_1957</th>\n",
       "      <th>gdpPercap_1962</th>\n",
       "      <th>gdpPercap_1967</th>\n",
       "      <th>gdpPercap_1972</th>\n",
       "      <th>gdpPercap_1977</th>\n",
       "      <th>gdpPercap_1982</th>\n",
       "      <th>gdpPercap_1987</th>\n",
       "      <th>gdpPercap_1992</th>\n",
       "      <th>gdpPercap_1997</th>\n",
       "      <th>gdpPercap_2002</th>\n",
       "      <th>gdpPercap_2007</th>\n",
       "    </tr>\n",
       "  </thead>\n",
       "  <tbody>\n",
       "    <tr>\n",
       "      <th>count</th>\n",
       "      <td>4.000000</td>\n",
       "      <td>4.000000</td>\n",
       "      <td>4.000000</td>\n",
       "      <td>4.000000</td>\n",
       "      <td>4.000000</td>\n",
       "      <td>4.000000</td>\n",
       "      <td>4.000000</td>\n",
       "      <td>4.000000</td>\n",
       "      <td>4.000000</td>\n",
       "      <td>4.000000</td>\n",
       "      <td>4.000000</td>\n",
       "      <td>4.000000</td>\n",
       "    </tr>\n",
       "    <tr>\n",
       "      <th>mean</th>\n",
       "      <td>8685.042675</td>\n",
       "      <td>10052.731501</td>\n",
       "      <td>12183.749875</td>\n",
       "      <td>14619.755232</td>\n",
       "      <td>17505.540815</td>\n",
       "      <td>19548.849733</td>\n",
       "      <td>21796.803663</td>\n",
       "      <td>25346.273027</td>\n",
       "      <td>26224.895705</td>\n",
       "      <td>30019.513797</td>\n",
       "      <td>33599.174202</td>\n",
       "      <td>37925.610415</td>\n",
       "    </tr>\n",
       "    <tr>\n",
       "      <th>std</th>\n",
       "      <td>1647.076833</td>\n",
       "      <td>1822.681736</td>\n",
       "      <td>1957.143637</td>\n",
       "      <td>2506.956734</td>\n",
       "      <td>2159.451162</td>\n",
       "      <td>3212.029862</td>\n",
       "      <td>3276.446152</td>\n",
       "      <td>4442.476172</td>\n",
       "      <td>5673.389752</td>\n",
       "      <td>7940.203164</td>\n",
       "      <td>7575.257460</td>\n",
       "      <td>7669.949186</td>\n",
       "    </tr>\n",
       "    <tr>\n",
       "      <th>min</th>\n",
       "      <td>6424.519071</td>\n",
       "      <td>7545.415386</td>\n",
       "      <td>9371.842561</td>\n",
       "      <td>10921.636260</td>\n",
       "      <td>14358.875900</td>\n",
       "      <td>15605.422830</td>\n",
       "      <td>18533.157610</td>\n",
       "      <td>21141.012230</td>\n",
       "      <td>20647.164990</td>\n",
       "      <td>23723.950200</td>\n",
       "      <td>28204.590570</td>\n",
       "      <td>33207.084400</td>\n",
       "    </tr>\n",
       "    <tr>\n",
       "      <th>25%</th>\n",
       "      <td>8002.013264</td>\n",
       "      <td>9320.262516</td>\n",
       "      <td>11590.042080</td>\n",
       "      <td>14174.131793</td>\n",
       "      <td>16963.737455</td>\n",
       "      <td>18043.149615</td>\n",
       "      <td>20133.825340</td>\n",
       "      <td>22975.450010</td>\n",
       "      <td>23071.803870</td>\n",
       "      <td>24880.933792</td>\n",
       "      <td>29057.370840</td>\n",
       "      <td>33696.582363</td>\n",
       "    </tr>\n",
       "    <tr>\n",
       "      <th>50%</th>\n",
       "      <td>9110.114954</td>\n",
       "      <td>10505.768788</td>\n",
       "      <td>12889.921715</td>\n",
       "      <td>15597.754100</td>\n",
       "      <td>18349.115925</td>\n",
       "      <td>19639.313355</td>\n",
       "      <td>21177.710865</td>\n",
       "      <td>24351.552540</td>\n",
       "      <td>25143.378340</td>\n",
       "      <td>27535.470330</td>\n",
       "      <td>30754.065495</td>\n",
       "      <td>34569.083545</td>\n",
       "    </tr>\n",
       "    <tr>\n",
       "      <th>75%</th>\n",
       "      <td>9793.144364</td>\n",
       "      <td>11238.237773</td>\n",
       "      <td>13483.629510</td>\n",
       "      <td>16043.377540</td>\n",
       "      <td>18890.919285</td>\n",
       "      <td>21145.013472</td>\n",
       "      <td>22840.689188</td>\n",
       "      <td>26722.375557</td>\n",
       "      <td>28296.470175</td>\n",
       "      <td>32674.050335</td>\n",
       "      <td>35295.868857</td>\n",
       "      <td>38798.111597</td>\n",
       "    </tr>\n",
       "    <tr>\n",
       "      <th>max</th>\n",
       "      <td>10095.421720</td>\n",
       "      <td>11653.973040</td>\n",
       "      <td>13583.313510</td>\n",
       "      <td>16361.876470</td>\n",
       "      <td>18965.055510</td>\n",
       "      <td>23311.349390</td>\n",
       "      <td>26298.635310</td>\n",
       "      <td>31540.974800</td>\n",
       "      <td>33965.661150</td>\n",
       "      <td>41283.164330</td>\n",
       "      <td>44683.975250</td>\n",
       "      <td>49357.190170</td>\n",
       "    </tr>\n",
       "  </tbody>\n",
       "</table>\n",
       "</div>"
      ],
      "text/plain": [
       "       gdpPercap_1952  gdpPercap_1957  gdpPercap_1962  gdpPercap_1967  \\\n",
       "count        4.000000        4.000000        4.000000        4.000000   \n",
       "mean      8685.042675    10052.731501    12183.749875    14619.755232   \n",
       "std       1647.076833     1822.681736     1957.143637     2506.956734   \n",
       "min       6424.519071     7545.415386     9371.842561    10921.636260   \n",
       "25%       8002.013264     9320.262516    11590.042080    14174.131793   \n",
       "50%       9110.114954    10505.768788    12889.921715    15597.754100   \n",
       "75%       9793.144364    11238.237773    13483.629510    16043.377540   \n",
       "max      10095.421720    11653.973040    13583.313510    16361.876470   \n",
       "\n",
       "       gdpPercap_1972  gdpPercap_1977  gdpPercap_1982  gdpPercap_1987  \\\n",
       "count        4.000000        4.000000        4.000000        4.000000   \n",
       "mean     17505.540815    19548.849733    21796.803663    25346.273027   \n",
       "std       2159.451162     3212.029862     3276.446152     4442.476172   \n",
       "min      14358.875900    15605.422830    18533.157610    21141.012230   \n",
       "25%      16963.737455    18043.149615    20133.825340    22975.450010   \n",
       "50%      18349.115925    19639.313355    21177.710865    24351.552540   \n",
       "75%      18890.919285    21145.013472    22840.689188    26722.375557   \n",
       "max      18965.055510    23311.349390    26298.635310    31540.974800   \n",
       "\n",
       "       gdpPercap_1992  gdpPercap_1997  gdpPercap_2002  gdpPercap_2007  \n",
       "count        4.000000        4.000000        4.000000        4.000000  \n",
       "mean     26224.895705    30019.513797    33599.174202    37925.610415  \n",
       "std       5673.389752     7940.203164     7575.257460     7669.949186  \n",
       "min      20647.164990    23723.950200    28204.590570    33207.084400  \n",
       "25%      23071.803870    24880.933792    29057.370840    33696.582363  \n",
       "50%      25143.378340    27535.470330    30754.065495    34569.083545  \n",
       "75%      28296.470175    32674.050335    35295.868857    38798.111597  \n",
       "max      33965.661150    41283.164330    44683.975250    49357.190170  "
      ]
     },
     "execution_count": 26,
     "metadata": {},
     "output_type": "execute_result"
    }
   ],
   "source": [
    "df.loc[scand_countries].describe()"
   ]
  },
  {
   "cell_type": "markdown",
   "id": "1a3fb6d5",
   "metadata": {},
   "source": [
    "## Evaluate cells based on conditions\n",
    "\n",
    "pandas allows an easy way to identify values in a DataFrame that meet a certain condition, using operators like `<`, `>`, and `==`. For example, let's see which countries in a list had a GDP over 10,000 in 1962 and 1992. The result is reported in Booleans (True/False) for each cell.\n",
    "\n",
    "~~~python\n",
    "countries = ['France', 'Germany', 'Italy', 'Spain', 'United Kingdom']\n",
    "df.loc[countries, ['gdpPercap_1962', 'gdpPercap_1992']] > 10000\n",
    "~~~"
   ]
  },
  {
   "cell_type": "code",
   "execution_count": 27,
   "id": "c78bf674",
   "metadata": {},
   "outputs": [
    {
     "data": {
      "application/vnd.microsoft.datawrangler.viewer.v0+json": {
       "columns": [
        {
         "name": "country",
         "rawType": "object",
         "type": "string"
        },
        {
         "name": "gdpPercap_1962",
         "rawType": "bool",
         "type": "boolean"
        },
        {
         "name": "gdpPercap_1992",
         "rawType": "bool",
         "type": "boolean"
        }
       ],
       "ref": "181a3f0a-b16c-4fc2-86a0-b79cc612be9f",
       "rows": [
        [
         "France",
         "True",
         "True"
        ],
        [
         "Germany",
         "True",
         "True"
        ],
        [
         "Italy",
         "False",
         "True"
        ],
        [
         "Spain",
         "False",
         "True"
        ],
        [
         "United Kingdom",
         "True",
         "True"
        ]
       ],
       "shape": {
        "columns": 2,
        "rows": 5
       }
      },
      "text/html": [
       "<div>\n",
       "<style scoped>\n",
       "    .dataframe tbody tr th:only-of-type {\n",
       "        vertical-align: middle;\n",
       "    }\n",
       "\n",
       "    .dataframe tbody tr th {\n",
       "        vertical-align: top;\n",
       "    }\n",
       "\n",
       "    .dataframe thead th {\n",
       "        text-align: right;\n",
       "    }\n",
       "</style>\n",
       "<table border=\"1\" class=\"dataframe\">\n",
       "  <thead>\n",
       "    <tr style=\"text-align: right;\">\n",
       "      <th></th>\n",
       "      <th>gdpPercap_1962</th>\n",
       "      <th>gdpPercap_1992</th>\n",
       "    </tr>\n",
       "    <tr>\n",
       "      <th>country</th>\n",
       "      <th></th>\n",
       "      <th></th>\n",
       "    </tr>\n",
       "  </thead>\n",
       "  <tbody>\n",
       "    <tr>\n",
       "      <th>France</th>\n",
       "      <td>True</td>\n",
       "      <td>True</td>\n",
       "    </tr>\n",
       "    <tr>\n",
       "      <th>Germany</th>\n",
       "      <td>True</td>\n",
       "      <td>True</td>\n",
       "    </tr>\n",
       "    <tr>\n",
       "      <th>Italy</th>\n",
       "      <td>False</td>\n",
       "      <td>True</td>\n",
       "    </tr>\n",
       "    <tr>\n",
       "      <th>Spain</th>\n",
       "      <td>False</td>\n",
       "      <td>True</td>\n",
       "    </tr>\n",
       "    <tr>\n",
       "      <th>United Kingdom</th>\n",
       "      <td>True</td>\n",
       "      <td>True</td>\n",
       "    </tr>\n",
       "  </tbody>\n",
       "</table>\n",
       "</div>"
      ],
      "text/plain": [
       "                gdpPercap_1962  gdpPercap_1992\n",
       "country                                       \n",
       "France                    True            True\n",
       "Germany                   True            True\n",
       "Italy                    False            True\n",
       "Spain                    False            True\n",
       "United Kingdom            True            True"
      ]
     },
     "execution_count": 27,
     "metadata": {},
     "output_type": "execute_result"
    }
   ],
   "source": [
    "countries = ['France', 'Germany', 'Italy', 'Spain', 'United Kingdom']\n",
    "df.loc[countries, ['gdpPercap_1962', 'gdpPercap_1992']] > 10000"
   ]
  },
  {
   "cell_type": "markdown",
   "id": "65984688",
   "metadata": {},
   "source": [
    "## Select values or NaN using a Boolean mask.\n",
    "\n",
    "A DataFrame full of Booleans is sometimes called a *mask* because of how it can be used. A mask removes values that are not True, and replaces them with `NaN` — a special Python value representing \"not a number\". This can be useful because pandas ignores NaN values when doing computations. \n",
    "\n",
    "We create a mask by assigning the output of a conditional statement to a variable name:\n",
    "\n",
    "\n",
    "~~~python\n",
    "mask = scand_data > 30000\n",
    "~~~"
   ]
  },
  {
   "cell_type": "code",
   "execution_count": 28,
   "id": "a89267fb",
   "metadata": {},
   "outputs": [],
   "source": [
    "mask = scand_data > 30000"
   ]
  },
  {
   "cell_type": "markdown",
   "id": "4edef08f",
   "metadata": {},
   "source": [
    "Then we can apply the mask to the DataFrame to get only the values that meet the criterion:\n",
    "\n",
    "~~~python\n",
    "scand_data[mask]\n",
    "~~~"
   ]
  },
  {
   "cell_type": "code",
   "execution_count": 29,
   "id": "3de222c2",
   "metadata": {},
   "outputs": [
    {
     "data": {
      "application/vnd.microsoft.datawrangler.viewer.v0+json": {
       "columns": [
        {
         "name": "country",
         "rawType": "object",
         "type": "string"
        },
        {
         "name": "gdpPercap_1992",
         "rawType": "float64",
         "type": "float"
        },
        {
         "name": "gdpPercap_2002",
         "rawType": "float64",
         "type": "float"
        }
       ],
       "ref": "36d6e837-7328-46ae-a0fd-52f2d24b5abc",
       "rows": [
        [
         "Denmark",
         null,
         "32166.50006"
        ],
        [
         "Finland",
         null,
         null
        ],
        [
         "Norway",
         "33965.66115",
         "44683.97525"
        ],
        [
         "Sweden",
         null,
         null
        ]
       ],
       "shape": {
        "columns": 2,
        "rows": 4
       }
      },
      "text/html": [
       "<div>\n",
       "<style scoped>\n",
       "    .dataframe tbody tr th:only-of-type {\n",
       "        vertical-align: middle;\n",
       "    }\n",
       "\n",
       "    .dataframe tbody tr th {\n",
       "        vertical-align: top;\n",
       "    }\n",
       "\n",
       "    .dataframe thead th {\n",
       "        text-align: right;\n",
       "    }\n",
       "</style>\n",
       "<table border=\"1\" class=\"dataframe\">\n",
       "  <thead>\n",
       "    <tr style=\"text-align: right;\">\n",
       "      <th></th>\n",
       "      <th>gdpPercap_1992</th>\n",
       "      <th>gdpPercap_2002</th>\n",
       "    </tr>\n",
       "    <tr>\n",
       "      <th>country</th>\n",
       "      <th></th>\n",
       "      <th></th>\n",
       "    </tr>\n",
       "  </thead>\n",
       "  <tbody>\n",
       "    <tr>\n",
       "      <th>Denmark</th>\n",
       "      <td>NaN</td>\n",
       "      <td>32166.50006</td>\n",
       "    </tr>\n",
       "    <tr>\n",
       "      <th>Finland</th>\n",
       "      <td>NaN</td>\n",
       "      <td>NaN</td>\n",
       "    </tr>\n",
       "    <tr>\n",
       "      <th>Norway</th>\n",
       "      <td>33965.66115</td>\n",
       "      <td>44683.97525</td>\n",
       "    </tr>\n",
       "    <tr>\n",
       "      <th>Sweden</th>\n",
       "      <td>NaN</td>\n",
       "      <td>NaN</td>\n",
       "    </tr>\n",
       "  </tbody>\n",
       "</table>\n",
       "</div>"
      ],
      "text/plain": [
       "         gdpPercap_1992  gdpPercap_2002\n",
       "country                                \n",
       "Denmark             NaN     32166.50006\n",
       "Finland             NaN             NaN\n",
       "Norway      33965.66115     44683.97525\n",
       "Sweden              NaN             NaN"
      ]
     },
     "execution_count": 29,
     "metadata": {},
     "output_type": "execute_result"
    }
   ],
   "source": [
    "scand_data[mask]"
   ]
  },
  {
   "cell_type": "markdown",
   "id": "2326b407",
   "metadata": {},
   "source": [
    "As an example of how this might be used, the steps above would now allow us to find the lowest GDP value in each year, that was above 30,000:\n",
    "\n",
    "~~~python\n",
    "scand_data[mask].min()\n",
    "~~~"
   ]
  },
  {
   "cell_type": "code",
   "execution_count": 30,
   "id": "1a487806",
   "metadata": {},
   "outputs": [
    {
     "data": {
      "application/vnd.microsoft.datawrangler.viewer.v0+json": {
       "columns": [
        {
         "name": "index",
         "rawType": "object",
         "type": "string"
        },
        {
         "name": "0",
         "rawType": "float64",
         "type": "float"
        }
       ],
       "ref": "bf9679d0-7a0b-44a2-9dac-82cd79f2c432",
       "rows": [
        [
         "gdpPercap_1992",
         "33965.66115"
        ],
        [
         "gdpPercap_2002",
         "32166.50006"
        ]
       ],
       "shape": {
        "columns": 1,
        "rows": 2
       }
      },
      "text/plain": [
       "gdpPercap_1992    33965.66115\n",
       "gdpPercap_2002    32166.50006\n",
       "dtype: float64"
      ]
     },
     "execution_count": 30,
     "metadata": {},
     "output_type": "execute_result"
    }
   ],
   "source": [
    "scand_data[mask].min()"
   ]
  },
  {
   "cell_type": "markdown",
   "id": "57bb0ddc",
   "metadata": {},
   "source": [
    "## Split-Apply-Combine\n",
    "\n",
    "A common task in data science is to split data into meaningful subgroups, apply an operation to each subgroup (e.g., compute the mean), and then combine the results into a single output, such as a table or a new DataFrame. This paradigm was famously [described by Hadley Wickham in a 2011 paper](http://dx.doi.org/10.18637/jss.v040.i01).\n",
    "\n",
    "pandas provides methods and grouping operations that are very efficient (*vectorized*) for split-apply-combine operations. "
   ]
  },
  {
   "cell_type": "markdown",
   "id": "81f9eca1",
   "metadata": {},
   "source": [
    "As an example, let's say that we wanted to compare the average GDP for different regions of Europe, divided as northern, southern, eastern, and western. To do this, we first have to create lists defining the countries belonging to each of these regions:\n",
    "\n",
    "~~~python\n",
    "northern = ['Denmark', 'Finland', 'Iceland', 'Norway', 'Sweden']\n",
    "southern = ['Greece', 'Italy', 'Portugal', 'Spain']\n",
    "eastern = ['Albania', 'Bosnia and Herzegovina', 'Bulgaria', 'Croatia', \n",
    "            'Czech Republic', 'Hungary', 'Montenegro', 'Poland', 'Romania', \n",
    "            'Serbia', 'Slovak Republic', 'Slovenia']\n",
    "western = ['Austria',  'Belgium', 'France', 'Germany', 'Ireland', \n",
    "            'Netherlands', 'Switzerland', 'United Kingdom']\n",
    "~~~"
   ]
  },
  {
   "cell_type": "code",
   "execution_count": 35,
   "id": "c617a093",
   "metadata": {},
   "outputs": [],
   "source": [
    "northern = ['Denmark', 'Finland', 'Iceland', 'Norway', 'Sweden']\n",
    "sourthern = ['Greece', 'Italy', 'Portugal', 'Spain']\n",
    "eastern = ['Albania', 'Bulgaria', 'Croatia',\n",
    "            'Czech Republic', 'Hungary', 'Montenegro', 'Poland', 'Romania',\n",
    "            'Serbia', 'Slovak Republic', 'Slovenia']\n",
    "western = ['Austria', 'Belgium', 'France', 'Germany', 'Ireland',\n",
    "            'Netherlands', 'Switzerland', 'United Kingdom']"
   ]
  },
  {
   "cell_type": "markdown",
   "id": "fdc15c40",
   "metadata": {},
   "source": [
    "Next we can make a new column simply by using `.loc[]` with the rows specified by one of the lists we just defined, a column name that doesn't already exist (in this case, we'll call it \"region\"), then assigning a region label to that combination of rows and column. We need to do this separately for each region. Note that when we first create the new column (\"region\"), pandas fills it with NaN values in any rows that were not defined by the assignment. For example, in the code below, the first line will create the column \"region\", and fill it with \"northern\" for any row in the `northern` list, and `NaN` to every other row. \n",
    "\n",
    "~~~python\n",
    "df.loc[northern, 'region'] = 'northern'\n",
    "df.loc[southern, 'region'] = 'southern'\n",
    "df.loc[eastern, 'region'] = 'eastern'\n",
    "df.loc[western, 'region'] = 'western'\n",
    "~~~"
   ]
  },
  {
   "cell_type": "code",
   "execution_count": 36,
   "id": "10f524f0",
   "metadata": {},
   "outputs": [],
   "source": [
    "df.loc[northern, 'region'] = 'northern'\n",
    "df.loc[sourthern, 'region'] = 'sourthern'\n",
    "df.loc[eastern, 'region'] = 'eastern'\n",
    "df.loc[western, 'region'] = 'western'"
   ]
  },
  {
   "cell_type": "markdown",
   "id": "69b9bc1a",
   "metadata": {},
   "source": [
    "### Split\n",
    "\n",
    "Now we can use this \"region\" column to split the data into groups, using a pandas method called `.groupby()`\n",
    "\n",
    "~~~python\n",
    "grouped_countries = df.groupby('region')\n",
    "~~~"
   ]
  },
  {
   "cell_type": "code",
   "execution_count": 37,
   "id": "b75b1928",
   "metadata": {},
   "outputs": [],
   "source": [
    "grouped_countries = df.groupby('region')"
   ]
  },
  {
   "cell_type": "markdown",
   "id": "9957fb96",
   "metadata": {},
   "source": [
    "Note that this step doesn't create a new DataFrame, it creates a special kind of pandas object that points to a grouping in the original DataFrame:\n",
    "\n",
    "~~~python\n",
    "type(grouped_countries)\n",
    "~~~"
   ]
  },
  {
   "cell_type": "code",
   "execution_count": 38,
   "id": "4ae12267",
   "metadata": {},
   "outputs": [
    {
     "data": {
      "text/plain": [
       "pandas.core.groupby.generic.DataFrameGroupBy"
      ]
     },
     "execution_count": 38,
     "metadata": {},
     "output_type": "execute_result"
    }
   ],
   "source": [
    "type(grouped_countries)"
   ]
  },
  {
   "cell_type": "markdown",
   "id": "bc236315",
   "metadata": {},
   "source": [
    "### Apply\n",
    "\n",
    "Now that we have split the data, we can apply a function separately to each group. Here we'll compute the mean GDP for each region, for each year:\n",
    "\n",
    "~~~python\n",
    "mean_gdp_by_region = grouped_countries.mean()\n",
    "~~~"
   ]
  },
  {
   "cell_type": "code",
   "execution_count": 41,
   "id": "3d9639f6",
   "metadata": {},
   "outputs": [],
   "source": [
    "mean_gdp_by_region = grouped_countries.mean()"
   ]
  },
  {
   "cell_type": "markdown",
   "id": "cffddcaf",
   "metadata": {},
   "source": [
    "### Combine\n",
    "\n",
    "The combine step actually occurred with the *apply* step above — the result is automatically combined into a table of mean values organized by region. But since our *apply* step (`.mean()`) saved the result to a variable, we can view the resulting table as the output of the *combine* step:\n",
    "\n",
    "~~~python\n",
    "mean_gdp_by_region\n",
    "~~~"
   ]
  },
  {
   "cell_type": "code",
   "execution_count": 42,
   "id": "5e797211",
   "metadata": {},
   "outputs": [
    {
     "data": {
      "application/vnd.microsoft.datawrangler.viewer.v0+json": {
       "columns": [
        {
         "name": "region",
         "rawType": "object",
         "type": "string"
        },
        {
         "name": "gdpPercap_1952",
         "rawType": "float64",
         "type": "float"
        },
        {
         "name": "gdpPercap_1957",
         "rawType": "float64",
         "type": "float"
        },
        {
         "name": "gdpPercap_1962",
         "rawType": "float64",
         "type": "float"
        },
        {
         "name": "gdpPercap_1967",
         "rawType": "float64",
         "type": "float"
        },
        {
         "name": "gdpPercap_1972",
         "rawType": "float64",
         "type": "float"
        },
        {
         "name": "gdpPercap_1977",
         "rawType": "float64",
         "type": "float"
        },
        {
         "name": "gdpPercap_1982",
         "rawType": "float64",
         "type": "float"
        },
        {
         "name": "gdpPercap_1987",
         "rawType": "float64",
         "type": "float"
        },
        {
         "name": "gdpPercap_1992",
         "rawType": "float64",
         "type": "float"
        },
        {
         "name": "gdpPercap_1997",
         "rawType": "float64",
         "type": "float"
        },
        {
         "name": "gdpPercap_2002",
         "rawType": "float64",
         "type": "float"
        },
        {
         "name": "gdpPercap_2007",
         "rawType": "float64",
         "type": "float"
        }
       ],
       "ref": "3357c412-0283-4fc1-9dd0-318435011184",
       "rows": [
        [
         "eastern",
         "3817.9165590000002",
         "4807.474924",
         "5966.2479532727275",
         "7342.686933636363",
         "8975.288468272727",
         "10596.950897909092",
         "11515.991490545455",
         "12017.828229636363",
         "8769.035358181818",
         "9815.79470990909",
         "11304.471874181818",
         "14705.881915545457"
        ],
        [
         "northern",
         "8401.571825199999",
         "9890.9854828",
         "11817.0317122",
         "14359.783322",
         "17164.045376000002",
         "19570.07228",
         "22091.364429999998",
         "25661.659678",
         "26008.794965999998",
         "29627.83097",
         "33111.979754",
         "37576.64617"
        ],
        [
         "sourthern",
         "3841.11220775",
         "4876.0825685",
         "6170.64296025",
         "8222.63215325",
         "11163.77551925",
         "12965.22898",
         "14371.4793175",
         "16033.013775",
         "18591.3680875",
         "20377.26328",
         "23822.183125",
         "26359.7107625"
        ],
        [
         "western",
         "8439.96234525",
         "10434.519899125",
         "12191.94911925",
         "14232.125299125",
         "17359.1111445",
         "19305.5040575",
         "20693.7851525",
         "22798.7124175",
         "25344.13458625",
         "27914.21480625",
         "31703.38622875",
         "35080.387365"
        ]
       ],
       "shape": {
        "columns": 12,
        "rows": 4
       }
      },
      "text/html": [
       "<div>\n",
       "<style scoped>\n",
       "    .dataframe tbody tr th:only-of-type {\n",
       "        vertical-align: middle;\n",
       "    }\n",
       "\n",
       "    .dataframe tbody tr th {\n",
       "        vertical-align: top;\n",
       "    }\n",
       "\n",
       "    .dataframe thead th {\n",
       "        text-align: right;\n",
       "    }\n",
       "</style>\n",
       "<table border=\"1\" class=\"dataframe\">\n",
       "  <thead>\n",
       "    <tr style=\"text-align: right;\">\n",
       "      <th></th>\n",
       "      <th>gdpPercap_1952</th>\n",
       "      <th>gdpPercap_1957</th>\n",
       "      <th>gdpPercap_1962</th>\n",
       "      <th>gdpPercap_1967</th>\n",
       "      <th>gdpPercap_1972</th>\n",
       "      <th>gdpPercap_1977</th>\n",
       "      <th>gdpPercap_1982</th>\n",
       "      <th>gdpPercap_1987</th>\n",
       "      <th>gdpPercap_1992</th>\n",
       "      <th>gdpPercap_1997</th>\n",
       "      <th>gdpPercap_2002</th>\n",
       "      <th>gdpPercap_2007</th>\n",
       "    </tr>\n",
       "    <tr>\n",
       "      <th>region</th>\n",
       "      <th></th>\n",
       "      <th></th>\n",
       "      <th></th>\n",
       "      <th></th>\n",
       "      <th></th>\n",
       "      <th></th>\n",
       "      <th></th>\n",
       "      <th></th>\n",
       "      <th></th>\n",
       "      <th></th>\n",
       "      <th></th>\n",
       "      <th></th>\n",
       "    </tr>\n",
       "  </thead>\n",
       "  <tbody>\n",
       "    <tr>\n",
       "      <th>eastern</th>\n",
       "      <td>3817.916559</td>\n",
       "      <td>4807.474924</td>\n",
       "      <td>5966.247953</td>\n",
       "      <td>7342.686934</td>\n",
       "      <td>8975.288468</td>\n",
       "      <td>10596.950898</td>\n",
       "      <td>11515.991491</td>\n",
       "      <td>12017.828230</td>\n",
       "      <td>8769.035358</td>\n",
       "      <td>9815.794710</td>\n",
       "      <td>11304.471874</td>\n",
       "      <td>14705.881916</td>\n",
       "    </tr>\n",
       "    <tr>\n",
       "      <th>northern</th>\n",
       "      <td>8401.571825</td>\n",
       "      <td>9890.985483</td>\n",
       "      <td>11817.031712</td>\n",
       "      <td>14359.783322</td>\n",
       "      <td>17164.045376</td>\n",
       "      <td>19570.072280</td>\n",
       "      <td>22091.364430</td>\n",
       "      <td>25661.659678</td>\n",
       "      <td>26008.794966</td>\n",
       "      <td>29627.830970</td>\n",
       "      <td>33111.979754</td>\n",
       "      <td>37576.646170</td>\n",
       "    </tr>\n",
       "    <tr>\n",
       "      <th>sourthern</th>\n",
       "      <td>3841.112208</td>\n",
       "      <td>4876.082568</td>\n",
       "      <td>6170.642960</td>\n",
       "      <td>8222.632153</td>\n",
       "      <td>11163.775519</td>\n",
       "      <td>12965.228980</td>\n",
       "      <td>14371.479317</td>\n",
       "      <td>16033.013775</td>\n",
       "      <td>18591.368087</td>\n",
       "      <td>20377.263280</td>\n",
       "      <td>23822.183125</td>\n",
       "      <td>26359.710762</td>\n",
       "    </tr>\n",
       "    <tr>\n",
       "      <th>western</th>\n",
       "      <td>8439.962345</td>\n",
       "      <td>10434.519899</td>\n",
       "      <td>12191.949119</td>\n",
       "      <td>14232.125299</td>\n",
       "      <td>17359.111144</td>\n",
       "      <td>19305.504057</td>\n",
       "      <td>20693.785153</td>\n",
       "      <td>22798.712417</td>\n",
       "      <td>25344.134586</td>\n",
       "      <td>27914.214806</td>\n",
       "      <td>31703.386229</td>\n",
       "      <td>35080.387365</td>\n",
       "    </tr>\n",
       "  </tbody>\n",
       "</table>\n",
       "</div>"
      ],
      "text/plain": [
       "           gdpPercap_1952  gdpPercap_1957  gdpPercap_1962  gdpPercap_1967  \\\n",
       "region                                                                      \n",
       "eastern       3817.916559     4807.474924     5966.247953     7342.686934   \n",
       "northern      8401.571825     9890.985483    11817.031712    14359.783322   \n",
       "sourthern     3841.112208     4876.082568     6170.642960     8222.632153   \n",
       "western       8439.962345    10434.519899    12191.949119    14232.125299   \n",
       "\n",
       "           gdpPercap_1972  gdpPercap_1977  gdpPercap_1982  gdpPercap_1987  \\\n",
       "region                                                                      \n",
       "eastern       8975.288468    10596.950898    11515.991491    12017.828230   \n",
       "northern     17164.045376    19570.072280    22091.364430    25661.659678   \n",
       "sourthern    11163.775519    12965.228980    14371.479317    16033.013775   \n",
       "western      17359.111144    19305.504057    20693.785153    22798.712417   \n",
       "\n",
       "           gdpPercap_1992  gdpPercap_1997  gdpPercap_2002  gdpPercap_2007  \n",
       "region                                                                     \n",
       "eastern       8769.035358     9815.794710    11304.471874    14705.881916  \n",
       "northern     26008.794966    29627.830970    33111.979754    37576.646170  \n",
       "sourthern    18591.368087    20377.263280    23822.183125    26359.710762  \n",
       "western      25344.134586    27914.214806    31703.386229    35080.387365  "
      ]
     },
     "execution_count": 42,
     "metadata": {},
     "output_type": "execute_result"
    }
   ],
   "source": [
    "mean_gdp_by_region"
   ]
  },
  {
   "cell_type": "markdown",
   "id": "93a5f0ea",
   "metadata": {},
   "source": [
    "### Chaining\n",
    "\n",
    "In Python, **chaining** refers to combining a number of operations in one command, using a sequence of methods. We can perform the above split-apply-combine procedure in a single step as follows. Note that because we don't assign the output to a variable name, it is displayed as output but not saved.\n",
    "\n",
    "~~~python\n",
    "df.groupby('region').mean()\n",
    "~~~"
   ]
  },
  {
   "cell_type": "code",
   "execution_count": 43,
   "id": "d443aa9b",
   "metadata": {},
   "outputs": [
    {
     "data": {
      "application/vnd.microsoft.datawrangler.viewer.v0+json": {
       "columns": [
        {
         "name": "region",
         "rawType": "object",
         "type": "string"
        },
        {
         "name": "gdpPercap_1952",
         "rawType": "float64",
         "type": "float"
        },
        {
         "name": "gdpPercap_1957",
         "rawType": "float64",
         "type": "float"
        },
        {
         "name": "gdpPercap_1962",
         "rawType": "float64",
         "type": "float"
        },
        {
         "name": "gdpPercap_1967",
         "rawType": "float64",
         "type": "float"
        },
        {
         "name": "gdpPercap_1972",
         "rawType": "float64",
         "type": "float"
        },
        {
         "name": "gdpPercap_1977",
         "rawType": "float64",
         "type": "float"
        },
        {
         "name": "gdpPercap_1982",
         "rawType": "float64",
         "type": "float"
        },
        {
         "name": "gdpPercap_1987",
         "rawType": "float64",
         "type": "float"
        },
        {
         "name": "gdpPercap_1992",
         "rawType": "float64",
         "type": "float"
        },
        {
         "name": "gdpPercap_1997",
         "rawType": "float64",
         "type": "float"
        },
        {
         "name": "gdpPercap_2002",
         "rawType": "float64",
         "type": "float"
        },
        {
         "name": "gdpPercap_2007",
         "rawType": "float64",
         "type": "float"
        }
       ],
       "ref": "b637bde7-25b3-4f50-a31b-aa94d1b3f972",
       "rows": [
        [
         "eastern",
         "3817.9165590000002",
         "4807.474924",
         "5966.2479532727275",
         "7342.686933636363",
         "8975.288468272727",
         "10596.950897909092",
         "11515.991490545455",
         "12017.828229636363",
         "8769.035358181818",
         "9815.79470990909",
         "11304.471874181818",
         "14705.881915545457"
        ],
        [
         "northern",
         "8401.571825199999",
         "9890.9854828",
         "11817.0317122",
         "14359.783322",
         "17164.045376000002",
         "19570.07228",
         "22091.364429999998",
         "25661.659678",
         "26008.794965999998",
         "29627.83097",
         "33111.979754",
         "37576.64617"
        ],
        [
         "sourthern",
         "3841.11220775",
         "4876.0825685",
         "6170.64296025",
         "8222.63215325",
         "11163.77551925",
         "12965.22898",
         "14371.4793175",
         "16033.013775",
         "18591.3680875",
         "20377.26328",
         "23822.183125",
         "26359.7107625"
        ],
        [
         "western",
         "8439.96234525",
         "10434.519899125",
         "12191.94911925",
         "14232.125299125",
         "17359.1111445",
         "19305.5040575",
         "20693.7851525",
         "22798.7124175",
         "25344.13458625",
         "27914.21480625",
         "31703.38622875",
         "35080.387365"
        ]
       ],
       "shape": {
        "columns": 12,
        "rows": 4
       }
      },
      "text/html": [
       "<div>\n",
       "<style scoped>\n",
       "    .dataframe tbody tr th:only-of-type {\n",
       "        vertical-align: middle;\n",
       "    }\n",
       "\n",
       "    .dataframe tbody tr th {\n",
       "        vertical-align: top;\n",
       "    }\n",
       "\n",
       "    .dataframe thead th {\n",
       "        text-align: right;\n",
       "    }\n",
       "</style>\n",
       "<table border=\"1\" class=\"dataframe\">\n",
       "  <thead>\n",
       "    <tr style=\"text-align: right;\">\n",
       "      <th></th>\n",
       "      <th>gdpPercap_1952</th>\n",
       "      <th>gdpPercap_1957</th>\n",
       "      <th>gdpPercap_1962</th>\n",
       "      <th>gdpPercap_1967</th>\n",
       "      <th>gdpPercap_1972</th>\n",
       "      <th>gdpPercap_1977</th>\n",
       "      <th>gdpPercap_1982</th>\n",
       "      <th>gdpPercap_1987</th>\n",
       "      <th>gdpPercap_1992</th>\n",
       "      <th>gdpPercap_1997</th>\n",
       "      <th>gdpPercap_2002</th>\n",
       "      <th>gdpPercap_2007</th>\n",
       "    </tr>\n",
       "    <tr>\n",
       "      <th>region</th>\n",
       "      <th></th>\n",
       "      <th></th>\n",
       "      <th></th>\n",
       "      <th></th>\n",
       "      <th></th>\n",
       "      <th></th>\n",
       "      <th></th>\n",
       "      <th></th>\n",
       "      <th></th>\n",
       "      <th></th>\n",
       "      <th></th>\n",
       "      <th></th>\n",
       "    </tr>\n",
       "  </thead>\n",
       "  <tbody>\n",
       "    <tr>\n",
       "      <th>eastern</th>\n",
       "      <td>3817.916559</td>\n",
       "      <td>4807.474924</td>\n",
       "      <td>5966.247953</td>\n",
       "      <td>7342.686934</td>\n",
       "      <td>8975.288468</td>\n",
       "      <td>10596.950898</td>\n",
       "      <td>11515.991491</td>\n",
       "      <td>12017.828230</td>\n",
       "      <td>8769.035358</td>\n",
       "      <td>9815.794710</td>\n",
       "      <td>11304.471874</td>\n",
       "      <td>14705.881916</td>\n",
       "    </tr>\n",
       "    <tr>\n",
       "      <th>northern</th>\n",
       "      <td>8401.571825</td>\n",
       "      <td>9890.985483</td>\n",
       "      <td>11817.031712</td>\n",
       "      <td>14359.783322</td>\n",
       "      <td>17164.045376</td>\n",
       "      <td>19570.072280</td>\n",
       "      <td>22091.364430</td>\n",
       "      <td>25661.659678</td>\n",
       "      <td>26008.794966</td>\n",
       "      <td>29627.830970</td>\n",
       "      <td>33111.979754</td>\n",
       "      <td>37576.646170</td>\n",
       "    </tr>\n",
       "    <tr>\n",
       "      <th>sourthern</th>\n",
       "      <td>3841.112208</td>\n",
       "      <td>4876.082568</td>\n",
       "      <td>6170.642960</td>\n",
       "      <td>8222.632153</td>\n",
       "      <td>11163.775519</td>\n",
       "      <td>12965.228980</td>\n",
       "      <td>14371.479317</td>\n",
       "      <td>16033.013775</td>\n",
       "      <td>18591.368087</td>\n",
       "      <td>20377.263280</td>\n",
       "      <td>23822.183125</td>\n",
       "      <td>26359.710762</td>\n",
       "    </tr>\n",
       "    <tr>\n",
       "      <th>western</th>\n",
       "      <td>8439.962345</td>\n",
       "      <td>10434.519899</td>\n",
       "      <td>12191.949119</td>\n",
       "      <td>14232.125299</td>\n",
       "      <td>17359.111144</td>\n",
       "      <td>19305.504057</td>\n",
       "      <td>20693.785153</td>\n",
       "      <td>22798.712417</td>\n",
       "      <td>25344.134586</td>\n",
       "      <td>27914.214806</td>\n",
       "      <td>31703.386229</td>\n",
       "      <td>35080.387365</td>\n",
       "    </tr>\n",
       "  </tbody>\n",
       "</table>\n",
       "</div>"
      ],
      "text/plain": [
       "           gdpPercap_1952  gdpPercap_1957  gdpPercap_1962  gdpPercap_1967  \\\n",
       "region                                                                      \n",
       "eastern       3817.916559     4807.474924     5966.247953     7342.686934   \n",
       "northern      8401.571825     9890.985483    11817.031712    14359.783322   \n",
       "sourthern     3841.112208     4876.082568     6170.642960     8222.632153   \n",
       "western       8439.962345    10434.519899    12191.949119    14232.125299   \n",
       "\n",
       "           gdpPercap_1972  gdpPercap_1977  gdpPercap_1982  gdpPercap_1987  \\\n",
       "region                                                                      \n",
       "eastern       8975.288468    10596.950898    11515.991491    12017.828230   \n",
       "northern     17164.045376    19570.072280    22091.364430    25661.659678   \n",
       "sourthern    11163.775519    12965.228980    14371.479317    16033.013775   \n",
       "western      17359.111144    19305.504057    20693.785153    22798.712417   \n",
       "\n",
       "           gdpPercap_1992  gdpPercap_1997  gdpPercap_2002  gdpPercap_2007  \n",
       "region                                                                     \n",
       "eastern       8769.035358     9815.794710    11304.471874    14705.881916  \n",
       "northern     26008.794966    29627.830970    33111.979754    37576.646170  \n",
       "sourthern    18591.368087    20377.263280    23822.183125    26359.710762  \n",
       "western      25344.134586    27914.214806    31703.386229    35080.387365  "
      ]
     },
     "execution_count": 43,
     "metadata": {},
     "output_type": "execute_result"
    }
   ],
   "source": [
    "df.groupby('region').mean()"
   ]
  },
  {
   "cell_type": "markdown",
   "id": "76bced0d",
   "metadata": {},
   "source": [
    "---\n",
    "# Exercises"
   ]
  },
  {
   "cell_type": "markdown",
   "id": "d7602c69",
   "metadata": {},
   "source": [
    "## Selecting Individual Values\n",
    "\n",
    "Write an expression to find the Per Capita GDP of Serbia in 2007."
   ]
  },
  {
   "cell_type": "code",
   "execution_count": 44,
   "id": "2a0a746f-40d1-475f-b851-dfb3899e9b00",
   "metadata": {},
   "outputs": [
    {
     "data": {
      "text/plain": [
       "np.float64(9786.534714)"
      ]
     },
     "execution_count": 44,
     "metadata": {},
     "output_type": "execute_result"
    }
   ],
   "source": [
    "df.loc['Serbia', 'gdpPercap_2007']"
   ]
  },
  {
   "cell_type": "markdown",
   "id": "dbf2ffc9",
   "metadata": {},
   "source": [
    "## Extent of Slicing\n",
    "\n",
    "1.  Do the two statements below produce the same output? (Hint: you might want to use the `.head()` method to remind yourself of the structure of the DataFrame)\n",
    "2.  Based on this, what rule governs what is included (or not) in numerical slices and named slices in Pandas?\n",
    "\n",
    "~~~python\n",
    "print(df.iloc[0:2, 0:2])\n",
    "print(df.loc['Albania':'Belgium', 'gdpPercap_1952':'gdpPercap_1962'])\n",
    "~~~"
   ]
  },
  {
   "cell_type": "code",
   "execution_count": 45,
   "id": "7a6ab979",
   "metadata": {},
   "outputs": [
    {
     "name": "stdout",
     "output_type": "stream",
     "text": [
      "         gdpPercap_1952  gdpPercap_1957\n",
      "country                                \n",
      "Albania     1601.056136     1942.284244\n",
      "Austria     6137.076492     8842.598030\n",
      "         gdpPercap_1952  gdpPercap_1957  gdpPercap_1962\n",
      "country                                                \n",
      "Albania     1601.056136     1942.284244     2312.888958\n",
      "Austria     6137.076492     8842.598030    10750.721110\n",
      "Belgium     8343.105127     9714.960623    10991.206760\n"
     ]
    }
   ],
   "source": [
    "print(df.iloc[0:2, 0:2])\n",
    "print(df.loc['Albania':'Belgium', 'gdpPercap_1952':'gdpPercap_1962'])"
   ]
  },
  {
   "cell_type": "markdown",
   "id": "e45a8b16",
   "metadata": {},
   "source": [
    "## Reconstructing Data\n",
    "\n",
    "Explain what each line in the following short program does:\n",
    "what is in `df1`, `df2`, etc.?\n",
    "\n",
    "~~~python\n",
    "df1 = pd.read_csv('data/gapminder_all.csv', index_col='country')\n",
    "df2 = df1[df1['continent'] == 'Americas']\n",
    "df3 = df2.drop('Puerto Rico')\n",
    "df4 = df3.drop('continent', axis = 1)\n",
    "df4.to_csv('result.csv')\n",
    "~~~"
   ]
  },
  {
   "cell_type": "code",
   "execution_count": 53,
   "id": "28bf18bb",
   "metadata": {},
   "outputs": [
    {
     "data": {
      "application/vnd.microsoft.datawrangler.viewer.v0+json": {
       "columns": [
        {
         "name": "country",
         "rawType": "object",
         "type": "string"
        },
        {
         "name": "gdpPercap_1952",
         "rawType": "float64",
         "type": "float"
        },
        {
         "name": "gdpPercap_1957",
         "rawType": "float64",
         "type": "float"
        },
        {
         "name": "gdpPercap_1962",
         "rawType": "float64",
         "type": "float"
        },
        {
         "name": "gdpPercap_1967",
         "rawType": "float64",
         "type": "float"
        },
        {
         "name": "gdpPercap_1972",
         "rawType": "float64",
         "type": "float"
        },
        {
         "name": "gdpPercap_1977",
         "rawType": "float64",
         "type": "float"
        },
        {
         "name": "gdpPercap_1982",
         "rawType": "float64",
         "type": "float"
        },
        {
         "name": "gdpPercap_1987",
         "rawType": "float64",
         "type": "float"
        },
        {
         "name": "gdpPercap_1992",
         "rawType": "float64",
         "type": "float"
        },
        {
         "name": "gdpPercap_1997",
         "rawType": "float64",
         "type": "float"
        },
        {
         "name": "gdpPercap_2002",
         "rawType": "float64",
         "type": "float"
        },
        {
         "name": "gdpPercap_2007",
         "rawType": "float64",
         "type": "float"
        },
        {
         "name": "lifeExp_1952",
         "rawType": "float64",
         "type": "float"
        },
        {
         "name": "lifeExp_1957",
         "rawType": "float64",
         "type": "float"
        },
        {
         "name": "lifeExp_1962",
         "rawType": "float64",
         "type": "float"
        },
        {
         "name": "lifeExp_1967",
         "rawType": "float64",
         "type": "float"
        },
        {
         "name": "lifeExp_1972",
         "rawType": "float64",
         "type": "float"
        },
        {
         "name": "lifeExp_1977",
         "rawType": "float64",
         "type": "float"
        },
        {
         "name": "lifeExp_1982",
         "rawType": "float64",
         "type": "float"
        },
        {
         "name": "lifeExp_1987",
         "rawType": "float64",
         "type": "float"
        },
        {
         "name": "lifeExp_1992",
         "rawType": "float64",
         "type": "float"
        },
        {
         "name": "lifeExp_1997",
         "rawType": "float64",
         "type": "float"
        },
        {
         "name": "lifeExp_2002",
         "rawType": "float64",
         "type": "float"
        },
        {
         "name": "lifeExp_2007",
         "rawType": "float64",
         "type": "float"
        },
        {
         "name": "pop_1952",
         "rawType": "float64",
         "type": "float"
        },
        {
         "name": "pop_1957",
         "rawType": "float64",
         "type": "float"
        },
        {
         "name": "pop_1962",
         "rawType": "float64",
         "type": "float"
        },
        {
         "name": "pop_1967",
         "rawType": "float64",
         "type": "float"
        },
        {
         "name": "pop_1972",
         "rawType": "float64",
         "type": "float"
        },
        {
         "name": "pop_1977",
         "rawType": "float64",
         "type": "float"
        },
        {
         "name": "pop_1982",
         "rawType": "float64",
         "type": "float"
        },
        {
         "name": "pop_1987",
         "rawType": "float64",
         "type": "float"
        },
        {
         "name": "pop_1992",
         "rawType": "float64",
         "type": "float"
        },
        {
         "name": "pop_1997",
         "rawType": "float64",
         "type": "float"
        },
        {
         "name": "pop_2002",
         "rawType": "int64",
         "type": "integer"
        },
        {
         "name": "pop_2007",
         "rawType": "int64",
         "type": "integer"
        }
       ],
       "ref": "ee3bdde9-8487-4e2a-86c9-785ac4f81386",
       "rows": [
        [
         "Argentina",
         "5911.315053",
         "6856.856212",
         "7133.166023",
         "8052.953021",
         "9443.038526",
         "10079.02674",
         "8997.897412",
         "9139.671389",
         "9308.41871",
         "10967.28195",
         "8797.640716",
         "12779.37964",
         "62.485",
         "64.399",
         "65.142",
         "65.634",
         "67.065",
         "68.481",
         "69.942",
         "70.774",
         "71.868",
         "73.275",
         "74.34",
         "75.32",
         "17876956.0",
         "19610538.0",
         "21283783.0",
         "22934225.0",
         "24779799.0",
         "26983828.0",
         "29341374.0",
         "31620918.0",
         "33958947.0",
         "36203463.0",
         "38331121",
         "40301927"
        ],
        [
         "Bolivia",
         "2677.326347",
         "2127.686326",
         "2180.972546",
         "2586.886053",
         "2980.331339",
         "3548.097832",
         "3156.510452",
         "2753.69149",
         "2961.699694",
         "3326.143191",
         "3413.26269",
         "3822.137084",
         "40.414",
         "41.89",
         "43.428",
         "45.032",
         "46.714",
         "50.023",
         "53.859",
         "57.251",
         "59.957",
         "62.05",
         "63.883",
         "65.554",
         "2883315.0",
         "3211738.0",
         "3593918.0",
         "4040665.0",
         "4565872.0",
         "5079716.0",
         "5642224.0",
         "6156369.0",
         "6893451.0",
         "7693188.0",
         "8445134",
         "9119152"
        ],
        [
         "Brazil",
         "2108.944355",
         "2487.365989",
         "3336.585802",
         "3429.864357",
         "4985.711467",
         "6660.118654",
         "7030.835878",
         "7807.095818",
         "6950.283021",
         "7957.980824",
         "8131.212843",
         "9065.800825",
         "50.917",
         "53.285",
         "55.665",
         "57.632",
         "59.504",
         "61.489",
         "63.336",
         "65.205",
         "67.057",
         "69.388",
         "71.006",
         "72.39",
         "56602560.0",
         "65551171.0",
         "76039390.0",
         "88049823.0",
         "100840058.0",
         "114313951.0",
         "128962939.0",
         "142938076.0",
         "155975974.0",
         "168546719.0",
         "179914212",
         "190010647"
        ],
        [
         "Canada",
         "11367.16112",
         "12489.95006",
         "13462.48555",
         "16076.58803",
         "18970.57086",
         "22090.88306",
         "22898.79214",
         "26626.51503",
         "26342.88426",
         "28954.92589",
         "33328.96507",
         "36319.23501",
         "68.75",
         "69.96",
         "71.3",
         "72.13",
         "72.88",
         "74.21",
         "75.76",
         "76.86",
         "77.95",
         "78.61",
         "79.77",
         "80.653",
         "14785584.0",
         "17010154.0",
         "18985849.0",
         "20819767.0",
         "22284500.0",
         "23796400.0",
         "25201900.0",
         "26549700.0",
         "28523502.0",
         "30305843.0",
         "31902268",
         "33390141"
        ],
        [
         "Chile",
         "3939.978789",
         "4315.622723",
         "4519.094331",
         "5106.654313",
         "5494.024437",
         "4756.763836",
         "5095.665738",
         "5547.063754",
         "7596.125964",
         "10118.05318",
         "10778.78385",
         "13171.63885",
         "54.745",
         "56.074",
         "57.924",
         "60.523",
         "63.441",
         "67.052",
         "70.565",
         "72.492",
         "74.126",
         "75.816",
         "77.86",
         "78.553",
         "6377619.0",
         "7048426.0",
         "7961258.0",
         "8858908.0",
         "9717524.0",
         "10599793.0",
         "11487112.0",
         "12463354.0",
         "13572994.0",
         "14599929.0",
         "15497046",
         "16284741"
        ],
        [
         "Colombia",
         "2144.115096",
         "2323.805581",
         "2492.351109",
         "2678.729839",
         "3264.660041",
         "3815.80787",
         "4397.575659",
         "4903.2191",
         "5444.648617",
         "6117.361746",
         "5755.259962",
         "7006.580419",
         "50.643",
         "55.118",
         "57.863",
         "59.963",
         "61.623",
         "63.837",
         "66.653",
         "67.768",
         "68.421",
         "70.313",
         "71.682",
         "72.889",
         "12350771.0",
         "14485993.0",
         "17009885.0",
         "19764027.0",
         "22542890.0",
         "25094412.0",
         "27764644.0",
         "30964245.0",
         "34202721.0",
         "37657830.0",
         "41008227",
         "44227550"
        ],
        [
         "Costa Rica",
         "2627.009471",
         "2990.010802",
         "3460.937025",
         "4161.727834",
         "5118.146939",
         "5926.876967",
         "5262.734751",
         "5629.915318",
         "6160.416317",
         "6677.045314",
         "7723.447195",
         "9645.06142",
         "57.206",
         "60.026",
         "62.842",
         "65.424",
         "67.849",
         "70.75",
         "73.45",
         "74.752",
         "75.713",
         "77.26",
         "78.123",
         "78.782",
         "926317.0",
         "1112300.0",
         "1345187.0",
         "1588717.0",
         "1834796.0",
         "2108457.0",
         "2424367.0",
         "2799811.0",
         "3173216.0",
         "3518107.0",
         "3834934",
         "4133884"
        ],
        [
         "Cuba",
         "5586.53878",
         "6092.174359",
         "5180.75591",
         "5690.268015",
         "5305.445256",
         "6380.494966",
         "7316.918107",
         "7532.924763",
         "5592.843963",
         "5431.990415",
         "6340.646683",
         "8948.102923",
         "59.421",
         "62.325",
         "65.246",
         "68.29",
         "70.723",
         "72.649",
         "73.717",
         "74.174",
         "74.414",
         "76.151",
         "77.158",
         "78.273",
         "6007797.0",
         "6640752.0",
         "7254373.0",
         "8139332.0",
         "8831348.0",
         "9537988.0",
         "9789224.0",
         "10239839.0",
         "10723260.0",
         "10983007.0",
         "11226999",
         "11416987"
        ],
        [
         "Dominican Republic",
         "1397.717137",
         "1544.402995",
         "1662.137359",
         "1653.723003",
         "2189.874499",
         "2681.9889",
         "2861.092386",
         "2899.842175",
         "3044.214214",
         "3614.101285",
         "4563.808154",
         "6025.374752",
         "45.928",
         "49.828",
         "53.459",
         "56.751",
         "59.631",
         "61.788",
         "63.727",
         "66.046",
         "68.457",
         "69.957",
         "70.847",
         "72.235",
         "2491346.0",
         "2923186.0",
         "3453434.0",
         "4049146.0",
         "4671329.0",
         "5302800.0",
         "5968349.0",
         "6655297.0",
         "7351181.0",
         "7992357.0",
         "8650322",
         "9319622"
        ],
        [
         "Ecuador",
         "3522.110717",
         "3780.546651",
         "4086.114078",
         "4579.074215",
         "5280.99471",
         "6679.62326",
         "7213.791267",
         "6481.776993",
         "7103.702595",
         "7429.455877",
         "5773.044512",
         "6873.262326",
         "48.357",
         "51.356",
         "54.64",
         "56.678",
         "58.796",
         "61.31",
         "64.342",
         "67.231",
         "69.613",
         "72.312",
         "74.173",
         "74.994",
         "3548753.0",
         "4058385.0",
         "4681707.0",
         "5432424.0",
         "6298651.0",
         "7278866.0",
         "8365850.0",
         "9545158.0",
         "10748394.0",
         "11911819.0",
         "12921234",
         "13755680"
        ],
        [
         "El Salvador",
         "3048.3029",
         "3421.523218",
         "3776.803627",
         "4358.595393",
         "4520.246008",
         "5138.922374",
         "4098.344175",
         "4140.442097",
         "4444.2317",
         "5154.825496",
         "5351.568666",
         "5728.353514",
         "45.262",
         "48.57",
         "52.307",
         "55.855",
         "58.207",
         "56.696",
         "56.604",
         "63.154",
         "66.798",
         "69.535",
         "70.734",
         "71.878",
         "2042865.0",
         "2355805.0",
         "2747687.0",
         "3232927.0",
         "3790903.0",
         "4282586.0",
         "4474873.0",
         "4842194.0",
         "5274649.0",
         "5783439.0",
         "6353681",
         "6939688"
        ],
        [
         "Guatemala",
         "2428.237769",
         "2617.155967",
         "2750.364446",
         "3242.531147",
         "4031.408271",
         "4879.992748",
         "4820.49479",
         "4246.485974",
         "4439.45084",
         "4684.313807",
         "4858.347495",
         "5186.050003",
         "42.023",
         "44.142",
         "46.954",
         "50.016",
         "53.738",
         "56.029",
         "58.137",
         "60.782",
         "63.373",
         "66.322",
         "68.978",
         "70.259",
         "3146381.0",
         "3640876.0",
         "4208858.0",
         "4690773.0",
         "5149581.0",
         "5703430.0",
         "6395630.0",
         "7326406.0",
         "8486949.0",
         "9803875.0",
         "11178650",
         "12572928"
        ],
        [
         "Haiti",
         "1840.366939",
         "1726.887882",
         "1796.589032",
         "1452.057666",
         "1654.456946",
         "1874.298931",
         "2011.159549",
         "1823.015995",
         "1456.309517",
         "1341.726931",
         "1270.364932",
         "1201.637154",
         "37.579",
         "40.696",
         "43.59",
         "46.243",
         "48.042",
         "49.923",
         "51.461",
         "53.636",
         "55.089",
         "56.671",
         "58.137",
         "60.916",
         "3201488.0",
         "3507701.0",
         "3880130.0",
         "4318137.0",
         "4698301.0",
         "4908554.0",
         "5198399.0",
         "5756203.0",
         "6326682.0",
         "6913545.0",
         "7607651",
         "8502814"
        ],
        [
         "Honduras",
         "2194.926204",
         "2220.487682",
         "2291.156835",
         "2538.269358",
         "2529.842345",
         "3203.208066",
         "3121.760794",
         "3023.096699",
         "3081.694603",
         "3160.454906",
         "3099.72866",
         "3548.330846",
         "41.912",
         "44.665",
         "48.041",
         "50.924",
         "53.884",
         "57.402",
         "60.909",
         "64.492",
         "66.399",
         "67.659",
         "68.565",
         "70.198",
         "1517453.0",
         "1770390.0",
         "2090162.0",
         "2500689.0",
         "2965146.0",
         "3055235.0",
         "3669448.0",
         "4372203.0",
         "5077347.0",
         "5867957.0",
         "6677328",
         "7483763"
        ],
        [
         "Jamaica",
         "2898.530881",
         "4756.525781",
         "5246.107524",
         "6124.703451",
         "7433.889293",
         "6650.195573",
         "6068.05135",
         "6351.237495",
         "7404.923685",
         "7121.924704",
         "6994.774861",
         "7320.880262",
         "58.53",
         "62.61",
         "65.61",
         "67.51",
         "69.0",
         "70.11",
         "71.21",
         "71.77",
         "71.766",
         "72.262",
         "72.047",
         "72.567",
         "1426095.0",
         "1535090.0",
         "1665128.0",
         "1861096.0",
         "1997616.0",
         "2156814.0",
         "2298309.0",
         "2326606.0",
         "2378618.0",
         "2531311.0",
         "2664659",
         "2780132"
        ],
        [
         "Mexico",
         "3478.125529",
         "4131.546641",
         "4581.609385",
         "5754.733883",
         "6809.40669",
         "7674.929108",
         "9611.147541",
         "8688.156003",
         "9472.384295",
         "9767.29753",
         "10742.44053",
         "11977.57496",
         "50.789",
         "55.19",
         "58.299",
         "60.11",
         "62.361",
         "65.032",
         "67.405",
         "69.498",
         "71.455",
         "73.67",
         "74.902",
         "76.195",
         "30144317.0",
         "35015548.0",
         "41121485.0",
         "47995559.0",
         "55984294.0",
         "63759976.0",
         "71640904.0",
         "80122492.0",
         "88111030.0",
         "95895146.0",
         "102479927",
         "108700891"
        ],
        [
         "Nicaragua",
         "3112.363948",
         "3457.415947",
         "3634.364406",
         "4643.393534",
         "4688.593267",
         "5486.371089",
         "3470.338156",
         "2955.984375",
         "2170.151724",
         "2253.023004",
         "2474.548819",
         "2749.320965",
         "42.314",
         "45.432",
         "48.632",
         "51.884",
         "55.151",
         "57.47",
         "59.298",
         "62.008",
         "65.843",
         "68.426",
         "70.836",
         "72.899",
         "1165790.0",
         "1358828.0",
         "1590597.0",
         "1865490.0",
         "2182908.0",
         "2554598.0",
         "2979423.0",
         "3344353.0",
         "4017939.0",
         "4609572.0",
         "5146848",
         "5675356"
        ],
        [
         "Panama",
         "2480.380334",
         "2961.800905",
         "3536.540301",
         "4421.009084",
         "5364.249663",
         "5351.912144",
         "7009.601598",
         "7034.779161",
         "6618.74305",
         "7113.692252",
         "7356.031934",
         "9809.185636",
         "55.191",
         "59.201",
         "61.817",
         "64.071",
         "66.216",
         "68.681",
         "70.472",
         "71.523",
         "72.462",
         "73.738",
         "74.712",
         "75.537",
         "940080.0",
         "1063506.0",
         "1215725.0",
         "1405486.0",
         "1616384.0",
         "1839782.0",
         "2036305.0",
         "2253639.0",
         "2484997.0",
         "2734531.0",
         "2990875",
         "3242173"
        ],
        [
         "Paraguay",
         "1952.308701",
         "2046.154706",
         "2148.027146",
         "2299.376311",
         "2523.337977",
         "3248.373311",
         "4258.503604",
         "3998.875695",
         "4196.411078",
         "4247.400261",
         "3783.674243",
         "4172.838464",
         "62.649",
         "63.196",
         "64.361",
         "64.951",
         "65.815",
         "66.353",
         "66.874",
         "67.378",
         "68.225",
         "69.4",
         "70.755",
         "71.752",
         "1555876.0",
         "1770902.0",
         "2009813.0",
         "2287985.0",
         "2614104.0",
         "2984494.0",
         "3366439.0",
         "3886512.0",
         "4483945.0",
         "5154123.0",
         "5884491",
         "6667147"
        ],
        [
         "Peru",
         "3758.523437",
         "4245.256698",
         "4957.037982",
         "5788.09333",
         "5937.827283",
         "6281.290855",
         "6434.501797",
         "6360.943444",
         "4446.380924",
         "5838.347657",
         "5909.020073",
         "7408.905561",
         "43.902",
         "46.263",
         "49.096",
         "51.445",
         "55.448",
         "58.447",
         "61.406",
         "64.134",
         "66.458",
         "68.386",
         "69.906",
         "71.421",
         "8025700.0",
         "9146100.0",
         "10516500.0",
         "12132200.0",
         "13954700.0",
         "15990099.0",
         "18125129.0",
         "20195924.0",
         "22430449.0",
         "24748122.0",
         "26769436",
         "28674757"
        ],
        [
         "Trinidad and Tobago",
         "3023.271928",
         "4100.3934",
         "4997.523971",
         "5621.368472",
         "6619.551419",
         "7899.554209",
         "9119.528607",
         "7388.597823",
         "7370.990932",
         "8792.573126",
         "11460.60023",
         "18008.50924",
         "59.1",
         "61.8",
         "64.9",
         "65.4",
         "65.9",
         "68.3",
         "68.832",
         "69.582",
         "69.862",
         "69.465",
         "68.976",
         "69.819",
         "662850.0",
         "764900.0",
         "887498.0",
         "960155.0",
         "975199.0",
         "1039009.0",
         "1116479.0",
         "1191336.0",
         "1183669.0",
         "1138101.0",
         "1101832",
         "1056608"
        ],
        [
         "United States",
         "13990.48208",
         "14847.12712",
         "16173.14586",
         "19530.36557",
         "21806.03594",
         "24072.63213",
         "25009.55914",
         "29884.35041",
         "32003.93224",
         "35767.43303",
         "39097.09955",
         "42951.65309",
         "68.44",
         "69.49",
         "70.21",
         "70.76",
         "71.34",
         "73.38",
         "74.65",
         "75.02",
         "76.09",
         "76.81",
         "77.31",
         "78.242",
         "157553000.0",
         "171984000.0",
         "186538000.0",
         "198712000.0",
         "209896000.0",
         "220239000.0",
         "232187835.0",
         "242803533.0",
         "256894189.0",
         "272911760.0",
         "287675526",
         "301139947"
        ],
        [
         "Uruguay",
         "5716.766744",
         "6150.772969",
         "5603.357717",
         "5444.61962",
         "5703.408898",
         "6504.339663",
         "6920.223051",
         "7452.398969",
         "8137.004775",
         "9230.240708",
         "7727.002004",
         "10611.46299",
         "66.071",
         "67.044",
         "68.253",
         "68.468",
         "68.673",
         "69.481",
         "70.805",
         "71.918",
         "72.752",
         "74.223",
         "75.307",
         "76.384",
         "2252965.0",
         "2424959.0",
         "2598466.0",
         "2748579.0",
         "2829526.0",
         "2873520.0",
         "2953997.0",
         "3045153.0",
         "3149262.0",
         "3262838.0",
         "3363085",
         "3447496"
        ],
        [
         "Venezuela",
         "7689.799761",
         "9802.466526",
         "8422.974165",
         "9541.474188",
         "10505.25966",
         "13143.95095",
         "11152.41011",
         "9883.584648",
         "10733.92631",
         "10165.49518",
         "8605.047831",
         "11415.80569",
         "55.088",
         "57.907",
         "60.77",
         "63.479",
         "65.712",
         "67.456",
         "68.557",
         "70.19",
         "71.15",
         "72.146",
         "72.766",
         "73.747",
         "5439568.0",
         "6702668.0",
         "8143375.0",
         "9709552.0",
         "11515649.0",
         "13503563.0",
         "15620766.0",
         "17910182.0",
         "20265563.0",
         "22374398.0",
         "24287670",
         "26084662"
        ]
       ],
       "shape": {
        "columns": 36,
        "rows": 24
       }
      },
      "text/html": [
       "<div>\n",
       "<style scoped>\n",
       "    .dataframe tbody tr th:only-of-type {\n",
       "        vertical-align: middle;\n",
       "    }\n",
       "\n",
       "    .dataframe tbody tr th {\n",
       "        vertical-align: top;\n",
       "    }\n",
       "\n",
       "    .dataframe thead th {\n",
       "        text-align: right;\n",
       "    }\n",
       "</style>\n",
       "<table border=\"1\" class=\"dataframe\">\n",
       "  <thead>\n",
       "    <tr style=\"text-align: right;\">\n",
       "      <th></th>\n",
       "      <th>gdpPercap_1952</th>\n",
       "      <th>gdpPercap_1957</th>\n",
       "      <th>gdpPercap_1962</th>\n",
       "      <th>gdpPercap_1967</th>\n",
       "      <th>gdpPercap_1972</th>\n",
       "      <th>gdpPercap_1977</th>\n",
       "      <th>gdpPercap_1982</th>\n",
       "      <th>gdpPercap_1987</th>\n",
       "      <th>gdpPercap_1992</th>\n",
       "      <th>gdpPercap_1997</th>\n",
       "      <th>...</th>\n",
       "      <th>pop_1962</th>\n",
       "      <th>pop_1967</th>\n",
       "      <th>pop_1972</th>\n",
       "      <th>pop_1977</th>\n",
       "      <th>pop_1982</th>\n",
       "      <th>pop_1987</th>\n",
       "      <th>pop_1992</th>\n",
       "      <th>pop_1997</th>\n",
       "      <th>pop_2002</th>\n",
       "      <th>pop_2007</th>\n",
       "    </tr>\n",
       "    <tr>\n",
       "      <th>country</th>\n",
       "      <th></th>\n",
       "      <th></th>\n",
       "      <th></th>\n",
       "      <th></th>\n",
       "      <th></th>\n",
       "      <th></th>\n",
       "      <th></th>\n",
       "      <th></th>\n",
       "      <th></th>\n",
       "      <th></th>\n",
       "      <th></th>\n",
       "      <th></th>\n",
       "      <th></th>\n",
       "      <th></th>\n",
       "      <th></th>\n",
       "      <th></th>\n",
       "      <th></th>\n",
       "      <th></th>\n",
       "      <th></th>\n",
       "      <th></th>\n",
       "      <th></th>\n",
       "    </tr>\n",
       "  </thead>\n",
       "  <tbody>\n",
       "    <tr>\n",
       "      <th>Argentina</th>\n",
       "      <td>5911.315053</td>\n",
       "      <td>6856.856212</td>\n",
       "      <td>7133.166023</td>\n",
       "      <td>8052.953021</td>\n",
       "      <td>9443.038526</td>\n",
       "      <td>10079.026740</td>\n",
       "      <td>8997.897412</td>\n",
       "      <td>9139.671389</td>\n",
       "      <td>9308.418710</td>\n",
       "      <td>10967.281950</td>\n",
       "      <td>...</td>\n",
       "      <td>21283783.0</td>\n",
       "      <td>22934225.0</td>\n",
       "      <td>24779799.0</td>\n",
       "      <td>26983828.0</td>\n",
       "      <td>29341374.0</td>\n",
       "      <td>31620918.0</td>\n",
       "      <td>33958947.0</td>\n",
       "      <td>36203463.0</td>\n",
       "      <td>38331121</td>\n",
       "      <td>40301927</td>\n",
       "    </tr>\n",
       "    <tr>\n",
       "      <th>Bolivia</th>\n",
       "      <td>2677.326347</td>\n",
       "      <td>2127.686326</td>\n",
       "      <td>2180.972546</td>\n",
       "      <td>2586.886053</td>\n",
       "      <td>2980.331339</td>\n",
       "      <td>3548.097832</td>\n",
       "      <td>3156.510452</td>\n",
       "      <td>2753.691490</td>\n",
       "      <td>2961.699694</td>\n",
       "      <td>3326.143191</td>\n",
       "      <td>...</td>\n",
       "      <td>3593918.0</td>\n",
       "      <td>4040665.0</td>\n",
       "      <td>4565872.0</td>\n",
       "      <td>5079716.0</td>\n",
       "      <td>5642224.0</td>\n",
       "      <td>6156369.0</td>\n",
       "      <td>6893451.0</td>\n",
       "      <td>7693188.0</td>\n",
       "      <td>8445134</td>\n",
       "      <td>9119152</td>\n",
       "    </tr>\n",
       "    <tr>\n",
       "      <th>Brazil</th>\n",
       "      <td>2108.944355</td>\n",
       "      <td>2487.365989</td>\n",
       "      <td>3336.585802</td>\n",
       "      <td>3429.864357</td>\n",
       "      <td>4985.711467</td>\n",
       "      <td>6660.118654</td>\n",
       "      <td>7030.835878</td>\n",
       "      <td>7807.095818</td>\n",
       "      <td>6950.283021</td>\n",
       "      <td>7957.980824</td>\n",
       "      <td>...</td>\n",
       "      <td>76039390.0</td>\n",
       "      <td>88049823.0</td>\n",
       "      <td>100840058.0</td>\n",
       "      <td>114313951.0</td>\n",
       "      <td>128962939.0</td>\n",
       "      <td>142938076.0</td>\n",
       "      <td>155975974.0</td>\n",
       "      <td>168546719.0</td>\n",
       "      <td>179914212</td>\n",
       "      <td>190010647</td>\n",
       "    </tr>\n",
       "    <tr>\n",
       "      <th>Canada</th>\n",
       "      <td>11367.161120</td>\n",
       "      <td>12489.950060</td>\n",
       "      <td>13462.485550</td>\n",
       "      <td>16076.588030</td>\n",
       "      <td>18970.570860</td>\n",
       "      <td>22090.883060</td>\n",
       "      <td>22898.792140</td>\n",
       "      <td>26626.515030</td>\n",
       "      <td>26342.884260</td>\n",
       "      <td>28954.925890</td>\n",
       "      <td>...</td>\n",
       "      <td>18985849.0</td>\n",
       "      <td>20819767.0</td>\n",
       "      <td>22284500.0</td>\n",
       "      <td>23796400.0</td>\n",
       "      <td>25201900.0</td>\n",
       "      <td>26549700.0</td>\n",
       "      <td>28523502.0</td>\n",
       "      <td>30305843.0</td>\n",
       "      <td>31902268</td>\n",
       "      <td>33390141</td>\n",
       "    </tr>\n",
       "    <tr>\n",
       "      <th>Chile</th>\n",
       "      <td>3939.978789</td>\n",
       "      <td>4315.622723</td>\n",
       "      <td>4519.094331</td>\n",
       "      <td>5106.654313</td>\n",
       "      <td>5494.024437</td>\n",
       "      <td>4756.763836</td>\n",
       "      <td>5095.665738</td>\n",
       "      <td>5547.063754</td>\n",
       "      <td>7596.125964</td>\n",
       "      <td>10118.053180</td>\n",
       "      <td>...</td>\n",
       "      <td>7961258.0</td>\n",
       "      <td>8858908.0</td>\n",
       "      <td>9717524.0</td>\n",
       "      <td>10599793.0</td>\n",
       "      <td>11487112.0</td>\n",
       "      <td>12463354.0</td>\n",
       "      <td>13572994.0</td>\n",
       "      <td>14599929.0</td>\n",
       "      <td>15497046</td>\n",
       "      <td>16284741</td>\n",
       "    </tr>\n",
       "    <tr>\n",
       "      <th>Colombia</th>\n",
       "      <td>2144.115096</td>\n",
       "      <td>2323.805581</td>\n",
       "      <td>2492.351109</td>\n",
       "      <td>2678.729839</td>\n",
       "      <td>3264.660041</td>\n",
       "      <td>3815.807870</td>\n",
       "      <td>4397.575659</td>\n",
       "      <td>4903.219100</td>\n",
       "      <td>5444.648617</td>\n",
       "      <td>6117.361746</td>\n",
       "      <td>...</td>\n",
       "      <td>17009885.0</td>\n",
       "      <td>19764027.0</td>\n",
       "      <td>22542890.0</td>\n",
       "      <td>25094412.0</td>\n",
       "      <td>27764644.0</td>\n",
       "      <td>30964245.0</td>\n",
       "      <td>34202721.0</td>\n",
       "      <td>37657830.0</td>\n",
       "      <td>41008227</td>\n",
       "      <td>44227550</td>\n",
       "    </tr>\n",
       "    <tr>\n",
       "      <th>Costa Rica</th>\n",
       "      <td>2627.009471</td>\n",
       "      <td>2990.010802</td>\n",
       "      <td>3460.937025</td>\n",
       "      <td>4161.727834</td>\n",
       "      <td>5118.146939</td>\n",
       "      <td>5926.876967</td>\n",
       "      <td>5262.734751</td>\n",
       "      <td>5629.915318</td>\n",
       "      <td>6160.416317</td>\n",
       "      <td>6677.045314</td>\n",
       "      <td>...</td>\n",
       "      <td>1345187.0</td>\n",
       "      <td>1588717.0</td>\n",
       "      <td>1834796.0</td>\n",
       "      <td>2108457.0</td>\n",
       "      <td>2424367.0</td>\n",
       "      <td>2799811.0</td>\n",
       "      <td>3173216.0</td>\n",
       "      <td>3518107.0</td>\n",
       "      <td>3834934</td>\n",
       "      <td>4133884</td>\n",
       "    </tr>\n",
       "    <tr>\n",
       "      <th>Cuba</th>\n",
       "      <td>5586.538780</td>\n",
       "      <td>6092.174359</td>\n",
       "      <td>5180.755910</td>\n",
       "      <td>5690.268015</td>\n",
       "      <td>5305.445256</td>\n",
       "      <td>6380.494966</td>\n",
       "      <td>7316.918107</td>\n",
       "      <td>7532.924763</td>\n",
       "      <td>5592.843963</td>\n",
       "      <td>5431.990415</td>\n",
       "      <td>...</td>\n",
       "      <td>7254373.0</td>\n",
       "      <td>8139332.0</td>\n",
       "      <td>8831348.0</td>\n",
       "      <td>9537988.0</td>\n",
       "      <td>9789224.0</td>\n",
       "      <td>10239839.0</td>\n",
       "      <td>10723260.0</td>\n",
       "      <td>10983007.0</td>\n",
       "      <td>11226999</td>\n",
       "      <td>11416987</td>\n",
       "    </tr>\n",
       "    <tr>\n",
       "      <th>Dominican Republic</th>\n",
       "      <td>1397.717137</td>\n",
       "      <td>1544.402995</td>\n",
       "      <td>1662.137359</td>\n",
       "      <td>1653.723003</td>\n",
       "      <td>2189.874499</td>\n",
       "      <td>2681.988900</td>\n",
       "      <td>2861.092386</td>\n",
       "      <td>2899.842175</td>\n",
       "      <td>3044.214214</td>\n",
       "      <td>3614.101285</td>\n",
       "      <td>...</td>\n",
       "      <td>3453434.0</td>\n",
       "      <td>4049146.0</td>\n",
       "      <td>4671329.0</td>\n",
       "      <td>5302800.0</td>\n",
       "      <td>5968349.0</td>\n",
       "      <td>6655297.0</td>\n",
       "      <td>7351181.0</td>\n",
       "      <td>7992357.0</td>\n",
       "      <td>8650322</td>\n",
       "      <td>9319622</td>\n",
       "    </tr>\n",
       "    <tr>\n",
       "      <th>Ecuador</th>\n",
       "      <td>3522.110717</td>\n",
       "      <td>3780.546651</td>\n",
       "      <td>4086.114078</td>\n",
       "      <td>4579.074215</td>\n",
       "      <td>5280.994710</td>\n",
       "      <td>6679.623260</td>\n",
       "      <td>7213.791267</td>\n",
       "      <td>6481.776993</td>\n",
       "      <td>7103.702595</td>\n",
       "      <td>7429.455877</td>\n",
       "      <td>...</td>\n",
       "      <td>4681707.0</td>\n",
       "      <td>5432424.0</td>\n",
       "      <td>6298651.0</td>\n",
       "      <td>7278866.0</td>\n",
       "      <td>8365850.0</td>\n",
       "      <td>9545158.0</td>\n",
       "      <td>10748394.0</td>\n",
       "      <td>11911819.0</td>\n",
       "      <td>12921234</td>\n",
       "      <td>13755680</td>\n",
       "    </tr>\n",
       "    <tr>\n",
       "      <th>El Salvador</th>\n",
       "      <td>3048.302900</td>\n",
       "      <td>3421.523218</td>\n",
       "      <td>3776.803627</td>\n",
       "      <td>4358.595393</td>\n",
       "      <td>4520.246008</td>\n",
       "      <td>5138.922374</td>\n",
       "      <td>4098.344175</td>\n",
       "      <td>4140.442097</td>\n",
       "      <td>4444.231700</td>\n",
       "      <td>5154.825496</td>\n",
       "      <td>...</td>\n",
       "      <td>2747687.0</td>\n",
       "      <td>3232927.0</td>\n",
       "      <td>3790903.0</td>\n",
       "      <td>4282586.0</td>\n",
       "      <td>4474873.0</td>\n",
       "      <td>4842194.0</td>\n",
       "      <td>5274649.0</td>\n",
       "      <td>5783439.0</td>\n",
       "      <td>6353681</td>\n",
       "      <td>6939688</td>\n",
       "    </tr>\n",
       "    <tr>\n",
       "      <th>Guatemala</th>\n",
       "      <td>2428.237769</td>\n",
       "      <td>2617.155967</td>\n",
       "      <td>2750.364446</td>\n",
       "      <td>3242.531147</td>\n",
       "      <td>4031.408271</td>\n",
       "      <td>4879.992748</td>\n",
       "      <td>4820.494790</td>\n",
       "      <td>4246.485974</td>\n",
       "      <td>4439.450840</td>\n",
       "      <td>4684.313807</td>\n",
       "      <td>...</td>\n",
       "      <td>4208858.0</td>\n",
       "      <td>4690773.0</td>\n",
       "      <td>5149581.0</td>\n",
       "      <td>5703430.0</td>\n",
       "      <td>6395630.0</td>\n",
       "      <td>7326406.0</td>\n",
       "      <td>8486949.0</td>\n",
       "      <td>9803875.0</td>\n",
       "      <td>11178650</td>\n",
       "      <td>12572928</td>\n",
       "    </tr>\n",
       "    <tr>\n",
       "      <th>Haiti</th>\n",
       "      <td>1840.366939</td>\n",
       "      <td>1726.887882</td>\n",
       "      <td>1796.589032</td>\n",
       "      <td>1452.057666</td>\n",
       "      <td>1654.456946</td>\n",
       "      <td>1874.298931</td>\n",
       "      <td>2011.159549</td>\n",
       "      <td>1823.015995</td>\n",
       "      <td>1456.309517</td>\n",
       "      <td>1341.726931</td>\n",
       "      <td>...</td>\n",
       "      <td>3880130.0</td>\n",
       "      <td>4318137.0</td>\n",
       "      <td>4698301.0</td>\n",
       "      <td>4908554.0</td>\n",
       "      <td>5198399.0</td>\n",
       "      <td>5756203.0</td>\n",
       "      <td>6326682.0</td>\n",
       "      <td>6913545.0</td>\n",
       "      <td>7607651</td>\n",
       "      <td>8502814</td>\n",
       "    </tr>\n",
       "    <tr>\n",
       "      <th>Honduras</th>\n",
       "      <td>2194.926204</td>\n",
       "      <td>2220.487682</td>\n",
       "      <td>2291.156835</td>\n",
       "      <td>2538.269358</td>\n",
       "      <td>2529.842345</td>\n",
       "      <td>3203.208066</td>\n",
       "      <td>3121.760794</td>\n",
       "      <td>3023.096699</td>\n",
       "      <td>3081.694603</td>\n",
       "      <td>3160.454906</td>\n",
       "      <td>...</td>\n",
       "      <td>2090162.0</td>\n",
       "      <td>2500689.0</td>\n",
       "      <td>2965146.0</td>\n",
       "      <td>3055235.0</td>\n",
       "      <td>3669448.0</td>\n",
       "      <td>4372203.0</td>\n",
       "      <td>5077347.0</td>\n",
       "      <td>5867957.0</td>\n",
       "      <td>6677328</td>\n",
       "      <td>7483763</td>\n",
       "    </tr>\n",
       "    <tr>\n",
       "      <th>Jamaica</th>\n",
       "      <td>2898.530881</td>\n",
       "      <td>4756.525781</td>\n",
       "      <td>5246.107524</td>\n",
       "      <td>6124.703451</td>\n",
       "      <td>7433.889293</td>\n",
       "      <td>6650.195573</td>\n",
       "      <td>6068.051350</td>\n",
       "      <td>6351.237495</td>\n",
       "      <td>7404.923685</td>\n",
       "      <td>7121.924704</td>\n",
       "      <td>...</td>\n",
       "      <td>1665128.0</td>\n",
       "      <td>1861096.0</td>\n",
       "      <td>1997616.0</td>\n",
       "      <td>2156814.0</td>\n",
       "      <td>2298309.0</td>\n",
       "      <td>2326606.0</td>\n",
       "      <td>2378618.0</td>\n",
       "      <td>2531311.0</td>\n",
       "      <td>2664659</td>\n",
       "      <td>2780132</td>\n",
       "    </tr>\n",
       "    <tr>\n",
       "      <th>Mexico</th>\n",
       "      <td>3478.125529</td>\n",
       "      <td>4131.546641</td>\n",
       "      <td>4581.609385</td>\n",
       "      <td>5754.733883</td>\n",
       "      <td>6809.406690</td>\n",
       "      <td>7674.929108</td>\n",
       "      <td>9611.147541</td>\n",
       "      <td>8688.156003</td>\n",
       "      <td>9472.384295</td>\n",
       "      <td>9767.297530</td>\n",
       "      <td>...</td>\n",
       "      <td>41121485.0</td>\n",
       "      <td>47995559.0</td>\n",
       "      <td>55984294.0</td>\n",
       "      <td>63759976.0</td>\n",
       "      <td>71640904.0</td>\n",
       "      <td>80122492.0</td>\n",
       "      <td>88111030.0</td>\n",
       "      <td>95895146.0</td>\n",
       "      <td>102479927</td>\n",
       "      <td>108700891</td>\n",
       "    </tr>\n",
       "    <tr>\n",
       "      <th>Nicaragua</th>\n",
       "      <td>3112.363948</td>\n",
       "      <td>3457.415947</td>\n",
       "      <td>3634.364406</td>\n",
       "      <td>4643.393534</td>\n",
       "      <td>4688.593267</td>\n",
       "      <td>5486.371089</td>\n",
       "      <td>3470.338156</td>\n",
       "      <td>2955.984375</td>\n",
       "      <td>2170.151724</td>\n",
       "      <td>2253.023004</td>\n",
       "      <td>...</td>\n",
       "      <td>1590597.0</td>\n",
       "      <td>1865490.0</td>\n",
       "      <td>2182908.0</td>\n",
       "      <td>2554598.0</td>\n",
       "      <td>2979423.0</td>\n",
       "      <td>3344353.0</td>\n",
       "      <td>4017939.0</td>\n",
       "      <td>4609572.0</td>\n",
       "      <td>5146848</td>\n",
       "      <td>5675356</td>\n",
       "    </tr>\n",
       "    <tr>\n",
       "      <th>Panama</th>\n",
       "      <td>2480.380334</td>\n",
       "      <td>2961.800905</td>\n",
       "      <td>3536.540301</td>\n",
       "      <td>4421.009084</td>\n",
       "      <td>5364.249663</td>\n",
       "      <td>5351.912144</td>\n",
       "      <td>7009.601598</td>\n",
       "      <td>7034.779161</td>\n",
       "      <td>6618.743050</td>\n",
       "      <td>7113.692252</td>\n",
       "      <td>...</td>\n",
       "      <td>1215725.0</td>\n",
       "      <td>1405486.0</td>\n",
       "      <td>1616384.0</td>\n",
       "      <td>1839782.0</td>\n",
       "      <td>2036305.0</td>\n",
       "      <td>2253639.0</td>\n",
       "      <td>2484997.0</td>\n",
       "      <td>2734531.0</td>\n",
       "      <td>2990875</td>\n",
       "      <td>3242173</td>\n",
       "    </tr>\n",
       "    <tr>\n",
       "      <th>Paraguay</th>\n",
       "      <td>1952.308701</td>\n",
       "      <td>2046.154706</td>\n",
       "      <td>2148.027146</td>\n",
       "      <td>2299.376311</td>\n",
       "      <td>2523.337977</td>\n",
       "      <td>3248.373311</td>\n",
       "      <td>4258.503604</td>\n",
       "      <td>3998.875695</td>\n",
       "      <td>4196.411078</td>\n",
       "      <td>4247.400261</td>\n",
       "      <td>...</td>\n",
       "      <td>2009813.0</td>\n",
       "      <td>2287985.0</td>\n",
       "      <td>2614104.0</td>\n",
       "      <td>2984494.0</td>\n",
       "      <td>3366439.0</td>\n",
       "      <td>3886512.0</td>\n",
       "      <td>4483945.0</td>\n",
       "      <td>5154123.0</td>\n",
       "      <td>5884491</td>\n",
       "      <td>6667147</td>\n",
       "    </tr>\n",
       "    <tr>\n",
       "      <th>Peru</th>\n",
       "      <td>3758.523437</td>\n",
       "      <td>4245.256698</td>\n",
       "      <td>4957.037982</td>\n",
       "      <td>5788.093330</td>\n",
       "      <td>5937.827283</td>\n",
       "      <td>6281.290855</td>\n",
       "      <td>6434.501797</td>\n",
       "      <td>6360.943444</td>\n",
       "      <td>4446.380924</td>\n",
       "      <td>5838.347657</td>\n",
       "      <td>...</td>\n",
       "      <td>10516500.0</td>\n",
       "      <td>12132200.0</td>\n",
       "      <td>13954700.0</td>\n",
       "      <td>15990099.0</td>\n",
       "      <td>18125129.0</td>\n",
       "      <td>20195924.0</td>\n",
       "      <td>22430449.0</td>\n",
       "      <td>24748122.0</td>\n",
       "      <td>26769436</td>\n",
       "      <td>28674757</td>\n",
       "    </tr>\n",
       "    <tr>\n",
       "      <th>Trinidad and Tobago</th>\n",
       "      <td>3023.271928</td>\n",
       "      <td>4100.393400</td>\n",
       "      <td>4997.523971</td>\n",
       "      <td>5621.368472</td>\n",
       "      <td>6619.551419</td>\n",
       "      <td>7899.554209</td>\n",
       "      <td>9119.528607</td>\n",
       "      <td>7388.597823</td>\n",
       "      <td>7370.990932</td>\n",
       "      <td>8792.573126</td>\n",
       "      <td>...</td>\n",
       "      <td>887498.0</td>\n",
       "      <td>960155.0</td>\n",
       "      <td>975199.0</td>\n",
       "      <td>1039009.0</td>\n",
       "      <td>1116479.0</td>\n",
       "      <td>1191336.0</td>\n",
       "      <td>1183669.0</td>\n",
       "      <td>1138101.0</td>\n",
       "      <td>1101832</td>\n",
       "      <td>1056608</td>\n",
       "    </tr>\n",
       "    <tr>\n",
       "      <th>United States</th>\n",
       "      <td>13990.482080</td>\n",
       "      <td>14847.127120</td>\n",
       "      <td>16173.145860</td>\n",
       "      <td>19530.365570</td>\n",
       "      <td>21806.035940</td>\n",
       "      <td>24072.632130</td>\n",
       "      <td>25009.559140</td>\n",
       "      <td>29884.350410</td>\n",
       "      <td>32003.932240</td>\n",
       "      <td>35767.433030</td>\n",
       "      <td>...</td>\n",
       "      <td>186538000.0</td>\n",
       "      <td>198712000.0</td>\n",
       "      <td>209896000.0</td>\n",
       "      <td>220239000.0</td>\n",
       "      <td>232187835.0</td>\n",
       "      <td>242803533.0</td>\n",
       "      <td>256894189.0</td>\n",
       "      <td>272911760.0</td>\n",
       "      <td>287675526</td>\n",
       "      <td>301139947</td>\n",
       "    </tr>\n",
       "    <tr>\n",
       "      <th>Uruguay</th>\n",
       "      <td>5716.766744</td>\n",
       "      <td>6150.772969</td>\n",
       "      <td>5603.357717</td>\n",
       "      <td>5444.619620</td>\n",
       "      <td>5703.408898</td>\n",
       "      <td>6504.339663</td>\n",
       "      <td>6920.223051</td>\n",
       "      <td>7452.398969</td>\n",
       "      <td>8137.004775</td>\n",
       "      <td>9230.240708</td>\n",
       "      <td>...</td>\n",
       "      <td>2598466.0</td>\n",
       "      <td>2748579.0</td>\n",
       "      <td>2829526.0</td>\n",
       "      <td>2873520.0</td>\n",
       "      <td>2953997.0</td>\n",
       "      <td>3045153.0</td>\n",
       "      <td>3149262.0</td>\n",
       "      <td>3262838.0</td>\n",
       "      <td>3363085</td>\n",
       "      <td>3447496</td>\n",
       "    </tr>\n",
       "    <tr>\n",
       "      <th>Venezuela</th>\n",
       "      <td>7689.799761</td>\n",
       "      <td>9802.466526</td>\n",
       "      <td>8422.974165</td>\n",
       "      <td>9541.474188</td>\n",
       "      <td>10505.259660</td>\n",
       "      <td>13143.950950</td>\n",
       "      <td>11152.410110</td>\n",
       "      <td>9883.584648</td>\n",
       "      <td>10733.926310</td>\n",
       "      <td>10165.495180</td>\n",
       "      <td>...</td>\n",
       "      <td>8143375.0</td>\n",
       "      <td>9709552.0</td>\n",
       "      <td>11515649.0</td>\n",
       "      <td>13503563.0</td>\n",
       "      <td>15620766.0</td>\n",
       "      <td>17910182.0</td>\n",
       "      <td>20265563.0</td>\n",
       "      <td>22374398.0</td>\n",
       "      <td>24287670</td>\n",
       "      <td>26084662</td>\n",
       "    </tr>\n",
       "  </tbody>\n",
       "</table>\n",
       "<p>24 rows × 36 columns</p>\n",
       "</div>"
      ],
      "text/plain": [
       "                     gdpPercap_1952  gdpPercap_1957  gdpPercap_1962  \\\n",
       "country                                                               \n",
       "Argentina               5911.315053     6856.856212     7133.166023   \n",
       "Bolivia                 2677.326347     2127.686326     2180.972546   \n",
       "Brazil                  2108.944355     2487.365989     3336.585802   \n",
       "Canada                 11367.161120    12489.950060    13462.485550   \n",
       "Chile                   3939.978789     4315.622723     4519.094331   \n",
       "Colombia                2144.115096     2323.805581     2492.351109   \n",
       "Costa Rica              2627.009471     2990.010802     3460.937025   \n",
       "Cuba                    5586.538780     6092.174359     5180.755910   \n",
       "Dominican Republic      1397.717137     1544.402995     1662.137359   \n",
       "Ecuador                 3522.110717     3780.546651     4086.114078   \n",
       "El Salvador             3048.302900     3421.523218     3776.803627   \n",
       "Guatemala               2428.237769     2617.155967     2750.364446   \n",
       "Haiti                   1840.366939     1726.887882     1796.589032   \n",
       "Honduras                2194.926204     2220.487682     2291.156835   \n",
       "Jamaica                 2898.530881     4756.525781     5246.107524   \n",
       "Mexico                  3478.125529     4131.546641     4581.609385   \n",
       "Nicaragua               3112.363948     3457.415947     3634.364406   \n",
       "Panama                  2480.380334     2961.800905     3536.540301   \n",
       "Paraguay                1952.308701     2046.154706     2148.027146   \n",
       "Peru                    3758.523437     4245.256698     4957.037982   \n",
       "Trinidad and Tobago     3023.271928     4100.393400     4997.523971   \n",
       "United States          13990.482080    14847.127120    16173.145860   \n",
       "Uruguay                 5716.766744     6150.772969     5603.357717   \n",
       "Venezuela               7689.799761     9802.466526     8422.974165   \n",
       "\n",
       "                     gdpPercap_1967  gdpPercap_1972  gdpPercap_1977  \\\n",
       "country                                                               \n",
       "Argentina               8052.953021     9443.038526    10079.026740   \n",
       "Bolivia                 2586.886053     2980.331339     3548.097832   \n",
       "Brazil                  3429.864357     4985.711467     6660.118654   \n",
       "Canada                 16076.588030    18970.570860    22090.883060   \n",
       "Chile                   5106.654313     5494.024437     4756.763836   \n",
       "Colombia                2678.729839     3264.660041     3815.807870   \n",
       "Costa Rica              4161.727834     5118.146939     5926.876967   \n",
       "Cuba                    5690.268015     5305.445256     6380.494966   \n",
       "Dominican Republic      1653.723003     2189.874499     2681.988900   \n",
       "Ecuador                 4579.074215     5280.994710     6679.623260   \n",
       "El Salvador             4358.595393     4520.246008     5138.922374   \n",
       "Guatemala               3242.531147     4031.408271     4879.992748   \n",
       "Haiti                   1452.057666     1654.456946     1874.298931   \n",
       "Honduras                2538.269358     2529.842345     3203.208066   \n",
       "Jamaica                 6124.703451     7433.889293     6650.195573   \n",
       "Mexico                  5754.733883     6809.406690     7674.929108   \n",
       "Nicaragua               4643.393534     4688.593267     5486.371089   \n",
       "Panama                  4421.009084     5364.249663     5351.912144   \n",
       "Paraguay                2299.376311     2523.337977     3248.373311   \n",
       "Peru                    5788.093330     5937.827283     6281.290855   \n",
       "Trinidad and Tobago     5621.368472     6619.551419     7899.554209   \n",
       "United States          19530.365570    21806.035940    24072.632130   \n",
       "Uruguay                 5444.619620     5703.408898     6504.339663   \n",
       "Venezuela               9541.474188    10505.259660    13143.950950   \n",
       "\n",
       "                     gdpPercap_1982  gdpPercap_1987  gdpPercap_1992  \\\n",
       "country                                                               \n",
       "Argentina               8997.897412     9139.671389     9308.418710   \n",
       "Bolivia                 3156.510452     2753.691490     2961.699694   \n",
       "Brazil                  7030.835878     7807.095818     6950.283021   \n",
       "Canada                 22898.792140    26626.515030    26342.884260   \n",
       "Chile                   5095.665738     5547.063754     7596.125964   \n",
       "Colombia                4397.575659     4903.219100     5444.648617   \n",
       "Costa Rica              5262.734751     5629.915318     6160.416317   \n",
       "Cuba                    7316.918107     7532.924763     5592.843963   \n",
       "Dominican Republic      2861.092386     2899.842175     3044.214214   \n",
       "Ecuador                 7213.791267     6481.776993     7103.702595   \n",
       "El Salvador             4098.344175     4140.442097     4444.231700   \n",
       "Guatemala               4820.494790     4246.485974     4439.450840   \n",
       "Haiti                   2011.159549     1823.015995     1456.309517   \n",
       "Honduras                3121.760794     3023.096699     3081.694603   \n",
       "Jamaica                 6068.051350     6351.237495     7404.923685   \n",
       "Mexico                  9611.147541     8688.156003     9472.384295   \n",
       "Nicaragua               3470.338156     2955.984375     2170.151724   \n",
       "Panama                  7009.601598     7034.779161     6618.743050   \n",
       "Paraguay                4258.503604     3998.875695     4196.411078   \n",
       "Peru                    6434.501797     6360.943444     4446.380924   \n",
       "Trinidad and Tobago     9119.528607     7388.597823     7370.990932   \n",
       "United States          25009.559140    29884.350410    32003.932240   \n",
       "Uruguay                 6920.223051     7452.398969     8137.004775   \n",
       "Venezuela              11152.410110     9883.584648    10733.926310   \n",
       "\n",
       "                     gdpPercap_1997  ...     pop_1962     pop_1967  \\\n",
       "country                              ...                             \n",
       "Argentina              10967.281950  ...   21283783.0   22934225.0   \n",
       "Bolivia                 3326.143191  ...    3593918.0    4040665.0   \n",
       "Brazil                  7957.980824  ...   76039390.0   88049823.0   \n",
       "Canada                 28954.925890  ...   18985849.0   20819767.0   \n",
       "Chile                  10118.053180  ...    7961258.0    8858908.0   \n",
       "Colombia                6117.361746  ...   17009885.0   19764027.0   \n",
       "Costa Rica              6677.045314  ...    1345187.0    1588717.0   \n",
       "Cuba                    5431.990415  ...    7254373.0    8139332.0   \n",
       "Dominican Republic      3614.101285  ...    3453434.0    4049146.0   \n",
       "Ecuador                 7429.455877  ...    4681707.0    5432424.0   \n",
       "El Salvador             5154.825496  ...    2747687.0    3232927.0   \n",
       "Guatemala               4684.313807  ...    4208858.0    4690773.0   \n",
       "Haiti                   1341.726931  ...    3880130.0    4318137.0   \n",
       "Honduras                3160.454906  ...    2090162.0    2500689.0   \n",
       "Jamaica                 7121.924704  ...    1665128.0    1861096.0   \n",
       "Mexico                  9767.297530  ...   41121485.0   47995559.0   \n",
       "Nicaragua               2253.023004  ...    1590597.0    1865490.0   \n",
       "Panama                  7113.692252  ...    1215725.0    1405486.0   \n",
       "Paraguay                4247.400261  ...    2009813.0    2287985.0   \n",
       "Peru                    5838.347657  ...   10516500.0   12132200.0   \n",
       "Trinidad and Tobago     8792.573126  ...     887498.0     960155.0   \n",
       "United States          35767.433030  ...  186538000.0  198712000.0   \n",
       "Uruguay                 9230.240708  ...    2598466.0    2748579.0   \n",
       "Venezuela              10165.495180  ...    8143375.0    9709552.0   \n",
       "\n",
       "                        pop_1972     pop_1977     pop_1982     pop_1987  \\\n",
       "country                                                                   \n",
       "Argentina             24779799.0   26983828.0   29341374.0   31620918.0   \n",
       "Bolivia                4565872.0    5079716.0    5642224.0    6156369.0   \n",
       "Brazil               100840058.0  114313951.0  128962939.0  142938076.0   \n",
       "Canada                22284500.0   23796400.0   25201900.0   26549700.0   \n",
       "Chile                  9717524.0   10599793.0   11487112.0   12463354.0   \n",
       "Colombia              22542890.0   25094412.0   27764644.0   30964245.0   \n",
       "Costa Rica             1834796.0    2108457.0    2424367.0    2799811.0   \n",
       "Cuba                   8831348.0    9537988.0    9789224.0   10239839.0   \n",
       "Dominican Republic     4671329.0    5302800.0    5968349.0    6655297.0   \n",
       "Ecuador                6298651.0    7278866.0    8365850.0    9545158.0   \n",
       "El Salvador            3790903.0    4282586.0    4474873.0    4842194.0   \n",
       "Guatemala              5149581.0    5703430.0    6395630.0    7326406.0   \n",
       "Haiti                  4698301.0    4908554.0    5198399.0    5756203.0   \n",
       "Honduras               2965146.0    3055235.0    3669448.0    4372203.0   \n",
       "Jamaica                1997616.0    2156814.0    2298309.0    2326606.0   \n",
       "Mexico                55984294.0   63759976.0   71640904.0   80122492.0   \n",
       "Nicaragua              2182908.0    2554598.0    2979423.0    3344353.0   \n",
       "Panama                 1616384.0    1839782.0    2036305.0    2253639.0   \n",
       "Paraguay               2614104.0    2984494.0    3366439.0    3886512.0   \n",
       "Peru                  13954700.0   15990099.0   18125129.0   20195924.0   \n",
       "Trinidad and Tobago     975199.0    1039009.0    1116479.0    1191336.0   \n",
       "United States        209896000.0  220239000.0  232187835.0  242803533.0   \n",
       "Uruguay                2829526.0    2873520.0    2953997.0    3045153.0   \n",
       "Venezuela             11515649.0   13503563.0   15620766.0   17910182.0   \n",
       "\n",
       "                        pop_1992     pop_1997   pop_2002   pop_2007  \n",
       "country                                                              \n",
       "Argentina             33958947.0   36203463.0   38331121   40301927  \n",
       "Bolivia                6893451.0    7693188.0    8445134    9119152  \n",
       "Brazil               155975974.0  168546719.0  179914212  190010647  \n",
       "Canada                28523502.0   30305843.0   31902268   33390141  \n",
       "Chile                 13572994.0   14599929.0   15497046   16284741  \n",
       "Colombia              34202721.0   37657830.0   41008227   44227550  \n",
       "Costa Rica             3173216.0    3518107.0    3834934    4133884  \n",
       "Cuba                  10723260.0   10983007.0   11226999   11416987  \n",
       "Dominican Republic     7351181.0    7992357.0    8650322    9319622  \n",
       "Ecuador               10748394.0   11911819.0   12921234   13755680  \n",
       "El Salvador            5274649.0    5783439.0    6353681    6939688  \n",
       "Guatemala              8486949.0    9803875.0   11178650   12572928  \n",
       "Haiti                  6326682.0    6913545.0    7607651    8502814  \n",
       "Honduras               5077347.0    5867957.0    6677328    7483763  \n",
       "Jamaica                2378618.0    2531311.0    2664659    2780132  \n",
       "Mexico                88111030.0   95895146.0  102479927  108700891  \n",
       "Nicaragua              4017939.0    4609572.0    5146848    5675356  \n",
       "Panama                 2484997.0    2734531.0    2990875    3242173  \n",
       "Paraguay               4483945.0    5154123.0    5884491    6667147  \n",
       "Peru                  22430449.0   24748122.0   26769436   28674757  \n",
       "Trinidad and Tobago    1183669.0    1138101.0    1101832    1056608  \n",
       "United States        256894189.0  272911760.0  287675526  301139947  \n",
       "Uruguay                3149262.0    3262838.0    3363085    3447496  \n",
       "Venezuela             20265563.0   22374398.0   24287670   26084662  \n",
       "\n",
       "[24 rows x 36 columns]"
      ]
     },
     "execution_count": 53,
     "metadata": {},
     "output_type": "execute_result"
    }
   ],
   "source": [
    "df1= pd.read_csv('data/gapminder_all.csv', index_col = 'country')\n",
    "df2 = df1[df1['continent']== 'Americas']\n",
    "df3 = df2.drop('Puerto Rico')\n",
    "df4 = df3.drop('continent', axis = 1)\n",
    "df4.to_csv('result.csv')\n",
    "df4"
   ]
  },
  {
   "cell_type": "markdown",
   "id": "88937e34",
   "metadata": {},
   "source": [
    "## Selecting Indices\n",
    "\n",
    "Explain in simple terms what `idxmin` and `idxmax` do. When would you use these methods?\n",
    "\n",
    "~~~python\n",
    "data = pd.read_csv('data/gapminder_gdp_europe.csv', index_col='country')\n",
    "data.idxmin()\n",
    "~~~"
   ]
  },
  {
   "cell_type": "code",
   "execution_count": 54,
   "id": "b759801b",
   "metadata": {},
   "outputs": [
    {
     "data": {
      "application/vnd.microsoft.datawrangler.viewer.v0+json": {
       "columns": [
        {
         "name": "index",
         "rawType": "object",
         "type": "string"
        },
        {
         "name": "0",
         "rawType": "object",
         "type": "string"
        }
       ],
       "ref": "af4ad565-f32f-41ff-bef3-c30c0a6e13b2",
       "rows": [
        [
         "gdpPercap_1952",
         "Bosnia and Herzegovina"
        ],
        [
         "gdpPercap_1957",
         "Bosnia and Herzegovina"
        ],
        [
         "gdpPercap_1962",
         "Bosnia and Herzegovina"
        ],
        [
         "gdpPercap_1967",
         "Bosnia and Herzegovina"
        ],
        [
         "gdpPercap_1972",
         "Bosnia and Herzegovina"
        ],
        [
         "gdpPercap_1977",
         "Bosnia and Herzegovina"
        ],
        [
         "gdpPercap_1982",
         "Albania"
        ],
        [
         "gdpPercap_1987",
         "Albania"
        ],
        [
         "gdpPercap_1992",
         "Albania"
        ],
        [
         "gdpPercap_1997",
         "Albania"
        ],
        [
         "gdpPercap_2002",
         "Albania"
        ],
        [
         "gdpPercap_2007",
         "Albania"
        ]
       ],
       "shape": {
        "columns": 1,
        "rows": 12
       }
      },
      "text/plain": [
       "gdpPercap_1952    Bosnia and Herzegovina\n",
       "gdpPercap_1957    Bosnia and Herzegovina\n",
       "gdpPercap_1962    Bosnia and Herzegovina\n",
       "gdpPercap_1967    Bosnia and Herzegovina\n",
       "gdpPercap_1972    Bosnia and Herzegovina\n",
       "gdpPercap_1977    Bosnia and Herzegovina\n",
       "gdpPercap_1982                   Albania\n",
       "gdpPercap_1987                   Albania\n",
       "gdpPercap_1992                   Albania\n",
       "gdpPercap_1997                   Albania\n",
       "gdpPercap_2002                   Albania\n",
       "gdpPercap_2007                   Albania\n",
       "dtype: object"
      ]
     },
     "execution_count": 54,
     "metadata": {},
     "output_type": "execute_result"
    }
   ],
   "source": [
    "data = pd.read_csv('data/gapminder_gdp_europe.csv', index_col = 'country')\n",
    "data.idxmin()"
   ]
  },
  {
   "cell_type": "markdown",
   "id": "45f674b8",
   "metadata": {},
   "source": [
    "~~~python\n",
    "data.idxmax()\n",
    "~~~"
   ]
  },
  {
   "cell_type": "code",
   "execution_count": 55,
   "id": "4d858993",
   "metadata": {},
   "outputs": [
    {
     "data": {
      "application/vnd.microsoft.datawrangler.viewer.v0+json": {
       "columns": [
        {
         "name": "index",
         "rawType": "object",
         "type": "string"
        },
        {
         "name": "0",
         "rawType": "object",
         "type": "string"
        }
       ],
       "ref": "323865dd-4e12-4f5e-bdf3-d76f37450157",
       "rows": [
        [
         "gdpPercap_1952",
         "Switzerland"
        ],
        [
         "gdpPercap_1957",
         "Switzerland"
        ],
        [
         "gdpPercap_1962",
         "Switzerland"
        ],
        [
         "gdpPercap_1967",
         "Switzerland"
        ],
        [
         "gdpPercap_1972",
         "Switzerland"
        ],
        [
         "gdpPercap_1977",
         "Switzerland"
        ],
        [
         "gdpPercap_1982",
         "Switzerland"
        ],
        [
         "gdpPercap_1987",
         "Norway"
        ],
        [
         "gdpPercap_1992",
         "Norway"
        ],
        [
         "gdpPercap_1997",
         "Norway"
        ],
        [
         "gdpPercap_2002",
         "Norway"
        ],
        [
         "gdpPercap_2007",
         "Norway"
        ]
       ],
       "shape": {
        "columns": 1,
        "rows": 12
       }
      },
      "text/plain": [
       "gdpPercap_1952    Switzerland\n",
       "gdpPercap_1957    Switzerland\n",
       "gdpPercap_1962    Switzerland\n",
       "gdpPercap_1967    Switzerland\n",
       "gdpPercap_1972    Switzerland\n",
       "gdpPercap_1977    Switzerland\n",
       "gdpPercap_1982    Switzerland\n",
       "gdpPercap_1987         Norway\n",
       "gdpPercap_1992         Norway\n",
       "gdpPercap_1997         Norway\n",
       "gdpPercap_2002         Norway\n",
       "gdpPercap_2007         Norway\n",
       "dtype: object"
      ]
     },
     "execution_count": 55,
     "metadata": {},
     "output_type": "execute_result"
    }
   ],
   "source": [
    "data.idxmax()"
   ]
  },
  {
   "cell_type": "markdown",
   "id": "c104d262",
   "metadata": {},
   "source": [
    "## Practice with Selection\n",
    "\n",
    "From the previous exercise, the Gapminder GDP data for Europe should be loaded in as `data`. Using this DataFrame, write an expression to select each of the following:\n",
    "\n",
    "- GDP per capita for all countries in 1982"
   ]
  },
  {
   "cell_type": "code",
   "execution_count": 58,
   "id": "49514949-9fea-4f26-b957-74bb0421f38e",
   "metadata": {},
   "outputs": [
    {
     "data": {
      "application/vnd.microsoft.datawrangler.viewer.v0+json": {
       "columns": [
        {
         "name": "country",
         "rawType": "object",
         "type": "string"
        },
        {
         "name": "gdpPercap_1982",
         "rawType": "float64",
         "type": "float"
        }
       ],
       "ref": "82f1fd92-e8b6-4f84-aca9-5e34df9d84ae",
       "rows": [
        [
         "Albania",
         "3630.880722"
        ],
        [
         "Austria",
         "21597.08362"
        ],
        [
         "Belgium",
         "20979.84589"
        ],
        [
         "Bosnia and Herzegovina",
         "4126.613157"
        ],
        [
         "Bulgaria",
         "8224.191647"
        ],
        [
         "Croatia",
         "13221.82184"
        ],
        [
         "Czech Republic",
         "15377.22855"
        ],
        [
         "Denmark",
         "21688.04048"
        ],
        [
         "Finland",
         "18533.15761"
        ],
        [
         "France",
         "20293.89746"
        ],
        [
         "Germany",
         "22031.53274"
        ],
        [
         "Greece",
         "15268.42089"
        ],
        [
         "Hungary",
         "12545.99066"
        ],
        [
         "Iceland",
         "23269.6075"
        ],
        [
         "Ireland",
         "12618.32141"
        ],
        [
         "Italy",
         "16537.4835"
        ],
        [
         "Montenegro",
         "11222.58762"
        ],
        [
         "Netherlands",
         "21399.46046"
        ],
        [
         "Norway",
         "26298.63531"
        ],
        [
         "Poland",
         "8451.531004"
        ],
        [
         "Portugal",
         "11753.84291"
        ],
        [
         "Romania",
         "9605.314053"
        ],
        [
         "Serbia",
         "15181.0927"
        ],
        [
         "Slovak Republic",
         "11348.54585"
        ],
        [
         "Slovenia",
         "17866.72175"
        ],
        [
         "Spain",
         "13926.16997"
        ],
        [
         "Sweden",
         "20667.38125"
        ],
        [
         "Switzerland",
         "28397.71512"
        ],
        [
         "Turkey",
         "4241.356344"
        ],
        [
         "United Kingdom",
         "18232.42452"
        ]
       ],
       "shape": {
        "columns": 1,
        "rows": 30
       }
      },
      "text/plain": [
       "country\n",
       "Albania                    3630.880722\n",
       "Austria                   21597.083620\n",
       "Belgium                   20979.845890\n",
       "Bosnia and Herzegovina     4126.613157\n",
       "Bulgaria                   8224.191647\n",
       "Croatia                   13221.821840\n",
       "Czech Republic            15377.228550\n",
       "Denmark                   21688.040480\n",
       "Finland                   18533.157610\n",
       "France                    20293.897460\n",
       "Germany                   22031.532740\n",
       "Greece                    15268.420890\n",
       "Hungary                   12545.990660\n",
       "Iceland                   23269.607500\n",
       "Ireland                   12618.321410\n",
       "Italy                     16537.483500\n",
       "Montenegro                11222.587620\n",
       "Netherlands               21399.460460\n",
       "Norway                    26298.635310\n",
       "Poland                     8451.531004\n",
       "Portugal                  11753.842910\n",
       "Romania                    9605.314053\n",
       "Serbia                    15181.092700\n",
       "Slovak Republic           11348.545850\n",
       "Slovenia                  17866.721750\n",
       "Spain                     13926.169970\n",
       "Sweden                    20667.381250\n",
       "Switzerland               28397.715120\n",
       "Turkey                     4241.356344\n",
       "United Kingdom            18232.424520\n",
       "Name: gdpPercap_1982, dtype: float64"
      ]
     },
     "execution_count": 58,
     "metadata": {},
     "output_type": "execute_result"
    }
   ],
   "source": [
    "df['gdpPercap_1982']"
   ]
  },
  {
   "cell_type": "markdown",
   "id": "1ea0161c",
   "metadata": {},
   "source": [
    "- GDP per capita for Denmark for all years"
   ]
  },
  {
   "cell_type": "code",
   "execution_count": 60,
   "id": "80a93f9a-5a2e-4eeb-84d9-0fb3ceef8da8",
   "metadata": {},
   "outputs": [
    {
     "data": {
      "application/vnd.microsoft.datawrangler.viewer.v0+json": {
       "columns": [
        {
         "name": "index",
         "rawType": "object",
         "type": "string"
        },
        {
         "name": "Denmark",
         "rawType": "object",
         "type": "unknown"
        }
       ],
       "ref": "2354a11f-8a13-4e19-b331-d086f39e812c",
       "rows": [
        [
         "gdpPercap_1952",
         "9692.385245"
        ],
        [
         "gdpPercap_1957",
         "11099.65935"
        ],
        [
         "gdpPercap_1962",
         "13583.31351"
        ],
        [
         "gdpPercap_1967",
         "15937.21123"
        ],
        [
         "gdpPercap_1972",
         "18866.20721"
        ],
        [
         "gdpPercap_1977",
         "20422.9015"
        ],
        [
         "gdpPercap_1982",
         "21688.04048"
        ],
        [
         "gdpPercap_1987",
         "25116.17581"
        ],
        [
         "gdpPercap_1992",
         "26406.73985"
        ],
        [
         "gdpPercap_1997",
         "29804.34567"
        ],
        [
         "gdpPercap_2002",
         "32166.50006"
        ],
        [
         "gdpPercap_2007",
         "35278.41874"
        ],
        [
         "region",
         "northern"
        ]
       ],
       "shape": {
        "columns": 1,
        "rows": 13
       }
      },
      "text/plain": [
       "gdpPercap_1952    9692.385245\n",
       "gdpPercap_1957    11099.65935\n",
       "gdpPercap_1962    13583.31351\n",
       "gdpPercap_1967    15937.21123\n",
       "gdpPercap_1972    18866.20721\n",
       "gdpPercap_1977     20422.9015\n",
       "gdpPercap_1982    21688.04048\n",
       "gdpPercap_1987    25116.17581\n",
       "gdpPercap_1992    26406.73985\n",
       "gdpPercap_1997    29804.34567\n",
       "gdpPercap_2002    32166.50006\n",
       "gdpPercap_2007    35278.41874\n",
       "region               northern\n",
       "Name: Denmark, dtype: object"
      ]
     },
     "execution_count": 60,
     "metadata": {},
     "output_type": "execute_result"
    }
   ],
   "source": [
    "df.loc['Denmark']"
   ]
  },
  {
   "cell_type": "markdown",
   "id": "c7cce2bf",
   "metadata": {},
   "source": [
    "- GDP per capita for all countries for years *after* 1985"
   ]
  },
  {
   "cell_type": "code",
   "execution_count": 63,
   "id": "6936d916-0ba1-4e13-84a0-cf319d77b69e",
   "metadata": {},
   "outputs": [
    {
     "data": {
      "application/vnd.microsoft.datawrangler.viewer.v0+json": {
       "columns": [
        {
         "name": "country",
         "rawType": "object",
         "type": "string"
        },
        {
         "name": "gdpPercap_1987",
         "rawType": "float64",
         "type": "float"
        },
        {
         "name": "gdpPercap_1992",
         "rawType": "float64",
         "type": "float"
        },
        {
         "name": "gdpPercap_1997",
         "rawType": "float64",
         "type": "float"
        },
        {
         "name": "gdpPercap_2002",
         "rawType": "float64",
         "type": "float"
        },
        {
         "name": "gdpPercap_2007",
         "rawType": "float64",
         "type": "float"
        },
        {
         "name": "region",
         "rawType": "object",
         "type": "unknown"
        }
       ],
       "ref": "ee9e6200-6f9f-4831-81c8-e30209403de0",
       "rows": [
        [
         "Albania",
         "3738.932735",
         "2497.437901",
         "3193.054604",
         "4604.211737",
         "5937.029526",
         "eastern"
        ],
        [
         "Austria",
         "23687.82607",
         "27042.01868",
         "29095.92066",
         "32417.60769",
         "36126.4927",
         "western"
        ],
        [
         "Belgium",
         "22525.56308",
         "25575.57069",
         "27561.19663",
         "30485.88375",
         "33692.60508",
         "western"
        ],
        [
         "Bosnia and Herzegovina",
         "4314.114757",
         "2546.781445",
         "4766.355904",
         "6018.975239",
         "7446.298803",
         null
        ],
        [
         "Bulgaria",
         "8239.854824",
         "6302.623438",
         "5970.38876",
         "7696.777725",
         "10680.79282",
         "eastern"
        ],
        [
         "Croatia",
         "13822.58394",
         "8447.794873",
         "9875.604515",
         "11628.38895",
         "14619.22272",
         "eastern"
        ],
        [
         "Czech Republic",
         "16310.4434",
         "14297.02122",
         "16048.51424",
         "17596.21022",
         "22833.30851",
         "eastern"
        ],
        [
         "Denmark",
         "25116.17581",
         "26406.73985",
         "29804.34567",
         "32166.50006",
         "35278.41874",
         "northern"
        ],
        [
         "Finland",
         "21141.01223",
         "20647.16499",
         "23723.9502",
         "28204.59057",
         "33207.0844",
         "northern"
        ],
        [
         "France",
         "22066.44214",
         "24703.79615",
         "25889.78487",
         "28926.03234",
         "30470.0167",
         "western"
        ],
        [
         "Germany",
         "24639.18566",
         "26505.30317",
         "27788.88416",
         "30035.80198",
         "32170.37442",
         "western"
        ],
        [
         "Greece",
         "16120.52839",
         "17541.49634",
         "18747.69814",
         "22514.2548",
         "27538.41188",
         "sourthern"
        ],
        [
         "Hungary",
         "12986.47998",
         "10535.62855",
         "11712.7768",
         "14843.93556",
         "18008.94444",
         "eastern"
        ],
        [
         "Iceland",
         "26923.20628",
         "25144.39201",
         "28061.09966",
         "31163.20196",
         "36180.78919",
         "northern"
        ],
        [
         "Ireland",
         "13872.86652",
         "17558.81555",
         "24521.94713",
         "34077.04939",
         "40675.99635",
         "western"
        ],
        [
         "Italy",
         "19207.23482",
         "22013.64486",
         "24675.02446",
         "27968.09817",
         "28569.7197",
         "sourthern"
        ],
        [
         "Montenegro",
         "11732.51017",
         "7003.339037",
         "6465.613349",
         "6557.194282",
         "9253.896111",
         "eastern"
        ],
        [
         "Netherlands",
         "23651.32361",
         "26790.94961",
         "30246.13063",
         "33724.75778",
         "36797.93332",
         "western"
        ],
        [
         "Norway",
         "31540.9748",
         "33965.66115",
         "41283.16433",
         "44683.97525",
         "49357.19017",
         "northern"
        ],
        [
         "Poland",
         "9082.351172",
         "7738.881247",
         "10159.58368",
         "12002.23908",
         "15389.92468",
         "eastern"
        ],
        [
         "Portugal",
         "13039.30876",
         "16207.26663",
         "17641.03156",
         "19970.90787",
         "20509.64777",
         "sourthern"
        ],
        [
         "Romania",
         "9696.273295",
         "6598.409903",
         "7346.547557",
         "7885.360081",
         "10808.47561",
         "eastern"
        ],
        [
         "Serbia",
         "15870.87851",
         "9325.068238",
         "7914.320304",
         "7236.075251",
         "9786.534714",
         "eastern"
        ],
        [
         "Slovak Republic",
         "12037.26758",
         "9498.467723",
         "12126.23065",
         "13638.77837",
         "18678.31435",
         "eastern"
        ],
        [
         "Slovenia",
         "18678.53492",
         "14214.71681",
         "17161.10735",
         "20660.01936",
         "25768.25759",
         "eastern"
        ],
        [
         "Spain",
         "15764.98313",
         "18603.06452",
         "20445.29896",
         "24835.47166",
         "28821.0637",
         "sourthern"
        ],
        [
         "Sweden",
         "23586.92927",
         "23880.01683",
         "25266.59499",
         "29341.63093",
         "33859.74835",
         "northern"
        ],
        [
         "Switzerland",
         "30281.70459",
         "31871.5303",
         "32135.32301",
         "34480.95771",
         "37506.41907",
         "western"
        ],
        [
         "Turkey",
         "5089.043686",
         "5678.348271",
         "6601.429915",
         "6508.085718",
         "8458.276384",
         null
        ],
        [
         "United Kingdom",
         "21664.78767",
         "22705.09254",
         "26074.53136",
         "29478.99919",
         "33203.26128",
         "western"
        ]
       ],
       "shape": {
        "columns": 6,
        "rows": 30
       }
      },
      "text/html": [
       "<div>\n",
       "<style scoped>\n",
       "    .dataframe tbody tr th:only-of-type {\n",
       "        vertical-align: middle;\n",
       "    }\n",
       "\n",
       "    .dataframe tbody tr th {\n",
       "        vertical-align: top;\n",
       "    }\n",
       "\n",
       "    .dataframe thead th {\n",
       "        text-align: right;\n",
       "    }\n",
       "</style>\n",
       "<table border=\"1\" class=\"dataframe\">\n",
       "  <thead>\n",
       "    <tr style=\"text-align: right;\">\n",
       "      <th></th>\n",
       "      <th>gdpPercap_1987</th>\n",
       "      <th>gdpPercap_1992</th>\n",
       "      <th>gdpPercap_1997</th>\n",
       "      <th>gdpPercap_2002</th>\n",
       "      <th>gdpPercap_2007</th>\n",
       "      <th>region</th>\n",
       "    </tr>\n",
       "    <tr>\n",
       "      <th>country</th>\n",
       "      <th></th>\n",
       "      <th></th>\n",
       "      <th></th>\n",
       "      <th></th>\n",
       "      <th></th>\n",
       "      <th></th>\n",
       "    </tr>\n",
       "  </thead>\n",
       "  <tbody>\n",
       "    <tr>\n",
       "      <th>Albania</th>\n",
       "      <td>3738.932735</td>\n",
       "      <td>2497.437901</td>\n",
       "      <td>3193.054604</td>\n",
       "      <td>4604.211737</td>\n",
       "      <td>5937.029526</td>\n",
       "      <td>eastern</td>\n",
       "    </tr>\n",
       "    <tr>\n",
       "      <th>Austria</th>\n",
       "      <td>23687.826070</td>\n",
       "      <td>27042.018680</td>\n",
       "      <td>29095.920660</td>\n",
       "      <td>32417.607690</td>\n",
       "      <td>36126.492700</td>\n",
       "      <td>western</td>\n",
       "    </tr>\n",
       "    <tr>\n",
       "      <th>Belgium</th>\n",
       "      <td>22525.563080</td>\n",
       "      <td>25575.570690</td>\n",
       "      <td>27561.196630</td>\n",
       "      <td>30485.883750</td>\n",
       "      <td>33692.605080</td>\n",
       "      <td>western</td>\n",
       "    </tr>\n",
       "    <tr>\n",
       "      <th>Bosnia and Herzegovina</th>\n",
       "      <td>4314.114757</td>\n",
       "      <td>2546.781445</td>\n",
       "      <td>4766.355904</td>\n",
       "      <td>6018.975239</td>\n",
       "      <td>7446.298803</td>\n",
       "      <td>NaN</td>\n",
       "    </tr>\n",
       "    <tr>\n",
       "      <th>Bulgaria</th>\n",
       "      <td>8239.854824</td>\n",
       "      <td>6302.623438</td>\n",
       "      <td>5970.388760</td>\n",
       "      <td>7696.777725</td>\n",
       "      <td>10680.792820</td>\n",
       "      <td>eastern</td>\n",
       "    </tr>\n",
       "    <tr>\n",
       "      <th>Croatia</th>\n",
       "      <td>13822.583940</td>\n",
       "      <td>8447.794873</td>\n",
       "      <td>9875.604515</td>\n",
       "      <td>11628.388950</td>\n",
       "      <td>14619.222720</td>\n",
       "      <td>eastern</td>\n",
       "    </tr>\n",
       "    <tr>\n",
       "      <th>Czech Republic</th>\n",
       "      <td>16310.443400</td>\n",
       "      <td>14297.021220</td>\n",
       "      <td>16048.514240</td>\n",
       "      <td>17596.210220</td>\n",
       "      <td>22833.308510</td>\n",
       "      <td>eastern</td>\n",
       "    </tr>\n",
       "    <tr>\n",
       "      <th>Denmark</th>\n",
       "      <td>25116.175810</td>\n",
       "      <td>26406.739850</td>\n",
       "      <td>29804.345670</td>\n",
       "      <td>32166.500060</td>\n",
       "      <td>35278.418740</td>\n",
       "      <td>northern</td>\n",
       "    </tr>\n",
       "    <tr>\n",
       "      <th>Finland</th>\n",
       "      <td>21141.012230</td>\n",
       "      <td>20647.164990</td>\n",
       "      <td>23723.950200</td>\n",
       "      <td>28204.590570</td>\n",
       "      <td>33207.084400</td>\n",
       "      <td>northern</td>\n",
       "    </tr>\n",
       "    <tr>\n",
       "      <th>France</th>\n",
       "      <td>22066.442140</td>\n",
       "      <td>24703.796150</td>\n",
       "      <td>25889.784870</td>\n",
       "      <td>28926.032340</td>\n",
       "      <td>30470.016700</td>\n",
       "      <td>western</td>\n",
       "    </tr>\n",
       "    <tr>\n",
       "      <th>Germany</th>\n",
       "      <td>24639.185660</td>\n",
       "      <td>26505.303170</td>\n",
       "      <td>27788.884160</td>\n",
       "      <td>30035.801980</td>\n",
       "      <td>32170.374420</td>\n",
       "      <td>western</td>\n",
       "    </tr>\n",
       "    <tr>\n",
       "      <th>Greece</th>\n",
       "      <td>16120.528390</td>\n",
       "      <td>17541.496340</td>\n",
       "      <td>18747.698140</td>\n",
       "      <td>22514.254800</td>\n",
       "      <td>27538.411880</td>\n",
       "      <td>sourthern</td>\n",
       "    </tr>\n",
       "    <tr>\n",
       "      <th>Hungary</th>\n",
       "      <td>12986.479980</td>\n",
       "      <td>10535.628550</td>\n",
       "      <td>11712.776800</td>\n",
       "      <td>14843.935560</td>\n",
       "      <td>18008.944440</td>\n",
       "      <td>eastern</td>\n",
       "    </tr>\n",
       "    <tr>\n",
       "      <th>Iceland</th>\n",
       "      <td>26923.206280</td>\n",
       "      <td>25144.392010</td>\n",
       "      <td>28061.099660</td>\n",
       "      <td>31163.201960</td>\n",
       "      <td>36180.789190</td>\n",
       "      <td>northern</td>\n",
       "    </tr>\n",
       "    <tr>\n",
       "      <th>Ireland</th>\n",
       "      <td>13872.866520</td>\n",
       "      <td>17558.815550</td>\n",
       "      <td>24521.947130</td>\n",
       "      <td>34077.049390</td>\n",
       "      <td>40675.996350</td>\n",
       "      <td>western</td>\n",
       "    </tr>\n",
       "    <tr>\n",
       "      <th>Italy</th>\n",
       "      <td>19207.234820</td>\n",
       "      <td>22013.644860</td>\n",
       "      <td>24675.024460</td>\n",
       "      <td>27968.098170</td>\n",
       "      <td>28569.719700</td>\n",
       "      <td>sourthern</td>\n",
       "    </tr>\n",
       "    <tr>\n",
       "      <th>Montenegro</th>\n",
       "      <td>11732.510170</td>\n",
       "      <td>7003.339037</td>\n",
       "      <td>6465.613349</td>\n",
       "      <td>6557.194282</td>\n",
       "      <td>9253.896111</td>\n",
       "      <td>eastern</td>\n",
       "    </tr>\n",
       "    <tr>\n",
       "      <th>Netherlands</th>\n",
       "      <td>23651.323610</td>\n",
       "      <td>26790.949610</td>\n",
       "      <td>30246.130630</td>\n",
       "      <td>33724.757780</td>\n",
       "      <td>36797.933320</td>\n",
       "      <td>western</td>\n",
       "    </tr>\n",
       "    <tr>\n",
       "      <th>Norway</th>\n",
       "      <td>31540.974800</td>\n",
       "      <td>33965.661150</td>\n",
       "      <td>41283.164330</td>\n",
       "      <td>44683.975250</td>\n",
       "      <td>49357.190170</td>\n",
       "      <td>northern</td>\n",
       "    </tr>\n",
       "    <tr>\n",
       "      <th>Poland</th>\n",
       "      <td>9082.351172</td>\n",
       "      <td>7738.881247</td>\n",
       "      <td>10159.583680</td>\n",
       "      <td>12002.239080</td>\n",
       "      <td>15389.924680</td>\n",
       "      <td>eastern</td>\n",
       "    </tr>\n",
       "    <tr>\n",
       "      <th>Portugal</th>\n",
       "      <td>13039.308760</td>\n",
       "      <td>16207.266630</td>\n",
       "      <td>17641.031560</td>\n",
       "      <td>19970.907870</td>\n",
       "      <td>20509.647770</td>\n",
       "      <td>sourthern</td>\n",
       "    </tr>\n",
       "    <tr>\n",
       "      <th>Romania</th>\n",
       "      <td>9696.273295</td>\n",
       "      <td>6598.409903</td>\n",
       "      <td>7346.547557</td>\n",
       "      <td>7885.360081</td>\n",
       "      <td>10808.475610</td>\n",
       "      <td>eastern</td>\n",
       "    </tr>\n",
       "    <tr>\n",
       "      <th>Serbia</th>\n",
       "      <td>15870.878510</td>\n",
       "      <td>9325.068238</td>\n",
       "      <td>7914.320304</td>\n",
       "      <td>7236.075251</td>\n",
       "      <td>9786.534714</td>\n",
       "      <td>eastern</td>\n",
       "    </tr>\n",
       "    <tr>\n",
       "      <th>Slovak Republic</th>\n",
       "      <td>12037.267580</td>\n",
       "      <td>9498.467723</td>\n",
       "      <td>12126.230650</td>\n",
       "      <td>13638.778370</td>\n",
       "      <td>18678.314350</td>\n",
       "      <td>eastern</td>\n",
       "    </tr>\n",
       "    <tr>\n",
       "      <th>Slovenia</th>\n",
       "      <td>18678.534920</td>\n",
       "      <td>14214.716810</td>\n",
       "      <td>17161.107350</td>\n",
       "      <td>20660.019360</td>\n",
       "      <td>25768.257590</td>\n",
       "      <td>eastern</td>\n",
       "    </tr>\n",
       "    <tr>\n",
       "      <th>Spain</th>\n",
       "      <td>15764.983130</td>\n",
       "      <td>18603.064520</td>\n",
       "      <td>20445.298960</td>\n",
       "      <td>24835.471660</td>\n",
       "      <td>28821.063700</td>\n",
       "      <td>sourthern</td>\n",
       "    </tr>\n",
       "    <tr>\n",
       "      <th>Sweden</th>\n",
       "      <td>23586.929270</td>\n",
       "      <td>23880.016830</td>\n",
       "      <td>25266.594990</td>\n",
       "      <td>29341.630930</td>\n",
       "      <td>33859.748350</td>\n",
       "      <td>northern</td>\n",
       "    </tr>\n",
       "    <tr>\n",
       "      <th>Switzerland</th>\n",
       "      <td>30281.704590</td>\n",
       "      <td>31871.530300</td>\n",
       "      <td>32135.323010</td>\n",
       "      <td>34480.957710</td>\n",
       "      <td>37506.419070</td>\n",
       "      <td>western</td>\n",
       "    </tr>\n",
       "    <tr>\n",
       "      <th>Turkey</th>\n",
       "      <td>5089.043686</td>\n",
       "      <td>5678.348271</td>\n",
       "      <td>6601.429915</td>\n",
       "      <td>6508.085718</td>\n",
       "      <td>8458.276384</td>\n",
       "      <td>NaN</td>\n",
       "    </tr>\n",
       "    <tr>\n",
       "      <th>United Kingdom</th>\n",
       "      <td>21664.787670</td>\n",
       "      <td>22705.092540</td>\n",
       "      <td>26074.531360</td>\n",
       "      <td>29478.999190</td>\n",
       "      <td>33203.261280</td>\n",
       "      <td>western</td>\n",
       "    </tr>\n",
       "  </tbody>\n",
       "</table>\n",
       "</div>"
      ],
      "text/plain": [
       "                        gdpPercap_1987  gdpPercap_1992  gdpPercap_1997  \\\n",
       "country                                                                  \n",
       "Albania                    3738.932735     2497.437901     3193.054604   \n",
       "Austria                   23687.826070    27042.018680    29095.920660   \n",
       "Belgium                   22525.563080    25575.570690    27561.196630   \n",
       "Bosnia and Herzegovina     4314.114757     2546.781445     4766.355904   \n",
       "Bulgaria                   8239.854824     6302.623438     5970.388760   \n",
       "Croatia                   13822.583940     8447.794873     9875.604515   \n",
       "Czech Republic            16310.443400    14297.021220    16048.514240   \n",
       "Denmark                   25116.175810    26406.739850    29804.345670   \n",
       "Finland                   21141.012230    20647.164990    23723.950200   \n",
       "France                    22066.442140    24703.796150    25889.784870   \n",
       "Germany                   24639.185660    26505.303170    27788.884160   \n",
       "Greece                    16120.528390    17541.496340    18747.698140   \n",
       "Hungary                   12986.479980    10535.628550    11712.776800   \n",
       "Iceland                   26923.206280    25144.392010    28061.099660   \n",
       "Ireland                   13872.866520    17558.815550    24521.947130   \n",
       "Italy                     19207.234820    22013.644860    24675.024460   \n",
       "Montenegro                11732.510170     7003.339037     6465.613349   \n",
       "Netherlands               23651.323610    26790.949610    30246.130630   \n",
       "Norway                    31540.974800    33965.661150    41283.164330   \n",
       "Poland                     9082.351172     7738.881247    10159.583680   \n",
       "Portugal                  13039.308760    16207.266630    17641.031560   \n",
       "Romania                    9696.273295     6598.409903     7346.547557   \n",
       "Serbia                    15870.878510     9325.068238     7914.320304   \n",
       "Slovak Republic           12037.267580     9498.467723    12126.230650   \n",
       "Slovenia                  18678.534920    14214.716810    17161.107350   \n",
       "Spain                     15764.983130    18603.064520    20445.298960   \n",
       "Sweden                    23586.929270    23880.016830    25266.594990   \n",
       "Switzerland               30281.704590    31871.530300    32135.323010   \n",
       "Turkey                     5089.043686     5678.348271     6601.429915   \n",
       "United Kingdom            21664.787670    22705.092540    26074.531360   \n",
       "\n",
       "                        gdpPercap_2002  gdpPercap_2007     region  \n",
       "country                                                            \n",
       "Albania                    4604.211737     5937.029526    eastern  \n",
       "Austria                   32417.607690    36126.492700    western  \n",
       "Belgium                   30485.883750    33692.605080    western  \n",
       "Bosnia and Herzegovina     6018.975239     7446.298803        NaN  \n",
       "Bulgaria                   7696.777725    10680.792820    eastern  \n",
       "Croatia                   11628.388950    14619.222720    eastern  \n",
       "Czech Republic            17596.210220    22833.308510    eastern  \n",
       "Denmark                   32166.500060    35278.418740   northern  \n",
       "Finland                   28204.590570    33207.084400   northern  \n",
       "France                    28926.032340    30470.016700    western  \n",
       "Germany                   30035.801980    32170.374420    western  \n",
       "Greece                    22514.254800    27538.411880  sourthern  \n",
       "Hungary                   14843.935560    18008.944440    eastern  \n",
       "Iceland                   31163.201960    36180.789190   northern  \n",
       "Ireland                   34077.049390    40675.996350    western  \n",
       "Italy                     27968.098170    28569.719700  sourthern  \n",
       "Montenegro                 6557.194282     9253.896111    eastern  \n",
       "Netherlands               33724.757780    36797.933320    western  \n",
       "Norway                    44683.975250    49357.190170   northern  \n",
       "Poland                    12002.239080    15389.924680    eastern  \n",
       "Portugal                  19970.907870    20509.647770  sourthern  \n",
       "Romania                    7885.360081    10808.475610    eastern  \n",
       "Serbia                     7236.075251     9786.534714    eastern  \n",
       "Slovak Republic           13638.778370    18678.314350    eastern  \n",
       "Slovenia                  20660.019360    25768.257590    eastern  \n",
       "Spain                     24835.471660    28821.063700  sourthern  \n",
       "Sweden                    29341.630930    33859.748350   northern  \n",
       "Switzerland               34480.957710    37506.419070    western  \n",
       "Turkey                     6508.085718     8458.276384        NaN  \n",
       "United Kingdom            29478.999190    33203.261280    western  "
      ]
     },
     "execution_count": 63,
     "metadata": {},
     "output_type": "execute_result"
    }
   ],
   "source": [
    "df.loc[:,'gdpPercap_1985':]"
   ]
  },
  {
   "cell_type": "markdown",
   "id": "c176b49a-1ea0-42a7-8756-880ebf59ead2",
   "metadata": {},
   "source": [
    "Note that pandas is smart enough to recognize the number at the end of the column label and does not give you an error, although no column named `gdpPercap_1985` actually exists. This is useful if new columns are added to the CSV file later."
   ]
  },
  {
   "cell_type": "markdown",
   "id": "6b319fc0",
   "metadata": {},
   "source": [
    "- GDP per capita for each country in 2007 as a multiple of GDP per capita for that country in 1952"
   ]
  },
  {
   "cell_type": "code",
   "execution_count": 64,
   "id": "4f419464-1b65-43ce-8313-3ebb7901f3cb",
   "metadata": {},
   "outputs": [
    {
     "data": {
      "application/vnd.microsoft.datawrangler.viewer.v0+json": {
       "columns": [
        {
         "name": "country",
         "rawType": "object",
         "type": "string"
        },
        {
         "name": "0",
         "rawType": "float64",
         "type": "float"
        }
       ],
       "ref": "03758ba2-88a3-48bd-9a84-080b3787b47d",
       "rows": [
        [
         "Albania",
         "3.708195729371978"
        ],
        [
         "Austria",
         "5.886596451436246"
        ],
        [
         "Belgium",
         "4.038377147012545"
        ],
        [
         "Bosnia and Herzegovina",
         "7.648736419850323"
        ],
        [
         "Bulgaria",
         "4.369697322013928"
        ],
        [
         "Croatia",
         "4.6867951905102725"
        ],
        [
         "Czech Republic",
         "3.3206577643613358"
        ],
        [
         "Denmark",
         "3.63980773032098"
        ],
        [
         "Finland",
         "5.168804704759199"
        ],
        [
         "France",
         "4.334401586536801"
        ],
        [
         "Germany",
         "4.503059812637018"
        ],
        [
         "Greece",
         "7.799725084167236"
        ],
        [
         "Hungary",
         "3.421364064250747"
        ],
        [
         "Iceland",
         "4.978307690050029"
        ],
        [
         "Ireland",
         "7.8068729107352555"
        ],
        [
         "Italy",
         "5.793424915504619"
        ],
        [
         "Montenegro",
         "3.4952207428174478"
        ],
        [
         "Netherlands",
         "4.11537634594716"
        ],
        [
         "Norway",
         "4.8890667016137295"
        ],
        [
         "Poland",
         "3.819475155835343"
        ],
        [
         "Portugal",
         "6.684325187403937"
        ],
        [
         "Romania",
         "3.4371399503506375"
        ],
        [
         "Serbia",
         "2.732554941942763"
        ],
        [
         "Slovak Republic",
         "3.6807032683785965"
        ],
        [
         "Slovenia",
         "6.113405079563126"
        ],
        [
         "Spain",
         "7.517162894816565"
        ],
        [
         "Sweden",
         "3.970493095503808"
        ],
        [
         "Switzerland",
         "2.545529156921999"
        ],
        [
         "Turkey",
         "4.295501586719032"
        ],
        [
         "United Kingdom",
         "3.327143949349096"
        ]
       ],
       "shape": {
        "columns": 1,
        "rows": 30
       }
      },
      "text/plain": [
       "country\n",
       "Albania                   3.708196\n",
       "Austria                   5.886596\n",
       "Belgium                   4.038377\n",
       "Bosnia and Herzegovina    7.648736\n",
       "Bulgaria                  4.369697\n",
       "Croatia                   4.686795\n",
       "Czech Republic            3.320658\n",
       "Denmark                   3.639808\n",
       "Finland                   5.168805\n",
       "France                    4.334402\n",
       "Germany                   4.503060\n",
       "Greece                    7.799725\n",
       "Hungary                   3.421364\n",
       "Iceland                   4.978308\n",
       "Ireland                   7.806873\n",
       "Italy                     5.793425\n",
       "Montenegro                3.495221\n",
       "Netherlands               4.115376\n",
       "Norway                    4.889067\n",
       "Poland                    3.819475\n",
       "Portugal                  6.684325\n",
       "Romania                   3.437140\n",
       "Serbia                    2.732555\n",
       "Slovak Republic           3.680703\n",
       "Slovenia                  6.113405\n",
       "Spain                     7.517163\n",
       "Sweden                    3.970493\n",
       "Switzerland               2.545529\n",
       "Turkey                    4.295502\n",
       "United Kingdom            3.327144\n",
       "dtype: float64"
      ]
     },
     "execution_count": 64,
     "metadata": {},
     "output_type": "execute_result"
    }
   ],
   "source": [
    "df.loc[:, 'gdpPercap_2007'] / df.loc[:, 'gdpPercap_1952']"
   ]
  },
  {
   "cell_type": "markdown",
   "id": "69fdf9ab",
   "metadata": {},
   "source": [
    "---\n",
    "# Summary of Key Points:\n",
    "- pandas DataFrames are a powerful way of storing and working with tabular (row/column) data\n",
    "- pandas columns and rows can have names\n",
    "- pandas row names are called *indexes* which are numeric by default, but can be given other labels\n",
    "- Use the `.iloc[]` method with a DataFrame to select values by integer location, using [row, column] format\n",
    "- Use the `.loc[]` method with a DataFrame to select rows and/or columns, using named slices\n",
    "- Use `:` on its own to mean all columns or all rows\n",
    "- Result of slicing can be used in further operations\n",
    "- Use comparisons to select data based on value\n",
    "- Select values or `NaN` using a Boolean mask\n",
    "- use split-apply-combine to derive analytics from groupings within a DataFrame"
   ]
  },
  {
   "cell_type": "markdown",
   "id": "bf019711",
   "metadata": {},
   "source": [
    "---\n",
    "This lesson is adapted from the [Software Carpentry](https://software-carpentry.org/lessons/) [Plotting and Programming in Python](http://swcarpentry.github.io/python-novice-gapminder/) workshop. "
   ]
  }
 ],
 "metadata": {
  "kernelspec": {
   "display_name": "Python 3",
   "language": "python",
   "name": "python3"
  },
  "language_info": {
   "codemirror_mode": {
    "name": "ipython",
    "version": 3
   },
   "file_extension": ".py",
   "mimetype": "text/x-python",
   "name": "python",
   "nbconvert_exporter": "python",
   "pygments_lexer": "ipython3",
   "version": "3.12.1"
  },
  "nteract": {
   "version": "0.28.0"
  }
 },
 "nbformat": 4,
 "nbformat_minor": 5
}
